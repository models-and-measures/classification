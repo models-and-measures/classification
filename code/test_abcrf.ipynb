{
 "cells": [
  {
   "cell_type": "code",
   "execution_count": 2,
   "metadata": {},
   "outputs": [
    {
     "data": {
      "text/html": [
       "'/Users/evergreen/Desktop/ABC'"
      ],
      "text/latex": [
       "'/Users/evergreen/Desktop/ABC'"
      ],
      "text/markdown": [
       "'/Users/evergreen/Desktop/ABC'"
      ],
      "text/plain": [
       "[1] \"/Users/evergreen/Desktop/ABC\""
      ]
     },
     "metadata": {},
     "output_type": "display_data"
    }
   ],
   "source": [
    "getwd()"
   ]
  },
  {
   "cell_type": "code",
   "execution_count": 3,
   "metadata": {},
   "outputs": [],
   "source": [
    "library(\"abcrf\")"
   ]
  },
  {
   "cell_type": "code",
   "execution_count": 4,
   "metadata": {
    "scrolled": true
   },
   "outputs": [
    {
     "data": {
      "text/plain": [
       "               _                           \n",
       "platform       x86_64-apple-darwin15.6.0   \n",
       "arch           x86_64                      \n",
       "os             darwin15.6.0                \n",
       "system         x86_64, darwin15.6.0        \n",
       "status                                     \n",
       "major          3                           \n",
       "minor          5.2                         \n",
       "year           2018                        \n",
       "month          12                          \n",
       "day            20                          \n",
       "svn rev        75870                       \n",
       "language       R                           \n",
       "version.string R version 3.5.2 (2018-12-20)\n",
       "nickname       Eggshell Igloo              "
      ]
     },
     "metadata": {},
     "output_type": "display_data"
    }
   ],
   "source": [
    "version"
   ]
  },
  {
   "cell_type": "code",
   "execution_count": 5,
   "metadata": {},
   "outputs": [
    {
     "data": {
      "text/html": [
       "'/Library/Frameworks/R.framework/Resources'"
      ],
      "text/latex": [
       "'/Library/Frameworks/R.framework/Resources'"
      ],
      "text/markdown": [
       "'/Library/Frameworks/R.framework/Resources'"
      ],
      "text/plain": [
       "[1] \"/Library/Frameworks/R.framework/Resources\""
      ]
     },
     "metadata": {},
     "output_type": "display_data"
    }
   ],
   "source": [
    "R.home() #using non-anaconda build, which is more stable"
   ]
  },
  {
   "cell_type": "code",
   "execution_count": 6,
   "metadata": {},
   "outputs": [
    {
     "data": {
      "text/html": [
       "<pre class=language-r><code>function (formula, data, group = list(), lda = TRUE, ntree = 500, \n",
       "<span style=white-space:pre-wrap>    sampsize = min(1e+05, nrow(data)), paral = FALSE, ncores = if (paral) max(detectCores() - </span>\n",
       "<span style=white-space:pre-wrap>        1, 1) else 1, ...) </span>\n",
       "{\n",
       "<span style=white-space:pre-wrap>    if (!inherits(formula, \"formula\")) </span>\n",
       "<span style=white-space:pre-wrap>        stop(\"abcrf.formula is only for formula objects\")</span>\n",
       "<span style=white-space:pre-wrap>    if (!inherits(data, \"data.frame\")) </span>\n",
       "<span style=white-space:pre-wrap>        stop(\"data needs to be a data.frame object\")</span>\n",
       "<span style=white-space:pre-wrap>    if (is.na(ncores)) {</span>\n",
       "<span style=white-space:pre-wrap>        warning(\"Unable to automatically detect the number of CPU cores, \\n1 CPU core will be used or please specify ncores.\")</span>\n",
       "<span style=white-space:pre-wrap>        ncores &lt;- 1</span>\n",
       "<span style=white-space:pre-wrap>    }</span>\n",
       "<span style=white-space:pre-wrap>    if ((!is.logical(paral)) || (length(paral) != 1L)) </span>\n",
       "<span style=white-space:pre-wrap>        stop(\"paral should be TRUE or FALSE\")</span>\n",
       "<span style=white-space:pre-wrap>    if (!is.list(group)) </span>\n",
       "<span style=white-space:pre-wrap>        stop(\"group needs to be a list\")</span>\n",
       "<span style=white-space:pre-wrap>    mf &lt;- match.call(expand.dots = FALSE)</span>\n",
       "<span style=white-space:pre-wrap>    m &lt;- match(c(\"formula\", \"data\"), names(mf))</span>\n",
       "<span style=white-space:pre-wrap>    mf &lt;- mf[c(1L, m)]</span>\n",
       "<span style=white-space:pre-wrap>    mf[[1L]] &lt;- as.name(\"model.frame\")</span>\n",
       "<span style=white-space:pre-wrap>    mf &lt;- eval(mf, parent.frame())</span>\n",
       "<span style=white-space:pre-wrap>    if (!is.factor(model.response(mf))) </span>\n",
       "<span style=white-space:pre-wrap>        stop(\"response should be a factor containing the model indexes\")</span>\n",
       "<span style=white-space:pre-wrap>    if (nrow(data) == 0L || is.null(nrow(data))) </span>\n",
       "<span style=white-space:pre-wrap>        stop(\"no simulation in the reference table (response, sumstat)\")</span>\n",
       "<span style=white-space:pre-wrap>    if ((!is.logical(lda)) &amp;&amp; (length(lda) != 1L)) </span>\n",
       "<span style=white-space:pre-wrap>        stop(\"lda should be TRUE or FALSE\")</span>\n",
       "<span style=white-space:pre-wrap>    if (length(group) != 0) {</span>\n",
       "<span style=white-space:pre-wrap>        ngroup &lt;- length(group)</span>\n",
       "<span style=white-space:pre-wrap>        varn &lt;- formula[[2]]</span>\n",
       "<span style=white-space:pre-wrap>        data[[as.character(varn)]] &lt;- as.vector(data[[as.character(varn)]])</span>\n",
       "<span style=white-space:pre-wrap>        allmod &lt;- unique(data[[as.character(varn)]])</span>\n",
       "<span style=white-space:pre-wrap>        for (k in 1:ngroup) for (l in 1:length(group[[k]])) data[[as.character(varn)]][which(data[[as.character(varn)]] == </span>\n",
       "<span style=white-space:pre-wrap>            group[[k]][l])] &lt;- paste(\"g\", k, sep = \"\")</span>\n",
       "<span style=white-space:pre-wrap>        if (!setequal(allmod, unlist(group))) {</span>\n",
       "<span style=white-space:pre-wrap>            diffe &lt;- setdiff(allmod, unlist(group))</span>\n",
       "<span style=white-space:pre-wrap>            for (l in 1:length(diffe)) data &lt;- data[-which(data[[as.character(varn)]] == </span>\n",
       "<span style=white-space:pre-wrap>                diffe[l]), ]</span>\n",
       "<span style=white-space:pre-wrap>        }</span>\n",
       "<span style=white-space:pre-wrap>        data[[as.character(varn)]] &lt;- as.factor(data[[as.character(varn)]])</span>\n",
       "<span style=white-space:pre-wrap>    }</span>\n",
       "<span style=white-space:pre-wrap>    if (lda) {</span>\n",
       "<span style=white-space:pre-wrap>        model.lda &lt;- lda(formula, data)</span>\n",
       "<span style=white-space:pre-wrap>        data &lt;- cbind(data, as.matrix(predict(model.lda, data)$x))</span>\n",
       "<span style=white-space:pre-wrap>    }</span>\n",
       "<span style=white-space:pre-wrap>    else {</span>\n",
       "<span style=white-space:pre-wrap>        model.lda &lt;- NULL</span>\n",
       "<span style=white-space:pre-wrap>    }</span>\n",
       "<span style=white-space:pre-wrap>    m &lt;- names(match.call(expand.dots = TRUE))</span>\n",
       "<span style=white-space:pre-wrap>    if ((!\"sampsize\" %in% m) &amp;&amp; (nrow(data) &lt;= 15)) </span>\n",
       "<span style=white-space:pre-wrap>        sampsize &lt;- as.integer(sampsize/10)</span>\n",
       "<span style=white-space:pre-wrap>    if (sampsize &gt; nrow(data)) </span>\n",
       "<span style=white-space:pre-wrap>        stop(\"sampsize too large\")</span>\n",
       "<span style=white-space:pre-wrap>    model.rf &lt;- ranger(formula, data, num.trees = ntree, sample.fraction = sampsize/nrow(data), </span>\n",
       "<span style=white-space:pre-wrap>        num.threads = ncores, keep.inbag = TRUE, importance = \"impurity\", </span>\n",
       "<span style=white-space:pre-wrap>        ...)</span>\n",
       "<span style=white-space:pre-wrap>    class.error = vector()</span>\n",
       "<span style=white-space:pre-wrap>    for (i in 1:nrow(model.rf$confusion.matrix)) {</span>\n",
       "<span style=white-space:pre-wrap>        rowSum &lt;- sum(model.rf$confusion.matrix[i, ])</span>\n",
       "<span style=white-space:pre-wrap>        accurate &lt;- diag(model.rf$confusion.matrix)[i]</span>\n",
       "<span style=white-space:pre-wrap>        error &lt;- rowSum - accurate</span>\n",
       "<span style=white-space:pre-wrap>        class.error[i] &lt;- error/rowSum</span>\n",
       "<span style=white-space:pre-wrap>    }</span>\n",
       "<span style=white-space:pre-wrap>    model.rf$confusion.matrix &lt;- cbind(model.rf$confusion.matrix, </span>\n",
       "<span style=white-space:pre-wrap>        class.error)</span>\n",
       "<span style=white-space:pre-wrap>    colnames(model.rf$confusion.matrix) &lt;- c(paste(model.rf$forest$levels), </span>\n",
       "<span style=white-space:pre-wrap>        \"class.error\")</span>\n",
       "<span style=white-space:pre-wrap>    model.rf$model.rf</span>\n",
       "<span style=white-space:pre-wrap>    cl &lt;- match.call()</span>\n",
       "<span style=white-space:pre-wrap>    cl[[1]] &lt;- as.name(\"abcrf\")</span>\n",
       "<span style=white-space:pre-wrap>    x &lt;- list(call = cl, lda = lda, formula = formula, group = group, </span>\n",
       "<span style=white-space:pre-wrap>        model.rf = model.rf, model.lda = model.lda, prior.err = model.rf$prediction.error)</span>\n",
       "<span style=white-space:pre-wrap>    class(x) &lt;- \"abcrf\"</span>\n",
       "<span style=white-space:pre-wrap>    x</span>\n",
       "}</code></pre>"
      ],
      "text/latex": [
       "\\begin{minted}{r}\n",
       "function (formula, data, group = list(), lda = TRUE, ntree = 500, \n",
       "    sampsize = min(1e+05, nrow(data)), paral = FALSE, ncores = if (paral) max(detectCores() - \n",
       "        1, 1) else 1, ...) \n",
       "\\{\n",
       "    if (!inherits(formula, \"formula\")) \n",
       "        stop(\"abcrf.formula is only for formula objects\")\n",
       "    if (!inherits(data, \"data.frame\")) \n",
       "        stop(\"data needs to be a data.frame object\")\n",
       "    if (is.na(ncores)) \\{\n",
       "        warning(\"Unable to automatically detect the number of CPU cores, \\textbackslash{}n1 CPU core will be used or please specify ncores.\")\n",
       "        ncores <- 1\n",
       "    \\}\n",
       "    if ((!is.logical(paral)) \\textbar{}\\textbar{} (length(paral) != 1L)) \n",
       "        stop(\"paral should be TRUE or FALSE\")\n",
       "    if (!is.list(group)) \n",
       "        stop(\"group needs to be a list\")\n",
       "    mf <- match.call(expand.dots = FALSE)\n",
       "    m <- match(c(\"formula\", \"data\"), names(mf))\n",
       "    mf <- mf{[}c(1L, m){]}\n",
       "    mf{[}{[}1L{]}{]} <- as.name(\"model.frame\")\n",
       "    mf <- eval(mf, parent.frame())\n",
       "    if (!is.factor(model.response(mf))) \n",
       "        stop(\"response should be a factor containing the model indexes\")\n",
       "    if (nrow(data) == 0L \\textbar{}\\textbar{} is.null(nrow(data))) \n",
       "        stop(\"no simulation in the reference table (response, sumstat)\")\n",
       "    if ((!is.logical(lda)) \\&\\& (length(lda) != 1L)) \n",
       "        stop(\"lda should be TRUE or FALSE\")\n",
       "    if (length(group) != 0) \\{\n",
       "        ngroup <- length(group)\n",
       "        varn <- formula{[}{[}2{]}{]}\n",
       "        data{[}{[}as.character(varn){]}{]} <- as.vector(data{[}{[}as.character(varn){]}{]})\n",
       "        allmod <- unique(data{[}{[}as.character(varn){]}{]})\n",
       "        for (k in 1:ngroup) for (l in 1:length(group{[}{[}k{]}{]})) data{[}{[}as.character(varn){]}{]}{[}which(data{[}{[}as.character(varn){]}{]} == \n",
       "            group{[}{[}k{]}{]}{[}l{]}){]} <- paste(\"g\", k, sep = \"\")\n",
       "        if (!setequal(allmod, unlist(group))) \\{\n",
       "            diffe <- setdiff(allmod, unlist(group))\n",
       "            for (l in 1:length(diffe)) data <- data{[}-which(data{[}{[}as.character(varn){]}{]} == \n",
       "                diffe{[}l{]}), {]}\n",
       "        \\}\n",
       "        data{[}{[}as.character(varn){]}{]} <- as.factor(data{[}{[}as.character(varn){]}{]})\n",
       "    \\}\n",
       "    if (lda) \\{\n",
       "        model.lda <- lda(formula, data)\n",
       "        data <- cbind(data, as.matrix(predict(model.lda, data)\\$x))\n",
       "    \\}\n",
       "    else \\{\n",
       "        model.lda <- NULL\n",
       "    \\}\n",
       "    m <- names(match.call(expand.dots = TRUE))\n",
       "    if ((!\"sampsize\" \\%in\\% m) \\&\\& (nrow(data) <= 15)) \n",
       "        sampsize <- as.integer(sampsize/10)\n",
       "    if (sampsize > nrow(data)) \n",
       "        stop(\"sampsize too large\")\n",
       "    model.rf <- ranger(formula, data, num.trees = ntree, sample.fraction = sampsize/nrow(data), \n",
       "        num.threads = ncores, keep.inbag = TRUE, importance = \"impurity\", \n",
       "        ...)\n",
       "    class.error = vector()\n",
       "    for (i in 1:nrow(model.rf\\$confusion.matrix)) \\{\n",
       "        rowSum <- sum(model.rf\\$confusion.matrix{[}i, {]})\n",
       "        accurate <- diag(model.rf\\$confusion.matrix){[}i{]}\n",
       "        error <- rowSum - accurate\n",
       "        class.error{[}i{]} <- error/rowSum\n",
       "    \\}\n",
       "    model.rf\\$confusion.matrix <- cbind(model.rf\\$confusion.matrix, \n",
       "        class.error)\n",
       "    colnames(model.rf\\$confusion.matrix) <- c(paste(model.rf\\$forest\\$levels), \n",
       "        \"class.error\")\n",
       "    model.rf\\$model.rf\n",
       "    cl <- match.call()\n",
       "    cl{[}{[}1{]}{]} <- as.name(\"abcrf\")\n",
       "    x <- list(call = cl, lda = lda, formula = formula, group = group, \n",
       "        model.rf = model.rf, model.lda = model.lda, prior.err = model.rf\\$prediction.error)\n",
       "    class(x) <- \"abcrf\"\n",
       "    x\n",
       "\\}\n",
       "\\end{minted}"
      ],
      "text/markdown": [
       "```r\n",
       "function (formula, data, group = list(), lda = TRUE, ntree = 500, \n",
       "    sampsize = min(1e+05, nrow(data)), paral = FALSE, ncores = if (paral) max(detectCores() - \n",
       "        1, 1) else 1, ...) \n",
       "{\n",
       "    if (!inherits(formula, \"formula\")) \n",
       "        stop(\"abcrf.formula is only for formula objects\")\n",
       "    if (!inherits(data, \"data.frame\")) \n",
       "        stop(\"data needs to be a data.frame object\")\n",
       "    if (is.na(ncores)) {\n",
       "        warning(\"Unable to automatically detect the number of CPU cores, \\n1 CPU core will be used or please specify ncores.\")\n",
       "        ncores <- 1\n",
       "    }\n",
       "    if ((!is.logical(paral)) || (length(paral) != 1L)) \n",
       "        stop(\"paral should be TRUE or FALSE\")\n",
       "    if (!is.list(group)) \n",
       "        stop(\"group needs to be a list\")\n",
       "    mf <- match.call(expand.dots = FALSE)\n",
       "    m <- match(c(\"formula\", \"data\"), names(mf))\n",
       "    mf <- mf[c(1L, m)]\n",
       "    mf[[1L]] <- as.name(\"model.frame\")\n",
       "    mf <- eval(mf, parent.frame())\n",
       "    if (!is.factor(model.response(mf))) \n",
       "        stop(\"response should be a factor containing the model indexes\")\n",
       "    if (nrow(data) == 0L || is.null(nrow(data))) \n",
       "        stop(\"no simulation in the reference table (response, sumstat)\")\n",
       "    if ((!is.logical(lda)) && (length(lda) != 1L)) \n",
       "        stop(\"lda should be TRUE or FALSE\")\n",
       "    if (length(group) != 0) {\n",
       "        ngroup <- length(group)\n",
       "        varn <- formula[[2]]\n",
       "        data[[as.character(varn)]] <- as.vector(data[[as.character(varn)]])\n",
       "        allmod <- unique(data[[as.character(varn)]])\n",
       "        for (k in 1:ngroup) for (l in 1:length(group[[k]])) data[[as.character(varn)]][which(data[[as.character(varn)]] == \n",
       "            group[[k]][l])] <- paste(\"g\", k, sep = \"\")\n",
       "        if (!setequal(allmod, unlist(group))) {\n",
       "            diffe <- setdiff(allmod, unlist(group))\n",
       "            for (l in 1:length(diffe)) data <- data[-which(data[[as.character(varn)]] == \n",
       "                diffe[l]), ]\n",
       "        }\n",
       "        data[[as.character(varn)]] <- as.factor(data[[as.character(varn)]])\n",
       "    }\n",
       "    if (lda) {\n",
       "        model.lda <- lda(formula, data)\n",
       "        data <- cbind(data, as.matrix(predict(model.lda, data)$x))\n",
       "    }\n",
       "    else {\n",
       "        model.lda <- NULL\n",
       "    }\n",
       "    m <- names(match.call(expand.dots = TRUE))\n",
       "    if ((!\"sampsize\" %in% m) && (nrow(data) <= 15)) \n",
       "        sampsize <- as.integer(sampsize/10)\n",
       "    if (sampsize > nrow(data)) \n",
       "        stop(\"sampsize too large\")\n",
       "    model.rf <- ranger(formula, data, num.trees = ntree, sample.fraction = sampsize/nrow(data), \n",
       "        num.threads = ncores, keep.inbag = TRUE, importance = \"impurity\", \n",
       "        ...)\n",
       "    class.error = vector()\n",
       "    for (i in 1:nrow(model.rf$confusion.matrix)) {\n",
       "        rowSum <- sum(model.rf$confusion.matrix[i, ])\n",
       "        accurate <- diag(model.rf$confusion.matrix)[i]\n",
       "        error <- rowSum - accurate\n",
       "        class.error[i] <- error/rowSum\n",
       "    }\n",
       "    model.rf$confusion.matrix <- cbind(model.rf$confusion.matrix, \n",
       "        class.error)\n",
       "    colnames(model.rf$confusion.matrix) <- c(paste(model.rf$forest$levels), \n",
       "        \"class.error\")\n",
       "    model.rf$model.rf\n",
       "    cl <- match.call()\n",
       "    cl[[1]] <- as.name(\"abcrf\")\n",
       "    x <- list(call = cl, lda = lda, formula = formula, group = group, \n",
       "        model.rf = model.rf, model.lda = model.lda, prior.err = model.rf$prediction.error)\n",
       "    class(x) <- \"abcrf\"\n",
       "    x\n",
       "}\n",
       "```"
      ],
      "text/plain": [
       "function (formula, data, group = list(), lda = TRUE, ntree = 500, \n",
       "    sampsize = min(1e+05, nrow(data)), paral = FALSE, ncores = if (paral) max(detectCores() - \n",
       "        1, 1) else 1, ...) \n",
       "{\n",
       "    if (!inherits(formula, \"formula\")) \n",
       "        stop(\"abcrf.formula is only for formula objects\")\n",
       "    if (!inherits(data, \"data.frame\")) \n",
       "        stop(\"data needs to be a data.frame object\")\n",
       "    if (is.na(ncores)) {\n",
       "        warning(\"Unable to automatically detect the number of CPU cores, \\n1 CPU core will be used or please specify ncores.\")\n",
       "        ncores <- 1\n",
       "    }\n",
       "    if ((!is.logical(paral)) || (length(paral) != 1L)) \n",
       "        stop(\"paral should be TRUE or FALSE\")\n",
       "    if (!is.list(group)) \n",
       "        stop(\"group needs to be a list\")\n",
       "    mf <- match.call(expand.dots = FALSE)\n",
       "    m <- match(c(\"formula\", \"data\"), names(mf))\n",
       "    mf <- mf[c(1L, m)]\n",
       "    mf[[1L]] <- as.name(\"model.frame\")\n",
       "    mf <- eval(mf, parent.frame())\n",
       "    if (!is.factor(model.response(mf))) \n",
       "        stop(\"response should be a factor containing the model indexes\")\n",
       "    if (nrow(data) == 0L || is.null(nrow(data))) \n",
       "        stop(\"no simulation in the reference table (response, sumstat)\")\n",
       "    if ((!is.logical(lda)) && (length(lda) != 1L)) \n",
       "        stop(\"lda should be TRUE or FALSE\")\n",
       "    if (length(group) != 0) {\n",
       "        ngroup <- length(group)\n",
       "        varn <- formula[[2]]\n",
       "        data[[as.character(varn)]] <- as.vector(data[[as.character(varn)]])\n",
       "        allmod <- unique(data[[as.character(varn)]])\n",
       "        for (k in 1:ngroup) for (l in 1:length(group[[k]])) data[[as.character(varn)]][which(data[[as.character(varn)]] == \n",
       "            group[[k]][l])] <- paste(\"g\", k, sep = \"\")\n",
       "        if (!setequal(allmod, unlist(group))) {\n",
       "            diffe <- setdiff(allmod, unlist(group))\n",
       "            for (l in 1:length(diffe)) data <- data[-which(data[[as.character(varn)]] == \n",
       "                diffe[l]), ]\n",
       "        }\n",
       "        data[[as.character(varn)]] <- as.factor(data[[as.character(varn)]])\n",
       "    }\n",
       "    if (lda) {\n",
       "        model.lda <- lda(formula, data)\n",
       "        data <- cbind(data, as.matrix(predict(model.lda, data)$x))\n",
       "    }\n",
       "    else {\n",
       "        model.lda <- NULL\n",
       "    }\n",
       "    m <- names(match.call(expand.dots = TRUE))\n",
       "    if ((!\"sampsize\" %in% m) && (nrow(data) <= 15)) \n",
       "        sampsize <- as.integer(sampsize/10)\n",
       "    if (sampsize > nrow(data)) \n",
       "        stop(\"sampsize too large\")\n",
       "    model.rf <- ranger(formula, data, num.trees = ntree, sample.fraction = sampsize/nrow(data), \n",
       "        num.threads = ncores, keep.inbag = TRUE, importance = \"impurity\", \n",
       "        ...)\n",
       "    class.error = vector()\n",
       "    for (i in 1:nrow(model.rf$confusion.matrix)) {\n",
       "        rowSum <- sum(model.rf$confusion.matrix[i, ])\n",
       "        accurate <- diag(model.rf$confusion.matrix)[i]\n",
       "        error <- rowSum - accurate\n",
       "        class.error[i] <- error/rowSum\n",
       "    }\n",
       "    model.rf$confusion.matrix <- cbind(model.rf$confusion.matrix, \n",
       "        class.error)\n",
       "    colnames(model.rf$confusion.matrix) <- c(paste(model.rf$forest$levels), \n",
       "        \"class.error\")\n",
       "    model.rf$model.rf\n",
       "    cl <- match.call()\n",
       "    cl[[1]] <- as.name(\"abcrf\")\n",
       "    x <- list(call = cl, lda = lda, formula = formula, group = group, \n",
       "        model.rf = model.rf, model.lda = model.lda, prior.err = model.rf$prediction.error)\n",
       "    class(x) <- \"abcrf\"\n",
       "    x\n",
       "}\n",
       "<bytecode: 0x7fa895b54618>\n",
       "<environment: namespace:abcrf>"
      ]
     },
     "metadata": {},
     "output_type": "display_data"
    }
   ],
   "source": [
    "abcrf:::abcrf.formula"
   ]
  },
  {
   "cell_type": "markdown",
   "metadata": {},
   "source": [
    "# abcrf demo"
   ]
  },
  {
   "cell_type": "code",
   "execution_count": 9,
   "metadata": {},
   "outputs": [
    {
     "data": {
      "text/plain": [
       "\n",
       "Call:\n",
       " abcrf(formula = modindex ~ ., data = data1, ntree = 100) \n",
       "includes the axes of a preliminary LDA\n",
       "\n",
       "Number of simulations: 1\n",
       "Out-of-bag prior error rate: 23%\n",
       "\n",
       "Confusion matrix:\n",
       "    1   2   3 class.error\n",
       "1 156   5  23   0.1521739\n",
       "2   6 123  22   0.1854305\n",
       "3  29  30 106   0.3575758"
      ]
     },
     "metadata": {},
     "output_type": "display_data"
    }
   ],
   "source": [
    "data(snp)\n",
    "modindex <- snp$modindex[1:500]\n",
    "sumsta <- snp$sumsta[1:500,]\n",
    "data1 <- data.frame(modindex, sumsta)\n",
    "model.rf1 <- abcrf(modindex~., data = data1, ntree=100)\n",
    "model.rf1"
   ]
  },
  {
   "cell_type": "code",
   "execution_count": 10,
   "metadata": {},
   "outputs": [
    {
     "data": {
      "text/plain": [
       "\n",
       "Call:\n",
       " abcrf(formula = modindex ~ ., data = data1, group = list(c(\"1\", \"2\"), \"3\"), ntree = 100) \n",
       "includes the axes of a preliminary LDA\n",
       "\n",
       "Number of simulations: 1\n",
       "Out-of-bag prior error rate: 20.6%\n",
       "\n",
       "Confusion matrix:\n",
       "    g1 g2 class.error\n",
       "g1 303 32  0.09552239\n",
       "g2  71 94  0.43030303"
      ]
     },
     "metadata": {},
     "output_type": "display_data"
    }
   ],
   "source": [
    "model.rf2 <- abcrf(modindex~., data = data1, group = list(c(\"1\",\"2\"),\"3\"), ntree=100)\n",
    "model.rf2"
   ]
  },
  {
   "cell_type": "markdown",
   "metadata": {},
   "source": [
    "# RF"
   ]
  },
  {
   "cell_type": "code",
   "execution_count": 11,
   "metadata": {},
   "outputs": [
    {
     "data": {
      "text/plain": [
       "Ranger result\n",
       "\n",
       "Call:\n",
       " ranger(Species ~ ., data = iris) \n",
       "\n",
       "Type:                             Classification \n",
       "Number of trees:                  500 \n",
       "Sample size:                      150 \n",
       "Number of independent variables:  4 \n",
       "Mtry:                             2 \n",
       "Target node size:                 1 \n",
       "Variable importance mode:         none \n",
       "Splitrule:                        gini \n",
       "OOB prediction error:             4.00 % "
      ]
     },
     "metadata": {},
     "output_type": "display_data"
    }
   ],
   "source": [
    "require(ranger)\n",
    "\n",
    "## Classification forest with default settings\n",
    "ranger(Species ~ ., data = iris)"
   ]
  },
  {
   "cell_type": "code",
   "execution_count": 12,
   "metadata": {},
   "outputs": [
    {
     "data": {
      "text/plain": [
       "            \n",
       "             setosa versicolor virginica\n",
       "  setosa         16          0         0\n",
       "  versicolor      0         17         2\n",
       "  virginica       0          3        12"
      ]
     },
     "metadata": {},
     "output_type": "display_data"
    }
   ],
   "source": [
    "## Prediction\n",
    "train.idx <- sample(nrow(iris), 2/3 * nrow(iris))\n",
    "iris.train <- iris[train.idx, ]\n",
    "iris.test <- iris[-train.idx, ]\n",
    "rg.iris <- ranger(Species ~ ., data = iris.train)\n",
    "pred.iris <- predict(rg.iris, data = iris.test)\n",
    "table(iris.test$Species, pred.iris$predictions)"
   ]
  },
  {
   "cell_type": "code",
   "execution_count": 13,
   "metadata": {},
   "outputs": [
    {
     "data": {
      "text/html": [
       "<table>\n",
       "<thead><tr><th scope=col>quantile= 0.1</th><th scope=col>quantile= 0.5</th><th scope=col>quantile= 0.9</th></tr></thead>\n",
       "<tbody>\n",
       "\t<tr><td>21.0</td><td>22.8</td><td>33.9</td></tr>\n",
       "\t<tr><td>21.0</td><td>22.8</td><td>32.4</td></tr>\n",
       "\t<tr><td>13.3</td><td>15.5</td><td>27.3</td></tr>\n",
       "\t<tr><td>15.5</td><td>21.0</td><td>22.8</td></tr>\n",
       "\t<tr><td>13.3</td><td>14.3</td><td>19.2</td></tr>\n",
       "\t<tr><td>21.0</td><td>22.8</td><td>32.4</td></tr>\n",
       "</tbody>\n",
       "</table>\n"
      ],
      "text/latex": [
       "\\begin{tabular}{lll}\n",
       " quantile= 0.1 & quantile= 0.5 & quantile= 0.9\\\\\n",
       "\\hline\n",
       "\t 21.0 & 22.8 & 33.9\\\\\n",
       "\t 21.0 & 22.8 & 32.4\\\\\n",
       "\t 13.3 & 15.5 & 27.3\\\\\n",
       "\t 15.5 & 21.0 & 22.8\\\\\n",
       "\t 13.3 & 14.3 & 19.2\\\\\n",
       "\t 21.0 & 22.8 & 32.4\\\\\n",
       "\\end{tabular}\n"
      ],
      "text/markdown": [
       "\n",
       "| quantile= 0.1 | quantile= 0.5 | quantile= 0.9 |\n",
       "|---|---|---|\n",
       "| 21.0 | 22.8 | 33.9 |\n",
       "| 21.0 | 22.8 | 32.4 |\n",
       "| 13.3 | 15.5 | 27.3 |\n",
       "| 15.5 | 21.0 | 22.8 |\n",
       "| 13.3 | 14.3 | 19.2 |\n",
       "| 21.0 | 22.8 | 32.4 |\n",
       "\n"
      ],
      "text/plain": [
       "     quantile= 0.1 quantile= 0.5 quantile= 0.9\n",
       "[1,] 21.0          22.8          33.9         \n",
       "[2,] 21.0          22.8          32.4         \n",
       "[3,] 13.3          15.5          27.3         \n",
       "[4,] 15.5          21.0          22.8         \n",
       "[5,] 13.3          14.3          19.2         \n",
       "[6,] 21.0          22.8          32.4         "
      ]
     },
     "metadata": {},
     "output_type": "display_data"
    }
   ],
   "source": [
    "## Quantile regression forest\n",
    "rf <- ranger(mpg ~ ., mtcars[1:26, ], quantreg = TRUE)\n",
    "pred <- predict(rf, mtcars[27:32, ], type = \"quantiles\")\n",
    "pred$predictions"
   ]
  },
  {
   "cell_type": "code",
   "execution_count": 14,
   "metadata": {},
   "outputs": [
    {
     "data": {
      "text/html": [
       "<dl class=dl-horizontal>\n",
       "\t<dt>Sepal.Length</dt>\n",
       "\t\t<dd>9.58882187934237</dd>\n",
       "\t<dt>Sepal.Width</dt>\n",
       "\t\t<dd>2.08886866509326</dd>\n",
       "\t<dt>Petal.Length</dt>\n",
       "\t\t<dd>43.6290865905987</dd>\n",
       "\t<dt>Petal.Width</dt>\n",
       "\t\t<dd>43.9730028649657</dd>\n",
       "</dl>\n"
      ],
      "text/latex": [
       "\\begin{description*}\n",
       "\\item[Sepal.Length] 9.58882187934237\n",
       "\\item[Sepal.Width] 2.08886866509326\n",
       "\\item[Petal.Length] 43.6290865905987\n",
       "\\item[Petal.Width] 43.9730028649657\n",
       "\\end{description*}\n"
      ],
      "text/markdown": [
       "Sepal.Length\n",
       ":   9.58882187934237Sepal.Width\n",
       ":   2.08886866509326Petal.Length\n",
       ":   43.6290865905987Petal.Width\n",
       ":   43.9730028649657\n",
       "\n"
      ],
      "text/plain": [
       "Sepal.Length  Sepal.Width Petal.Length  Petal.Width \n",
       "    9.588822     2.088869    43.629087    43.973003 "
      ]
     },
     "metadata": {},
     "output_type": "display_data"
    }
   ],
   "source": [
    "## Variable importance\n",
    "rg.iris <- ranger(Species ~ ., data = iris, importance = \"impurity\")\n",
    "rg.iris$variable.importance"
   ]
  },
  {
   "cell_type": "code",
   "execution_count": 15,
   "metadata": {},
   "outputs": [
    {
     "data": {
      "image/png": "[encoded data removed]",
      "text/plain": [
       "plot without title"
      ]
     },
     "metadata": {},
     "output_type": "display_data"
    }
   ],
   "source": [
    "## Survival forest\n",
    "require(survival)\n",
    "rg.veteran <- ranger(Surv(time, status) ~ ., data = veteran)\n",
    "plot(rg.veteran$unique.death.times, rg.veteran$survival[1,])"
   ]
  },
  {
   "cell_type": "code",
   "execution_count": 16,
   "metadata": {},
   "outputs": [
    {
     "data": {
      "text/plain": [
       "Ranger result\n",
       "\n",
       "Call:\n",
       " ranger(dependent.variable.name = \"Species\", data = iris) \n",
       "\n",
       "Type:                             Classification \n",
       "Number of trees:                  500 \n",
       "Sample size:                      150 \n",
       "Number of independent variables:  4 \n",
       "Mtry:                             2 \n",
       "Target node size:                 1 \n",
       "Variable importance mode:         none \n",
       "Splitrule:                        gini \n",
       "OOB prediction error:             4.00 % "
      ]
     },
     "metadata": {},
     "output_type": "display_data"
    }
   ],
   "source": [
    "## Alternative interface\n",
    "ranger(dependent.variable.name = \"Species\", data = iris)"
   ]
  },
  {
   "cell_type": "code",
   "execution_count": 18,
   "metadata": {},
   "outputs": [],
   "source": [
    "# ## Not run: \n",
    "# ## Use GenABEL interface to read Plink data into R and grow a classification forest\n",
    "# ## The ped and map files are not included\n",
    "# library(GenABEL)\n",
    "# convert.snp.ped(\"data.ped\", \"data.map\", \"data.raw\")\n",
    "# dat.gwaa <- load.gwaa.data(\"data.pheno\", \"data.raw\")\n",
    "# phdata(dat.gwaa)$trait <- factor(phdata(dat.gwaa)$trait)\n",
    "# ranger(trait ~ ., data = dat.gwaa)\n",
    "\n",
    "# ## End(Not run)"
   ]
  },
  {
   "cell_type": "code",
   "execution_count": null,
   "metadata": {},
   "outputs": [],
   "source": []
  }
 ],
 "metadata": {
  "kernelspec": {
   "display_name": "R",
   "language": "R",
   "name": "ir"
  },
  "language_info": {
   "codemirror_mode": "r",
   "file_extension": ".r",
   "mimetype": "text/x-r-source",
   "name": "R",
   "pygments_lexer": "r",
   "version": "3.5.2"
  }
 },
 "nbformat": 4,
 "nbformat_minor": 2
}
