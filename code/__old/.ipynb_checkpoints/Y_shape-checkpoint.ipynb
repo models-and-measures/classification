{
 "cells": [
  {
   "cell_type": "markdown",
   "metadata": {},
   "source": [
    "## Preparation"
   ]
  },
  {
   "cell_type": "code",
   "execution_count": 2,
   "metadata": {},
   "outputs": [],
   "source": [
    "%matplotlib inline\n",
    "from fenics import *\n",
    "from mshr import *\n",
    "import numpy as np\n",
    "import matplotlib.pyplot as plt\n",
    "# import mshr\n",
    "import sys\n",
    "# import os\n",
    "# os.environ[\"CC\"]=\"/usr/bin/gcc\"\n",
    "# os.environ[\"CXX\"]=\"/usr/bin/g++\"\n",
    "# os.environ[\"CLANG\"]=\"/usr/bin/clang\"\n",
    "# os.environ[\"CLANGXX\"]=\"/usr/bin/clang++\";\n",
    "# # os.environ[\"PYTHON\"] = \"/anaconda3/bin/python\""
   ]
  },
  {
   "cell_type": "markdown",
   "metadata": {},
   "source": [
    "$$\n",
    "u' + u \\cdot \\nabla(u) - div(\\sigma(u, p)) = f\\\\\n",
    "                                 div(u) = 0\n",
    "$$"
   ]
  },
  {
   "cell_type": "markdown",
   "metadata": {},
   "source": [
    "## Mesh"
   ]
  },
  {
   "cell_type": "code",
   "execution_count": 3,
   "metadata": {},
   "outputs": [
    {
     "data": {
      "text/plain": [
       "[<matplotlib.lines.Line2D at 0x1121a9240>,\n",
       " <matplotlib.lines.Line2D at 0x1121a9390>]"
      ]
     },
     "execution_count": 3,
     "metadata": {},
     "output_type": "execute_result"
    },
    {
     "data": {
      "image/png": "[encoded data removed]",
      "text/plain": [
       "<Figure size 432x288 with 1 Axes>"
      ]
     },
     "metadata": {
      "needs_background": "light"
     },
     "output_type": "display_data"
    }
   ],
   "source": [
    "# # Create mesh\n",
    "# Gx = 2.2\n",
    "# Gy1 = 0.21\n",
    "# Gy2 = 0.2\n",
    "# Gd = 0.15\n",
    "# Gh1 = sqrt(Gy1**2+Gd**2)\n",
    "# Gh2 = sqrt(Gy2**2+Gd**2)\n",
    "# Gs1 = 1.0\n",
    "# Gs2 = 1.0\n",
    "# Gt1 = np.arctan(Gd/Gy1)\n",
    "# Gt2 = np.arctan(Gd/Gy2)\n",
    "# Gcx = 0.45*Gh2\n",
    "# Gcy = 0.45*Gh2\n",
    "# Gr = 0.03\n",
    "# channel0 = Rectangle(Point(-Gx, -Gy2), Point(0.0, Gy1))\n",
    "# channel1 = Rectangle(Point(0.0, Gy1-Gh1), Point(Gs1, Gy1))\n",
    "# channel1 = MeshTransformation.rotate(generate_mesh(channel1,64),Gt1,2,Point(0.0, Gy1, 0.0))\n",
    "# channel2 = Rectangle(Point(-Gx, -Gy2), Point(0.0, Gy1))\n",
    "# channel2 = MeshTransformation.rotate(generate_mesh(channel2,64),-Gt2,2,Point(0.0, -Gy2, 0.0))\n",
    "# triangle = Rectangle(Point(-Gx, -Gy2), Point(0.0, Gy1))\n",
    "# cylinder = Circle(Point(Gc1, Gc2), Gr)\n",
    "# domain = channel1 - cylinder\n",
    "# mesh = generate_mesh(domain, 64)\n",
    "# plot(mesh)\n",
    "# from mshr import *\n",
    "from dolfin import *\n",
    "from mshr import *\n",
    "a=.5\n",
    "b=.2\n",
    "domain_vertices = [Point(-2.0, -0.2),\n",
    "                   Point(0.0, -0.2),\n",
    "                   Point(1.9,-2.1),\n",
    "                   Point(2.1,-1.9),\n",
    "                   Point(0.2,0),\n",
    "                   Point(2.1,1.9),\n",
    "                   Point(1.9,2.1),\n",
    "                   Point(0.0,0.2),\n",
    "                   Point(-2.0,0.2)]\n",
    "polygon = Polygon(domain_vertices)\n",
    "k=1.0\n",
    "EPS = 0.001 # to destroy symmetry and create turbulance\n",
    "cylinder = Circle(Point(k+EPS,-k+EPS), 0.08)\n",
    "domain = polygon - cylinder\n",
    "#     mesh = generate_mesh(domain, 10)\n",
    "# plot(mesh, interactive=True)\n",
    "mesh = generate_mesh(domain, 64)\n",
    "plot(mesh)"
   ]
  },
  {
   "cell_type": "markdown",
   "metadata": {},
   "source": [
    "## Define Problem"
   ]
  },
  {
   "cell_type": "code",
   "execution_count": 4,
   "metadata": {},
   "outputs": [
    {
     "data": {
      "text/plain": [
       "[None]"
      ]
     },
     "execution_count": 4,
     "metadata": {},
     "output_type": "execute_result"
    }
   ],
   "source": [
    "T = .1              # final time\n",
    "num_steps = 100   # number of time steps # must satisfy CFL condition\n",
    "dt = T / num_steps # time step size\n",
    "mu = 0.001         # dynamic viscosity\n",
    "rho = 1            # density\n",
    "\n",
    "# Define function spaces\n",
    "V = VectorFunctionSpace(mesh, 'P', 2)\n",
    "Q = FunctionSpace(mesh, 'P', 1)\n",
    "\n",
    "# Define boundaries\n",
    "inflow   = 'near(x[0], -2.0)'\n",
    "outflow  = 'near(x[0]-x[1], 4) || near(x[0]+x[1], 4)'\n",
    "walls    = '((near(x[1], -0.2) || near(x[1], 0.2)) && x[0]<=0)' \\\n",
    "            +' || ((near(x[1] - x[0], 0.2) || near(x[1] + x[0], -0.2)) && x[0]>0 )' \\\n",
    "            +' || ((near(x[1] - x[0], -0.2) || near(x[1] + x[0], 0.2)) && x[0]>0.2 ) '\n",
    "cylinder = 'on_boundary && x[0]>0.91 && x[0]<1.09 && x[1]>-1.09 && x[1]<-0.91'\n",
    "\n",
    "# Define inflow profile\n",
    "inflow_profile = ('4.0*1.5*(x[1] + 0.2)*(0.2 - x[1]) / pow(0.4, 2)', '0')\n",
    "\n",
    "# Define boundary conditions\n",
    "bcu_inflow = DirichletBC(V, Expression(inflow_profile, degree=2), inflow)\n",
    "bcu_walls = DirichletBC(V, Constant((0, 0)), walls)\n",
    "bcu_cylinder = DirichletBC(V, Constant((0, 0)), cylinder)\n",
    "bcp_outflow = DirichletBC(Q, Constant(0), outflow)\n",
    "bcu = [bcu_inflow, bcu_walls, bcu_cylinder]\n",
    "bcp = [bcp_outflow]\n",
    "\n",
    "# Define trial and test functions\n",
    "u = TrialFunction(V)\n",
    "v = TestFunction(V)\n",
    "p = TrialFunction(Q)\n",
    "q = TestFunction(Q)\n",
    "\n",
    "# Define functions for solutions at previous and current time steps\n",
    "u_n = Function(V)\n",
    "u_  = Function(V)\n",
    "p_n = Function(Q)\n",
    "p_  = Function(Q)\n",
    "\n",
    "# Define expressions used in variational forms\n",
    "U  = 0.5*(u_n + u)\n",
    "n  = FacetNormal(mesh)\n",
    "f  = Constant((0, 0))\n",
    "k  = Constant(dt)\n",
    "mu = Constant(mu)\n",
    "rho = Constant(rho)\n",
    "\n",
    "# Define symmetric gradient\n",
    "def epsilon(u):\n",
    "    return sym(nabla_grad(u))\n",
    "\n",
    "# Define stress tensor\n",
    "def sigma(u, p):\n",
    "    return 2*mu*epsilon(u) - p*Identity(len(u))\n",
    "\n",
    "# Define variational problem for step 1\n",
    "F1 = rho*dot((u - u_n) / k, v)*dx \\\n",
    "   + rho*dot(dot(u_n, nabla_grad(u_n)), v)*dx \\\n",
    "   + inner(sigma(U, p_n), epsilon(v))*dx \\\n",
    "   + dot(p_n*n, v)*ds - dot(mu*nabla_grad(U)*n, v)*ds \\\n",
    "   - dot(f, v)*dx\n",
    "a1 = lhs(F1)\n",
    "L1 = rhs(F1)\n",
    "\n",
    "# Define variational problem for step 2\n",
    "a2 = dot(nabla_grad(p), nabla_grad(q))*dx\n",
    "L2 = dot(nabla_grad(p_n), nabla_grad(q))*dx - (1/k)*div(u_)*q*dx\n",
    "\n",
    "# Define variational problem for step 3\n",
    "a3 = dot(u, v)*dx\n",
    "L3 = dot(u_, v)*dx - k*dot(nabla_grad(p_ - p_n), v)*dx\n",
    "\n",
    "# Assemble matrices\n",
    "A1 = assemble(a1)\n",
    "A2 = assemble(a2)\n",
    "A3 = assemble(a3)\n",
    "\n",
    "# Apply boundary conditions to matrices\n",
    "[bc.apply(A1) for bc in bcu]\n",
    "[bc.apply(A2) for bc in bcp]"
   ]
  },
  {
   "cell_type": "markdown",
   "metadata": {},
   "source": [
    "## Save Data Structure for future usage (optional)"
   ]
  },
  {
   "cell_type": "code",
   "execution_count": 5,
   "metadata": {},
   "outputs": [],
   "source": [
    "# # Create XDMF files for visualization output\n",
    "# xdmffile_u = XDMFFile('navier_stokes_cylinder/velocity.xdmf')\n",
    "# xdmffile_p = XDMFFile('navier_stokes_cylinder/pressure.xdmf')\n",
    "\n",
    "# # Create time series (for use in reaction_system.py)\n",
    "# timeseries_u = TimeSeries('navier_stokes_cylinder/velocity_series')\n",
    "# timeseries_p = TimeSeries('navier_stokes_cylinder/pressure_series')\n",
    "\n",
    "# # Save mesh to file (for use in reaction_system.py)\n",
    "# File('navier_stokes_cylinder/cylinder.xml.gz') << mesh\n",
    "\n",
    "# # Create progress bar\n",
    "# # progress = Progress('Time-stepping')\n",
    "# # set_log_level(PROGRESS)"
   ]
  },
  {
   "cell_type": "markdown",
   "metadata": {},
   "source": [
    "## Apply Solver"
   ]
  },
  {
   "cell_type": "code",
   "execution_count": 6,
   "metadata": {},
   "outputs": [
    {
     "name": "stdout",
     "output_type": "stream",
     "text": [
      ">>>>>>>>>>>>>>>>>>>>>>>>>>>>>>>>>>>>>>>>>>>>>>>>>>>>>>>>>>>>>>>>>>>>>>>>>>>>>>>>>>>>>>>>>>>>>>>>>>>>"
     ]
    }
   ],
   "source": [
    "# Time-stepping\n",
    "t = 0\n",
    "for n in range(num_steps):\n",
    "\n",
    "    # Update current time\n",
    "    t += dt\n",
    "\n",
    "    # Step 1: Tentative velocity step\n",
    "    b1 = assemble(L1)\n",
    "    [bc.apply(b1) for bc in bcu]\n",
    "    solve(A1, u_.vector(), b1, 'bicgstab', 'hypre_amg')\n",
    "\n",
    "    # Step 2: Pressure correction step\n",
    "    b2 = assemble(L2)\n",
    "    [bc.apply(b2) for bc in bcp]\n",
    "    solve(A2, p_.vector(), b2, 'bicgstab', 'hypre_amg')\n",
    "\n",
    "    # Step 3: Velocity correction step\n",
    "    b3 = assemble(L3)\n",
    "    solve(A3, u_.vector(), b3, 'cg', 'sor')\n",
    "\n",
    "    # Plot solution\n",
    "#     plot(u_, title='Velocity')\n",
    "#     plot(p_, title='Pressure')\n",
    "\n",
    "#     # Save solution to file (XDMF/HDF5)\n",
    "#     xdmffile_u.write(u_, t)\n",
    "#     xdmffile_p.write(p_, t)\n",
    "\n",
    "#     # Save nodal values to file\n",
    "#     timeseries_u.store(u_.vector(), t)\n",
    "#     timeseries_p.store(p_.vector(), t)\n",
    "\n",
    "    # Update previous solution\n",
    "    u_n.assign(u_)\n",
    "    p_n.assign(p_)\n",
    "\n",
    "    # Update progress bar\n",
    "#     progress.update(t / T)\n",
    "#     print('u max:', u_.vector().array().max())\n",
    "    sys.stdout.write('>')"
   ]
  },
  {
   "cell_type": "code",
   "execution_count": 7,
   "metadata": {},
   "outputs": [
    {
     "data": {
      "text/plain": [
       "<matplotlib.quiver.Quiver at 0x114438940>"
      ]
     },
     "execution_count": 7,
     "metadata": {},
     "output_type": "execute_result"
    },
    {
     "data": {
      "image/png": "[encoded data removed]",
      "text/plain": [
       "<Figure size 432x288 with 1 Axes>"
      ]
     },
     "metadata": {
      "needs_background": "light"
     },
     "output_type": "display_data"
    }
   ],
   "source": [
    "plot(u_, title='Velocity')"
   ]
  },
  {
   "cell_type": "code",
   "execution_count": 8,
   "metadata": {},
   "outputs": [
    {
     "data": {
      "image/png": "[encoded data removed]",
      "text/plain": [
       "<Figure size 432x288 with 2 Axes>"
      ]
     },
     "metadata": {
      "needs_background": "light"
     },
     "output_type": "display_data"
    }
   ],
   "source": [
    "import matplotlib.gridspec as gridspec\n",
    "# fig, ax = plt.subplots()\n",
    "gs = gridspec.GridSpec(1,2, height_ratios=[1], width_ratios=[1,0.05])\n",
    "gs.update(left=0.05, right=0.95, bottom=0.08, top=0.93, wspace=0.02, hspace=0.03)\n",
    "\n",
    "ax1 = plt.subplot(gs[0,0])\n",
    "plt1 = plot(p_, title='Pressure')\n",
    "cbax = plt.subplot(gs[0,1])\n",
    "cb = plt.colorbar(cax = cbax, mappable = plt1, orientation = 'vertical', ticklocation = 'right')\n",
    "plt.show()"
   ]
  },
  {
   "cell_type": "markdown",
   "metadata": {},
   "source": [
    "## An attempt to extract FENiCS data structure"
   ]
  },
  {
   "cell_type": "code",
   "execution_count": 9,
   "metadata": {},
   "outputs": [
    {
     "ename": "NameError",
     "evalue": "name 'v2d' is not defined",
     "output_type": "error",
     "traceback": [
      "\u001b[0;31m---------------------------------------------------------------------------\u001b[0m",
      "\u001b[0;31mNameError\u001b[0m                                 Traceback (most recent call last)",
      "\u001b[0;32m<ipython-input-9-86be48acd54f>\u001b[0m in \u001b[0;36m<module>\u001b[0;34m\u001b[0m\n\u001b[1;32m      6\u001b[0m \u001b[0;34m\u001b[0m\u001b[0m\n\u001b[1;32m      7\u001b[0m \u001b[0;31m#reshape\u001b[0m\u001b[0;34m\u001b[0m\u001b[0;34m\u001b[0m\u001b[0;34m\u001b[0m\u001b[0m\n\u001b[0;32m----> 8\u001b[0;31m \u001b[0mv2d\u001b[0m \u001b[0;34m=\u001b[0m \u001b[0mv2d\u001b[0m\u001b[0;34m.\u001b[0m\u001b[0mreshape\u001b[0m\u001b[0;34m(\u001b[0m\u001b[0;34m(\u001b[0m\u001b[0;34m-\u001b[0m\u001b[0;36m1\u001b[0m\u001b[0;34m,\u001b[0m \u001b[0mmesh\u001b[0m\u001b[0;34m.\u001b[0m\u001b[0mgeometry\u001b[0m\u001b[0;34m(\u001b[0m\u001b[0;34m)\u001b[0m\u001b[0;34m.\u001b[0m\u001b[0mdim\u001b[0m\u001b[0;34m(\u001b[0m\u001b[0;34m)\u001b[0m\u001b[0;34m)\u001b[0m\u001b[0;34m)\u001b[0m\u001b[0;34m\u001b[0m\u001b[0;34m\u001b[0m\u001b[0m\n\u001b[0m\u001b[1;32m      9\u001b[0m \u001b[0;34m\u001b[0m\u001b[0m\n\u001b[1;32m     10\u001b[0m \u001b[0;31m#extract\u001b[0m\u001b[0;34m\u001b[0m\u001b[0;34m\u001b[0m\u001b[0;34m\u001b[0m\u001b[0m\n",
      "\u001b[0;31mNameError\u001b[0m: name 'v2d' is not defined"
     ]
    }
   ],
   "source": [
    "arr = p_.vector().vec()\n",
    "coor = mesh.coordinates()\n",
    "# vtd = V.dofmap().dof_to_vertex_map(mesh)\n",
    "vtd = dof_to_vertex_map(Q)\n",
    "vtd2 = np.array(Q.dofmap().dofs())\n",
    "\n",
    "#reshape\n",
    "v2d = v2d.reshape((-1, mesh.geometry().dim()))\n",
    "\n",
    "#extract\n",
    "values = list()\n",
    "for i, dum in enumerate(coor):\n",
    "    values.append(arr[vtd[i]])\n",
    "values = np.array(values)\n",
    "print('coor',coor.shape,'value',values.shape,'vertex',vtd.shape,'vertex2',vtd2.shape)\n",
    "\n",
    "#set\n",
    "# vertex_vector_values = np.zeros(mesh.num_vertices()*2)\n",
    "# vertex_vector_values[::2] = values[0,:]\n",
    "# vertex_vector_values[1::2] = values[1,:]\n",
    "vertex_vector_values = np.zeros(mesh.num_vertices())\n",
    "vertex_vector_values = values\n",
    "# vertex_to_dof_map = V.dofmap().vertex_to_dof_map(mesh)#deprecated\n",
    "dof_to_vertex_map_values = dof_to_vertex_map(Q)\n",
    "\n",
    "p_test = Function(Q)\n",
    "p_test.vector().set_local(vertex_vector_values[dof_to_vertex_map_values])\n",
    "plot(p_test)"
   ]
  },
  {
   "cell_type": "markdown",
   "metadata": {},
   "source": [
    "### computation above is not working, trying a simpler mesh:"
   ]
  },
  {
   "cell_type": "code",
   "execution_count": null,
   "metadata": {},
   "outputs": [],
   "source": [
    "from dolfin import *\n",
    "\n",
    "mesh = UnitSquareMesh(5,5)\n",
    "Q = VectorFunctionSpace(mesh, \"CG\", 1, dim=2)\n",
    "\n",
    "v2d=vertex_to_dof_map(Q)\n",
    "d2v=dof_to_vertex_map(Q)\n",
    "\n",
    "v2d = v2d.reshape((-1, mesh.geometry().dim()))\n",
    "d2v = d2v[range(0, len(d2v), 2)]/2\n",
    "\n",
    "# Test\n",
    "# v = f(1, mesh)\n",
    "q = Function(Q)\n",
    "\n",
    "# v.array()[10] = 1.0\n",
    "# v.array()[25] = 1.0\n",
    "for i in range(36):\n",
    "    q.vector()[v2d[i,0]] = i\n",
    "\n",
    "print('v2d',v2d.shape,'d2v',d2v.shape)\n",
    "# plot(v)\n",
    "plot(q)          # press m to visualize the mesh\n",
    "\n",
    "#here is data structure for function space P2\n",
    "V.dofmap().tabulate_entity_dofs(1,1)"
   ]
  },
  {
   "cell_type": "markdown",
   "metadata": {},
   "source": [
    "## Line Integral"
   ]
  },
  {
   "cell_type": "code",
   "execution_count": null,
   "metadata": {},
   "outputs": [],
   "source": [
    "def line_integral(u, A, B, n): \n",
    "    '''Integrate u over segment [A, B] partitioned into n elements'''\n",
    "    assert u.value_rank() == 0\n",
    "    assert len(A) == len(B) > 1 and np.linalg.norm(A-B) > 0\n",
    "    assert n > 0\n",
    "\n",
    "    # Mesh line for integration\n",
    "    mesh_points = [A + t*(B-A) for t in np.linspace(0, 1, n+1)]\n",
    "    tdim, gdim = 1, len(A)\n",
    "    mesh = Mesh()\n",
    "    editor = MeshEditor()\n",
    "    editor.open(mesh, tdim, gdim)\n",
    "    editor.init_vertices(n+1)\n",
    "    editor.init_cells(n)\n",
    "\n",
    "    for vi, v in enumerate(mesh_points): editor.add_vertex(vi, v)\n",
    "\n",
    "    for ci in range(n): editor.add_cell(ci, np.array([ci, ci+1], dtype='uintp'))\n",
    "\n",
    "    editor.close()\n",
    "\n",
    "    # Setup funcion space\n",
    "    elm = u.function_space().ufl_element()\n",
    "    family = elm.family()\n",
    "    degree = elm.degree()\n",
    "    V = FunctionSpace(mesh, family, degree)\n",
    "    v = interpolate(u, V)\n",
    "\n",
    "    return assemble(v*dx)\n",
    "\n",
    "mesh = UnitCubeMesh(2, 4, 5)\n",
    "V = FunctionSpace(mesh, 'CG', 1)\n",
    "f = Expression('x[0]+x[1]+x[2]', degree=1)\n",
    "v = interpolate(f, V)\n",
    "\n",
    "A = np.array([0, 0, 0])\n",
    "B = np.array([1, 1, 1])\n",
    "\n",
    "ans = line_integral(v, A, B, n=100)\n",
    "ans0 = 3*sqrt(3)/2\n",
    "abs(ans-ans0)"
   ]
  },
  {
   "cell_type": "code",
   "execution_count": null,
   "metadata": {},
   "outputs": [],
   "source": []
  },
  {
   "cell_type": "code",
   "execution_count": null,
   "metadata": {},
   "outputs": [],
   "source": []
  },
  {
   "cell_type": "code",
   "execution_count": null,
   "metadata": {},
   "outputs": [],
   "source": []
  },
  {
   "cell_type": "markdown",
   "metadata": {},
   "source": []
  },
  {
   "cell_type": "markdown",
   "metadata": {},
   "source": [
    "# Get Raw Value of Solution (forum tutorials, kept here for reference) "
   ]
  },
  {
   "cell_type": "code",
   "execution_count": 6,
   "metadata": {},
   "outputs": [
    {
     "data": {
      "image/png": "[encoded data removed]",
      "text/plain": [
       "<Figure size 432x288 with 1 Axes>"
      ]
     },
     "metadata": {
      "needs_background": "light"
     },
     "output_type": "display_data"
    },
    {
     "data": {
      "text/plain": [
       "<matplotlib.quiver.Quiver at 0x1178c21d0>"
      ]
     },
     "execution_count": 6,
     "metadata": {},
     "output_type": "execute_result"
    },
    {
     "data": {
      "image/png": "[encoded data removed]",
      "text/plain": [
       "<Figure size 432x288 with 1 Axes>"
      ]
     },
     "metadata": {
      "needs_background": "light"
     },
     "output_type": "display_data"
    }
   ],
   "source": [
    "# tutorial from forum https://fenicsproject.org/qa/1460/numpy-arrays-from-fenics-data/\n",
    "from dolfin import *\n",
    "import numpy as np\n",
    "import pylab as pl\n",
    "\n",
    "mesh = UnitSquareMesh(3,5)\n",
    "V = VectorFunctionSpace(mesh, \"CG\", 1)\n",
    "u = Function(V)\n",
    "\n",
    "# Vertex based data\n",
    "vertex_vector_values = np.zeros(mesh.num_vertices()*2)\n",
    "vertex_vector_values[::2] = mesh.coordinates().sum(1)\n",
    "vertex_vector_values[1::2] = 2-mesh.coordinates().sum(1)\n",
    "# vertex_to_dof_map = V.dofmap().vertex_to_dof_map(mesh)\n",
    "dof_to_vertex_map_values = dof_to_vertex_map(V)\n",
    "\n",
    "u.vector().set_local(vertex_vector_values[dof_to_vertex_map_values])\n",
    "\n",
    "####### NOW GO THE OTHER WAY #####\n",
    "\n",
    "arr = u.vector().vec()\n",
    "coor = mesh.coordinates()\n",
    "# vtd = V.dofmap().dof_to_vertex_map(mesh)\n",
    "vtd = dof_to_vertex_map(V)\n",
    "\n",
    "values = list()\n",
    "for i, dum in enumerate(coor):\n",
    "    values.append([arr[vtd[2*i]],arr[vtd[2*i+1]]])\n",
    "values = np.array(values)\n",
    "\n",
    "\n",
    "#################\n",
    "x = list()\n",
    "y = list()\n",
    "vx = list()\n",
    "vy = list()\n",
    "for i, dum in enumerate(coor):\n",
    "#     print '(%f,%f) -> (%f,%f)' %(coor[i][0], coor[i][1], values[i][0], values[i][1])\n",
    "    x.append(coor[i][0])\n",
    "    y.append(coor[i][1])\n",
    "    vx.append(values[i][0])\n",
    "    vy.append(values[i][1])\n",
    "\n",
    "pl.quiver(x,y,vx,vy)\n",
    "pl.axis([0, 1.3, 0, 1.3])\n",
    "pl.show()\n",
    "plot(u)"
   ]
  },
  {
   "cell_type": "code",
   "execution_count": 7,
   "metadata": {},
   "outputs": [
    {
     "data": {
      "text/plain": [
       "array([[0.33333333, 1.66666667],\n",
       "       [1.2       , 0.8       ],\n",
       "       [0.53333333, 1.46666667],\n",
       "       [0.66666667, 1.33333333],\n",
       "       [0.        , 2.        ],\n",
       "       [0.73333333, 1.26666667],\n",
       "       [1.        , 1.        ],\n",
       "       [1.4       , 0.6       ],\n",
       "       [0.2       , 1.8       ],\n",
       "       [0.93333333, 1.06666667],\n",
       "       [0.86666667, 1.13333333],\n",
       "       [1.6       , 0.4       ],\n",
       "       [0.4       , 1.6       ],\n",
       "       [1.13333333, 0.86666667],\n",
       "       [1.06666667, 0.93333333],\n",
       "       [1.8       , 0.2       ],\n",
       "       [0.6       , 1.4       ],\n",
       "       [1.        , 1.        ],\n",
       "       [1.26666667, 0.73333333],\n",
       "       [2.        , 0.        ],\n",
       "       [1.33333333, 0.66666667],\n",
       "       [1.46666667, 0.53333333],\n",
       "       [0.8       , 1.2       ],\n",
       "       [1.66666667, 0.33333333]])"
      ]
     },
     "execution_count": 7,
     "metadata": {},
     "output_type": "execute_result"
    }
   ],
   "source": [
    "values"
   ]
  },
  {
   "cell_type": "code",
   "execution_count": 16,
   "metadata": {},
   "outputs": [
    {
     "name": "stdout",
     "output_type": "stream",
     "text": [
      "Global dofs associated with cell 0: \n",
      "[ 6 10  7]\n",
      "Global dofs associated with cell 1: \n",
      "[6 3 7]\n",
      "Global dofs associated with cell 2: \n",
      "[10 13 11]\n",
      "Global dofs associated with cell 3: \n",
      "[10  7 11]\n",
      "Global dofs associated with cell 4: \n",
      "[13 15 14]\n",
      "Global dofs associated with cell 5: \n",
      "[13 11 14]\n",
      "Global dofs associated with cell 6: \n",
      "[3 7 4]\n",
      "Global dofs associated with cell 7: \n",
      "[3 1 4]\n",
      "Global dofs associated with cell 8: \n",
      "[ 7 11  8]\n",
      "Global dofs associated with cell 9: \n",
      "[7 4 8]\n",
      "Global dofs associated with cell 10: \n",
      "[11 14 12]\n",
      "Global dofs associated with cell 11: \n",
      "[11  8 12]\n",
      "Global dofs associated with cell 12: \n",
      "[1 4 2]\n",
      "Global dofs associated with cell 13: \n",
      "[1 0 2]\n",
      "Global dofs associated with cell 14: \n",
      "[4 8 5]\n",
      "Global dofs associated with cell 15: \n",
      "[4 2 5]\n",
      "Global dofs associated with cell 16: \n",
      "[ 8 12  9]\n",
      "Global dofs associated with cell 17: \n",
      "[8 5 9]\n"
     ]
    }
   ],
   "source": [
    "# another tutorial\n",
    "from dolfin import *\n",
    "mesh = UnitSquareMesh(3,3)\n",
    "V = FunctionSpace(mesh, \"Lagrange\", 1)\n",
    "\n",
    "for (i, cell) in enumerate(cells(V.mesh())):\n",
    "        print(\"Global dofs associated with cell %d: \" % i)\n",
    "        print(V.dofmap().cell_dofs(i))\n",
    "#         print(\"The Dof coordinates:\")\n",
    "#         print(V.dofmap().tabulate_coordinates(cell))"
   ]
  },
  {
   "cell_type": "code",
   "execution_count": 143,
   "metadata": {},
   "outputs": [],
   "source": [
    "## yet another \n",
    "import pylab as pl\n",
    "V = VectorFunctionSpace(mesh, \"CG\", 1)\n",
    "u = Function(V)\n",
    "\n",
    "####### set values from u_\n",
    "\n",
    "arr = p_.vector().vec()\n",
    "coor = mesh.coordinates()\n",
    "# vtd = V.dofmap().dof_to_vertex_map(mesh)#deprecated\n",
    "# vtd = dof_to_vertex_map(V)#useful only for \"CG1\" space # https://fenicsproject.org/qa/10767/dof_to_vertex_map-dolfin-1-3-0/\n",
    "# values = list()\n",
    "# n=mesh.num_vertices()\n",
    "# for i in range(n):\n",
    "# #     values.append([arr[vtd[2*i]],arr[vtd[2*i+1]]])\n",
    "#     values.append([arr[myx[i]],arr[myy[i]]])\n",
    "# values = np.array(values)\n",
    "\n",
    "myx = interpolate(Expression(\"x[0]\",degree=2), FunctionSpace(mesh,'CG',1)).vector()\n",
    "myy = interpolate(Expression(\"x[1]\",degree=2), FunctionSpace(mesh,'CG',1)).vector()\n",
    "# myz = interpolate(Expression(\"x[2]\"), FunctionSpace(mesh,'CG',2)).vector()\n",
    "myx=myx.vec()[:]\n",
    "myy=myy.vec()[:]\n",
    "values=np.array([myx,myy])\n",
    "\n",
    "\n",
    "####### set values to u\n",
    "vertex_vector_values = np.zeros(mesh.num_vertices()*2)\n",
    "vertex_vector_values[::2] = values[0,:]\n",
    "vertex_vector_values[1::2] = values[1,:]\n",
    "# vertex_to_dof_map = V.dofmap().vertex_to_dof_map(mesh)\n",
    "dof_to_vertex_map_values = dof_to_vertex_map(V)\n",
    "\n",
    "u.vector().set_local(vertex_vector_values[dof_to_vertex_map_values])"
   ]
  },
  {
   "cell_type": "code",
   "execution_count": null,
   "metadata": {},
   "outputs": [],
   "source": [
    "import SolveParamNS"
   ]
  },
  {
   "cell_type": "code",
   "execution_count": null,
   "metadata": {},
   "outputs": [],
   "source": [
    "# getting data from h5\n",
    "import h5py\n",
    "filename = 'navier_stokes_cylinder/velocity.h5'\n",
    "f = h5py.File(filename, 'r')\n",
    "\n",
    "# List all groups\n",
    "print(\"Keys: %s\" % f.keys())\n",
    "a_group_key = list(f.keys())[0]\n",
    "\n",
    "# # Get the data\n",
    "# data = list(f[a_group_key]\n",
    "f[\"Mesh\"].values()"
   ]
  },
  {
   "cell_type": "code",
   "execution_count": 142,
   "metadata": {},
   "outputs": [
    {
     "data": {
      "image/png": "[encoded data removed]",
      "text/plain": [
       "<Figure size 432x288 with 1 Axes>"
      ]
     },
     "metadata": {
      "needs_background": "light"
     },
     "output_type": "display_data"
    }
   ],
   "source": [
    "# to make an animation with built-in matplotlib method\n",
    "\n",
    "import matplotlib.animation as animation\n",
    "def update_line(num, data, line):\n",
    "    line.set_data(data[..., :num])\n",
    "    return line,\n",
    "fig1 = plt.figure()\n",
    "\n",
    "# Fixing random state for reproducibility\n",
    "# np.random.seed(19680801)\n",
    "\n",
    "data = np.random.rand(2, 25)\n",
    "l, = plt.plot([], [], 'r-')\n",
    "plt.xlim(0, 1)\n",
    "plt.ylim(0, 1)\n",
    "plt.xlabel('x')\n",
    "plt.title('test')\n",
    "line_ani = animation.FuncAnimation(fig1, update_line, 25, fargs=(data, l),\n",
    "                                   interval=50, blit=True)\n",
    "plt.show()"
   ]
  },
  {
   "cell_type": "code",
   "execution_count": 152,
   "metadata": {},
   "outputs": [
    {
     "name": "stdout",
     "output_type": "stream",
     "text": [
      "(2, 1)\n"
     ]
    },
    {
     "ename": "TypeError",
     "evalue": "eval(): incompatible function arguments. The following argument types are supported:\n    1. (self: dolfin.cpp.function.GenericFunction, arg0: numpy.ndarray[float64[m, 1], flags.writeable], arg1: numpy.ndarray[float64[m, 1]], arg2: dolfin::Cell) -> None\n    2. (self: dolfin.cpp.function.GenericFunction, arg0: numpy.ndarray[float64[m, 1], flags.writeable], arg1: numpy.ndarray[float64[m, 1]], arg2: dolfin.cpp.function.ufc_cell) -> None\n    3. (self: dolfin.cpp.function.GenericFunction, values: numpy.ndarray[float64[m, 1], flags.writeable], x: numpy.ndarray[float64[m, 1]]) -> None\n\nInvoked with: <dolfin.cpp.function.Function object at 0x123041618>, array([[0],\n       [0]]), array([[0],\n       [0]])",
     "output_type": "error",
     "traceback": [
      "\u001b[0;31m---------------------------------------------------------------------------\u001b[0m",
      "\u001b[0;31mTypeError\u001b[0m                                 Traceback (most recent call last)",
      "\u001b[0;32m<ipython-input-152-43d1d7512c2a>\u001b[0m in \u001b[0;36m<module>\u001b[0;34m\u001b[0m\n\u001b[1;32m      1\u001b[0m \u001b[0mprint\u001b[0m\u001b[0;34m(\u001b[0m\u001b[0mnp\u001b[0m\u001b[0;34m.\u001b[0m\u001b[0marray\u001b[0m\u001b[0;34m(\u001b[0m\u001b[0;34m[\u001b[0m\u001b[0;36m0\u001b[0m\u001b[0;34m,\u001b[0m\u001b[0;36m0\u001b[0m\u001b[0;34m]\u001b[0m\u001b[0;34m)\u001b[0m\u001b[0;34m.\u001b[0m\u001b[0mreshape\u001b[0m\u001b[0;34m(\u001b[0m\u001b[0;36m2\u001b[0m\u001b[0;34m,\u001b[0m\u001b[0;36m1\u001b[0m\u001b[0;34m)\u001b[0m\u001b[0;34m.\u001b[0m\u001b[0mshape\u001b[0m\u001b[0;34m)\u001b[0m\u001b[0;34m\u001b[0m\u001b[0;34m\u001b[0m\u001b[0m\n\u001b[1;32m      2\u001b[0m \u001b[0mvalues\u001b[0m \u001b[0;34m=\u001b[0m \u001b[0mnp\u001b[0m\u001b[0;34m.\u001b[0m\u001b[0marray\u001b[0m\u001b[0;34m(\u001b[0m\u001b[0;34m[\u001b[0m\u001b[0;36m0\u001b[0m\u001b[0;34m,\u001b[0m\u001b[0;36m0\u001b[0m\u001b[0;34m]\u001b[0m\u001b[0;34m)\u001b[0m\u001b[0;34m.\u001b[0m\u001b[0mreshape\u001b[0m\u001b[0;34m(\u001b[0m\u001b[0;36m2\u001b[0m\u001b[0;34m,\u001b[0m\u001b[0;36m1\u001b[0m\u001b[0;34m)\u001b[0m\u001b[0;34m\u001b[0m\u001b[0;34m\u001b[0m\u001b[0m\n\u001b[0;32m----> 3\u001b[0;31m \u001b[0mu_\u001b[0m\u001b[0;34m.\u001b[0m\u001b[0meval\u001b[0m\u001b[0;34m(\u001b[0m\u001b[0mvalues\u001b[0m\u001b[0;34m,\u001b[0m\u001b[0mnp\u001b[0m\u001b[0;34m.\u001b[0m\u001b[0marray\u001b[0m\u001b[0;34m(\u001b[0m\u001b[0;34m[\u001b[0m\u001b[0;36m0\u001b[0m\u001b[0;34m,\u001b[0m\u001b[0;36m0\u001b[0m\u001b[0;34m]\u001b[0m\u001b[0;34m)\u001b[0m\u001b[0;34m.\u001b[0m\u001b[0mreshape\u001b[0m\u001b[0;34m(\u001b[0m\u001b[0;36m2\u001b[0m\u001b[0;34m,\u001b[0m\u001b[0;36m1\u001b[0m\u001b[0;34m)\u001b[0m\u001b[0;34m)\u001b[0m\u001b[0;34m\u001b[0m\u001b[0;34m\u001b[0m\u001b[0m\n\u001b[0m",
      "\u001b[0;32m/anaconda3/lib/python3.6/site-packages/dolfin/function/function.py\u001b[0m in \u001b[0;36meval\u001b[0;34m(self, u, x)\u001b[0m\n\u001b[1;32m    351\u001b[0m \u001b[0;34m\u001b[0m\u001b[0m\n\u001b[1;32m    352\u001b[0m     \u001b[0;32mdef\u001b[0m \u001b[0meval\u001b[0m\u001b[0;34m(\u001b[0m\u001b[0mself\u001b[0m\u001b[0;34m,\u001b[0m \u001b[0mu\u001b[0m\u001b[0;34m,\u001b[0m \u001b[0mx\u001b[0m\u001b[0;34m)\u001b[0m\u001b[0;34m:\u001b[0m\u001b[0;34m\u001b[0m\u001b[0;34m\u001b[0m\u001b[0m\n\u001b[0;32m--> 353\u001b[0;31m         \u001b[0;32mreturn\u001b[0m \u001b[0mself\u001b[0m\u001b[0;34m.\u001b[0m\u001b[0m_cpp_object\u001b[0m\u001b[0;34m.\u001b[0m\u001b[0meval\u001b[0m\u001b[0;34m(\u001b[0m\u001b[0mu\u001b[0m\u001b[0;34m,\u001b[0m \u001b[0mx\u001b[0m\u001b[0;34m)\u001b[0m\u001b[0;34m\u001b[0m\u001b[0;34m\u001b[0m\u001b[0m\n\u001b[0m\u001b[1;32m    354\u001b[0m \u001b[0;34m\u001b[0m\u001b[0m\n\u001b[1;32m    355\u001b[0m     \u001b[0;32mdef\u001b[0m \u001b[0mextrapolate\u001b[0m\u001b[0;34m(\u001b[0m\u001b[0mself\u001b[0m\u001b[0;34m,\u001b[0m \u001b[0mu\u001b[0m\u001b[0;34m)\u001b[0m\u001b[0;34m:\u001b[0m\u001b[0;34m\u001b[0m\u001b[0;34m\u001b[0m\u001b[0m\n",
      "\u001b[0;31mTypeError\u001b[0m: eval(): incompatible function arguments. The following argument types are supported:\n    1. (self: dolfin.cpp.function.GenericFunction, arg0: numpy.ndarray[float64[m, 1], flags.writeable], arg1: numpy.ndarray[float64[m, 1]], arg2: dolfin::Cell) -> None\n    2. (self: dolfin.cpp.function.GenericFunction, arg0: numpy.ndarray[float64[m, 1], flags.writeable], arg1: numpy.ndarray[float64[m, 1]], arg2: dolfin.cpp.function.ufc_cell) -> None\n    3. (self: dolfin.cpp.function.GenericFunction, values: numpy.ndarray[float64[m, 1], flags.writeable], x: numpy.ndarray[float64[m, 1]]) -> None\n\nInvoked with: <dolfin.cpp.function.Function object at 0x123041618>, array([[0],\n       [0]]), array([[0],\n       [0]])"
     ]
    }
   ],
   "source": [
    "print(np.array([0,0]).reshape(2,1).shape)\n",
    "values = np.array([0,0]).reshape(2,1)\n",
    "u_.eval(values,np.array([0,0]).reshape(2,1))"
   ]
  },
  {
   "cell_type": "code",
   "execution_count": 23,
   "metadata": {},
   "outputs": [
    {
     "data": {
      "text/plain": [
       "-0.0028851738674932834"
      ]
     },
     "execution_count": 23,
     "metadata": {},
     "output_type": "execute_result"
    }
   ],
   "source": [
    "nn=10\n",
    "xx1=np.linspace(1.9,2.1,nn)\n",
    "yy=np.linspace(-2.1,-1.9,nn)\n",
    "xy=zip(xx1,yy)\n",
    "u_at_bd_1 = [i for i in map(u_,[np.array(i) for i in xy])]\n",
    "u_normal_1 = map(lambda x:(x[0]-x[1])/np.sqrt(2),u_at_bd_1)\n",
    "u_avg_1 = sum(u_normal_1)*0.2*2**0.5/nn\n",
    "\n",
    "xx2=np.linspace(1.9,2.1,nn)\n",
    "# yy=np.linspace(2.1,1.9,nn)\n",
    "xy=zip(xx2,yy)\n",
    "u_at_bd_2 = [i for i in map(u_,[np.array(i) for i in xy])]\n",
    "u_normal_2 = map(lambda x:(x[0]+x[1])/np.sqrt(2),u_at_bd_2)\n",
    "u_avg_2 = sum(u_normal_2)*0.2*2**0.5/nn\n",
    "u_avg_2"
   ]
  },
  {
   "cell_type": "code",
   "execution_count": 172,
   "metadata": {},
   "outputs": [
    {
     "ename": "TypeError",
     "evalue": "'<' not supported between instances of 'Mesh' and 'Mesh'",
     "output_type": "error",
     "traceback": [
      "\u001b[0;31m---------------------------------------------------------------------------\u001b[0m",
      "\u001b[0;31mTypeError\u001b[0m                                 Traceback (most recent call last)",
      "\u001b[0;32m<ipython-input-172-4c2daef5e4b8>\u001b[0m in \u001b[0;36m<module>\u001b[0;34m\u001b[0m\n\u001b[1;32m      1\u001b[0m \u001b[0mn\u001b[0m \u001b[0;34m=\u001b[0m \u001b[0mFacetNormal\u001b[0m\u001b[0;34m(\u001b[0m\u001b[0mmesh\u001b[0m\u001b[0;34m)\u001b[0m\u001b[0;34m\u001b[0m\u001b[0;34m\u001b[0m\u001b[0m\n\u001b[0;32m----> 2\u001b[0;31m \u001b[0mflux\u001b[0m \u001b[0;34m=\u001b[0m \u001b[0;34m-\u001b[0m\u001b[0mk\u001b[0m\u001b[0;34m*\u001b[0m\u001b[0mdot\u001b[0m\u001b[0;34m(\u001b[0m\u001b[0mu_\u001b[0m\u001b[0;34m,\u001b[0m \u001b[0mn\u001b[0m\u001b[0;34m)\u001b[0m\u001b[0;34m*\u001b[0m\u001b[0mds\u001b[0m\u001b[0;34m\u001b[0m\u001b[0;34m\u001b[0m\u001b[0m\n\u001b[0m\u001b[1;32m      3\u001b[0m \u001b[0;31m# total_flux = assemble(flux)\u001b[0m\u001b[0;34m\u001b[0m\u001b[0;34m\u001b[0m\u001b[0;34m\u001b[0m\u001b[0m\n",
      "\u001b[0;32m/anaconda3/lib/python3.6/site-packages/ufl/measure.py\u001b[0m in \u001b[0;36m__rmul__\u001b[0;34m(self, integrand)\u001b[0m\n\u001b[1;32m    435\u001b[0m         \u001b[0mdomain\u001b[0m \u001b[0;34m=\u001b[0m \u001b[0mself\u001b[0m\u001b[0;34m.\u001b[0m\u001b[0mufl_domain\u001b[0m\u001b[0;34m(\u001b[0m\u001b[0;34m)\u001b[0m\u001b[0;34m\u001b[0m\u001b[0;34m\u001b[0m\u001b[0m\n\u001b[1;32m    436\u001b[0m         \u001b[0;32mif\u001b[0m \u001b[0mdomain\u001b[0m \u001b[0;32mis\u001b[0m \u001b[0;32mNone\u001b[0m\u001b[0;34m:\u001b[0m\u001b[0;34m\u001b[0m\u001b[0;34m\u001b[0m\u001b[0m\n\u001b[0;32m--> 437\u001b[0;31m             \u001b[0mdomains\u001b[0m \u001b[0;34m=\u001b[0m \u001b[0mextract_domains\u001b[0m\u001b[0;34m(\u001b[0m\u001b[0mintegrand\u001b[0m\u001b[0;34m)\u001b[0m\u001b[0;34m\u001b[0m\u001b[0;34m\u001b[0m\u001b[0m\n\u001b[0m\u001b[1;32m    438\u001b[0m             \u001b[0;32mif\u001b[0m \u001b[0mlen\u001b[0m\u001b[0;34m(\u001b[0m\u001b[0mdomains\u001b[0m\u001b[0;34m)\u001b[0m \u001b[0;34m==\u001b[0m \u001b[0;36m1\u001b[0m\u001b[0;34m:\u001b[0m\u001b[0;34m\u001b[0m\u001b[0;34m\u001b[0m\u001b[0m\n\u001b[1;32m    439\u001b[0m                 \u001b[0mdomain\u001b[0m\u001b[0;34m,\u001b[0m \u001b[0;34m=\u001b[0m \u001b[0mdomains\u001b[0m\u001b[0;34m\u001b[0m\u001b[0;34m\u001b[0m\u001b[0m\n",
      "\u001b[0;32m/anaconda3/lib/python3.6/site-packages/ufl/domain.py\u001b[0m in \u001b[0;36mextract_domains\u001b[0;34m(expr)\u001b[0m\n\u001b[1;32m    349\u001b[0m     \u001b[0;32mfor\u001b[0m \u001b[0mt\u001b[0m \u001b[0;32min\u001b[0m \u001b[0mtraverse_unique_terminals\u001b[0m\u001b[0;34m(\u001b[0m\u001b[0mexpr\u001b[0m\u001b[0;34m)\u001b[0m\u001b[0;34m:\u001b[0m\u001b[0;34m\u001b[0m\u001b[0;34m\u001b[0m\u001b[0m\n\u001b[1;32m    350\u001b[0m         \u001b[0mdomainlist\u001b[0m\u001b[0;34m.\u001b[0m\u001b[0mextend\u001b[0m\u001b[0;34m(\u001b[0m\u001b[0mt\u001b[0m\u001b[0;34m.\u001b[0m\u001b[0mufl_domains\u001b[0m\u001b[0;34m(\u001b[0m\u001b[0;34m)\u001b[0m\u001b[0;34m)\u001b[0m\u001b[0;34m\u001b[0m\u001b[0;34m\u001b[0m\u001b[0m\n\u001b[0;32m--> 351\u001b[0;31m     \u001b[0;32mreturn\u001b[0m \u001b[0msorted\u001b[0m\u001b[0;34m(\u001b[0m\u001b[0mjoin_domains\u001b[0m\u001b[0;34m(\u001b[0m\u001b[0mdomainlist\u001b[0m\u001b[0;34m)\u001b[0m\u001b[0;34m)\u001b[0m\u001b[0;34m\u001b[0m\u001b[0;34m\u001b[0m\u001b[0m\n\u001b[0m\u001b[1;32m    352\u001b[0m \u001b[0;34m\u001b[0m\u001b[0m\n\u001b[1;32m    353\u001b[0m \u001b[0;34m\u001b[0m\u001b[0m\n",
      "\u001b[0;31mTypeError\u001b[0m: '<' not supported between instances of 'Mesh' and 'Mesh'"
     ]
    }
   ],
   "source": [
    "n = FacetNormal(mesh)\n",
    "flux = -k*dot(u_, n)*ds\n",
    "# total_flux = assemble(flux)"
   ]
  },
  {
   "cell_type": "code",
   "execution_count": 20,
   "metadata": {},
   "outputs": [
    {
     "ename": "TypeError",
     "evalue": "float() argument must be a string or a number, not 'interp1d'",
     "output_type": "error",
     "traceback": [
      "\u001b[0;31m---------------------------------------------------------------------------\u001b[0m",
      "\u001b[0;31mTypeError\u001b[0m                                 Traceback (most recent call last)",
      "\u001b[0;32m<ipython-input-20-4e4feb42f382>\u001b[0m in \u001b[0;36m<module>\u001b[0;34m\u001b[0m\n\u001b[1;32m     17\u001b[0m \u001b[0;34m\u001b[0m\u001b[0m\n\u001b[1;32m     18\u001b[0m \u001b[0mcylinder\u001b[0m \u001b[0;34m=\u001b[0m \u001b[0;34m'on_boundary && x[0]>0.91 && x[0]<1.09 && x[1]>-1.09 && x[1]<-0.91'\u001b[0m\u001b[0;34m\u001b[0m\u001b[0;34m\u001b[0m\u001b[0m\n\u001b[0;32m---> 19\u001b[0;31m \u001b[0mbcu_cylinder\u001b[0m \u001b[0;34m=\u001b[0m \u001b[0mDirichletBC\u001b[0m\u001b[0;34m(\u001b[0m\u001b[0mVvec\u001b[0m\u001b[0;34m,\u001b[0m \u001b[0mf\u001b[0m\u001b[0;34m,\u001b[0m \u001b[0mcylinder\u001b[0m\u001b[0;34m)\u001b[0m\u001b[0;34m\u001b[0m\u001b[0;34m\u001b[0m\u001b[0m\n\u001b[0m\u001b[1;32m     20\u001b[0m \u001b[0;34m\u001b[0m\u001b[0m\n\u001b[1;32m     21\u001b[0m \u001b[0;34m\u001b[0m\u001b[0m\n",
      "\u001b[0;32m/anaconda3/lib/python3.6/site-packages/dolfin/fem/dirichletbc.py\u001b[0m in \u001b[0;36m__init__\u001b[0;34m(self, *args, **kwargs)\u001b[0m\n\u001b[1;32m     76\u001b[0m                     \u001b[0mexpr\u001b[0m \u001b[0;34m=\u001b[0m \u001b[0mproject\u001b[0m\u001b[0;34m(\u001b[0m\u001b[0margs\u001b[0m\u001b[0;34m[\u001b[0m\u001b[0;36m1\u001b[0m\u001b[0;34m]\u001b[0m\u001b[0;34m,\u001b[0m \u001b[0margs\u001b[0m\u001b[0;34m[\u001b[0m\u001b[0;36m0\u001b[0m\u001b[0;34m]\u001b[0m\u001b[0;34m)\u001b[0m  \u001b[0;31m# FIXME: This should really be interpolaton (project is expensive)\u001b[0m\u001b[0;34m\u001b[0m\u001b[0;34m\u001b[0m\u001b[0m\n\u001b[1;32m     77\u001b[0m                 \u001b[0;32melse\u001b[0m\u001b[0;34m:\u001b[0m\u001b[0;34m\u001b[0m\u001b[0;34m\u001b[0m\u001b[0m\n\u001b[0;32m---> 78\u001b[0;31m                     \u001b[0mexpr\u001b[0m \u001b[0;34m=\u001b[0m \u001b[0mConstant\u001b[0m\u001b[0;34m(\u001b[0m\u001b[0margs\u001b[0m\u001b[0;34m[\u001b[0m\u001b[0;36m1\u001b[0m\u001b[0;34m]\u001b[0m\u001b[0;34m)\u001b[0m\u001b[0;34m\u001b[0m\u001b[0;34m\u001b[0m\u001b[0m\n\u001b[0m\u001b[1;32m     79\u001b[0m                 \u001b[0margs\u001b[0m \u001b[0;34m=\u001b[0m \u001b[0margs\u001b[0m\u001b[0;34m[\u001b[0m\u001b[0;34m:\u001b[0m\u001b[0;36m1\u001b[0m\u001b[0;34m]\u001b[0m \u001b[0;34m+\u001b[0m \u001b[0;34m(\u001b[0m\u001b[0mexpr\u001b[0m\u001b[0;34m,\u001b[0m\u001b[0;34m)\u001b[0m \u001b[0;34m+\u001b[0m \u001b[0margs\u001b[0m\u001b[0;34m[\u001b[0m\u001b[0;36m2\u001b[0m\u001b[0;34m:\u001b[0m\u001b[0;34m]\u001b[0m\u001b[0;34m\u001b[0m\u001b[0;34m\u001b[0m\u001b[0m\n\u001b[1;32m     80\u001b[0m \u001b[0;34m\u001b[0m\u001b[0m\n",
      "\u001b[0;32m/anaconda3/lib/python3.6/site-packages/dolfin/function/constant.py\u001b[0m in \u001b[0;36m__init__\u001b[0;34m(self, value, cell, name)\u001b[0m\n\u001b[1;32m     66\u001b[0m         \u001b[0marray\u001b[0m \u001b[0;34m=\u001b[0m \u001b[0mnumpy\u001b[0m\u001b[0;34m.\u001b[0m\u001b[0marray\u001b[0m\u001b[0;34m(\u001b[0m\u001b[0mvalue\u001b[0m\u001b[0;34m)\u001b[0m\u001b[0;34m\u001b[0m\u001b[0;34m\u001b[0m\u001b[0m\n\u001b[1;32m     67\u001b[0m         \u001b[0mrank\u001b[0m \u001b[0;34m=\u001b[0m \u001b[0mlen\u001b[0m\u001b[0;34m(\u001b[0m\u001b[0marray\u001b[0m\u001b[0;34m.\u001b[0m\u001b[0mshape\u001b[0m\u001b[0;34m)\u001b[0m\u001b[0;34m\u001b[0m\u001b[0;34m\u001b[0m\u001b[0m\n\u001b[0;32m---> 68\u001b[0;31m         \u001b[0mfloats\u001b[0m \u001b[0;34m=\u001b[0m \u001b[0mlist\u001b[0m\u001b[0;34m(\u001b[0m\u001b[0mmap\u001b[0m\u001b[0;34m(\u001b[0m\u001b[0mfloat\u001b[0m\u001b[0;34m,\u001b[0m \u001b[0marray\u001b[0m\u001b[0;34m.\u001b[0m\u001b[0mflat\u001b[0m\u001b[0;34m)\u001b[0m\u001b[0;34m)\u001b[0m\u001b[0;34m\u001b[0m\u001b[0;34m\u001b[0m\u001b[0m\n\u001b[0m\u001b[1;32m     69\u001b[0m \u001b[0;34m\u001b[0m\u001b[0m\n\u001b[1;32m     70\u001b[0m         \u001b[0;31m# Create UFL element and initialize constant\u001b[0m\u001b[0;34m\u001b[0m\u001b[0;34m\u001b[0m\u001b[0;34m\u001b[0m\u001b[0m\n",
      "\u001b[0;31mTypeError\u001b[0m: float() argument must be a string or a number, not 'interp1d'"
     ]
    }
   ],
   "source": [
    "\n",
    "class INFLOW(UserExpression):\n",
    "    # def set_k_values(self,a):\n",
    "    #     self.a = a\n",
    "    def eval(self, value, x):\n",
    "        \"Set value[0] to value at point x\"\n",
    "        tol = 1E-14\n",
    "        value[0] = 4.0*1.5*(x[1] + 0.2)*(0.2 - x[1]) / pow(0.4, 2)\n",
    "        value[1] = 0\n",
    "\n",
    "    def value_shape(self):\n",
    "        return (2,)\n",
    "    \n",
    "Vtest = VectorFunctionSpace(mesh, 'CG', 1)\n",
    "Vvec = VectorFunctionSpace(mesh, 'P', 2)\n",
    "F = INFLOW()\n",
    "\n",
    "cylinder = 'on_boundary && x[0]>0.91 && x[0]<1.09 && x[1]>-1.09 && x[1]<-0.91'\n",
    "bcu_cylinder = DirichletBC(Vvec, f, cylinder)\n",
    "\n",
    "\n",
    "# interpolate(f,Vvec)"
   ]
  },
  {
   "cell_type": "code",
   "execution_count": 21,
   "metadata": {},
   "outputs": [
    {
     "name": "stderr",
     "output_type": "stream",
     "text": [
      "/anaconda3/lib/python3.6/site-packages/ipykernel_launcher.py:2: RuntimeWarning: divide by zero encountered in true_divide\n",
      "  \n",
      "/anaconda3/lib/python3.6/site-packages/ipykernel_launcher.py:2: RuntimeWarning: divide by zero encountered in log\n",
      "  \n",
      "/anaconda3/lib/python3.6/site-packages/ipykernel_launcher.py:2: RuntimeWarning: invalid value encountered in multiply\n",
      "  \n"
     ]
    },
    {
     "data": {
      "text/plain": [
       "[<matplotlib.lines.Line2D at 0x117b97278>]"
      ]
     },
     "execution_count": 21,
     "metadata": {},
     "output_type": "execute_result"
    },
    {
     "data": {
      "image/png": "[encoded data removed]",
      "text/plain": [
       "<Figure size 432x288 with 1 Axes>"
      ]
     },
     "metadata": {
      "needs_background": "light"
     },
     "output_type": "display_data"
    }
   ],
   "source": [
    "xxx=np.linspace(-.2,.2,100)\n",
    "yyy=1/(xxx + 0.2)/(0.2 - xxx) * pow(0.4, 2) * np.exp(-0.5*(np.log((0.2+xxx)/(0.2-xxx))-0.1)**2)\n",
    "plt.plot(xxx,yyy)"
   ]
  },
  {
   "cell_type": "code",
   "execution_count": 22,
   "metadata": {},
   "outputs": [
    {
     "data": {
      "text/plain": [
       "1.7001292722849697"
      ]
     },
     "execution_count": 22,
     "metadata": {},
     "output_type": "execute_result"
    }
   ],
   "source": [
    "u_.vector().vec().max()[1]"
   ]
  },
  {
   "cell_type": "code",
   "execution_count": 13,
   "metadata": {},
   "outputs": [
    {
     "data": {
      "text/plain": [
       "<matplotlib.legend.Legend at 0x123bde7f0>"
      ]
     },
     "execution_count": 13,
     "metadata": {},
     "output_type": "execute_result"
    },
    {
     "data": {
      "image/png": "[encoded data removed]",
      "text/plain": [
       "<Figure size 432x288 with 1 Axes>"
      ]
     },
     "metadata": {
      "needs_background": "light"
     },
     "output_type": "display_data"
    }
   ],
   "source": [
    "from scipy.interpolate import interp1d\n",
    "\n",
    "xp=np.array([0,0.025,0.17,0.3,0.38,0.45,0.55,0.65,0.75,0.9,1,1.025])\n",
    "yp=np.array([0.17,0.15,1,0.23,0.27,0.0,0.35,0.22,0.22,0.17,0.17,0.15])\n",
    "xxx=np.linspace(0,1,100)\n",
    "f = interp1d(xp, yp,kind='cubic')\n",
    "plt.plot(xxx,f(xxx),label='1')\n",
    "# plt.plot(xxx,f(xxx)+1,label='2')\n",
    "plt.legend(bbox_to_anchor=(1.05, 1), loc=2, borderaxespad=0.)"
   ]
  },
  {
   "cell_type": "code",
   "execution_count": 35,
   "metadata": {},
   "outputs": [
    {
     "data": {
      "text/plain": [
       "0.9537395015926986"
      ]
     },
     "execution_count": 35,
     "metadata": {},
     "output_type": "execute_result"
    }
   ],
   "source": [
    "p_(np.array([0,0]))"
   ]
  },
  {
   "cell_type": "code",
   "execution_count": 39,
   "metadata": {},
   "outputs": [
    {
     "name": "stdout",
     "output_type": "stream",
     "text": [
      "boundary 1 -2.4834890021380046e-17\n"
     ]
    }
   ],
   "source": [
    "nn=10\n",
    "xx1=np.linspace(1.9,2.1,nn)\n",
    "yy=np.linspace(-2.1,-1.9,nn)\n",
    "xy1=zip(xx1,yy)\n",
    "        \n",
    "p_at_bd_1 = [i for i in map(p_,[np.array(i) for i in xy1])]\n",
    "p_avg_1 = sum(p_at_bd_1)*0.2*2**0.5/nn\n",
    "print('boundary 1',u_avg_1)"
   ]
  },
  {
   "cell_type": "code",
   "execution_count": 23,
   "metadata": {},
   "outputs": [
    {
     "data": {
      "text/plain": [
       "'123 0.500000 0.200000 '"
      ]
     },
     "execution_count": 23,
     "metadata": {},
     "output_type": "execute_result"
    }
   ],
   "source": [
    "\"123 %f %f \" % (a, b)"
   ]
  },
  {
   "cell_type": "code",
   "execution_count": 104,
   "metadata": {},
   "outputs": [
    {
     "data": {
      "text/plain": [
       "[0.0, 0.0, 0.0]"
      ]
     },
     "execution_count": 104,
     "metadata": {},
     "output_type": "execute_result"
    }
   ],
   "source": [
    "nn=3\n",
    "xx0=-1*np.ones(nn)\n",
    "yy0=np.linspace(-.2,.2,nn)\n",
    "xx1=np.linspace(1.9,2.1,nn)\n",
    "yy1=np.linspace(-2.1,-1.9,nn)\n",
    "xx2=np.linspace(1.9,2.1,nn)\n",
    "yy2=np.linspace(2.1,1.9,nn)\n",
    "xx3=np.linspace(0.0,0.2,nn)\n",
    "yy3=np.linspace(-0.2,0.0,nn)\n",
    "xy0=zip(xx0,yy0)\n",
    "xy1=zip(xx1,yy1)\n",
    "xy2=zip(xx2,yy2)\n",
    "xy3=zip(xx3,yy3)\n",
    "u_at_bd_1 = [i for i in map(u_,[np.array(i) for i in xy1])]\n",
    "u_normal_1 = map(lambda x:(x[0]-x[1])/np.sqrt(2),u_at_bd_1)\n",
    "[x for x in u_normal_1]\n"
   ]
  },
  {
   "cell_type": "code",
   "execution_count": 110,
   "metadata": {},
   "outputs": [
    {
     "name": "stdout",
     "output_type": "stream",
     "text": [
      "Couldn't map 'f_4692' to a float, returning ufl object without evaluation.\n"
     ]
    },
    {
     "ename": "NotImplementedError",
     "evalue": "Cannot take length of non-vector expression.",
     "output_type": "error",
     "traceback": [
      "\u001b[0;31m---------------------------------------------------------------------------\u001b[0m",
      "\u001b[0;31mAttributeError\u001b[0m                            Traceback (most recent call last)",
      "\u001b[0;32m/anaconda3/lib/python3.6/site-packages/matplotlib/units.py\u001b[0m in \u001b[0;36mget_converter\u001b[0;34m(self, x)\u001b[0m\n\u001b[1;32m    167\u001b[0m                 \u001b[0;31m# get_converter\u001b[0m\u001b[0;34m\u001b[0m\u001b[0;34m\u001b[0m\u001b[0;34m\u001b[0m\u001b[0m\n\u001b[0;32m--> 168\u001b[0;31m                 \u001b[0;32mif\u001b[0m \u001b[0;32mnot\u001b[0m \u001b[0mnp\u001b[0m\u001b[0;34m.\u001b[0m\u001b[0mall\u001b[0m\u001b[0;34m(\u001b[0m\u001b[0mxravel\u001b[0m\u001b[0;34m.\u001b[0m\u001b[0mmask\u001b[0m\u001b[0;34m)\u001b[0m\u001b[0;34m:\u001b[0m\u001b[0;34m\u001b[0m\u001b[0;34m\u001b[0m\u001b[0m\n\u001b[0m\u001b[1;32m    169\u001b[0m                     \u001b[0;31m# some elements are not masked\u001b[0m\u001b[0;34m\u001b[0m\u001b[0;34m\u001b[0m\u001b[0;34m\u001b[0m\u001b[0m\n",
      "\u001b[0;31mAttributeError\u001b[0m: 'numpy.ndarray' object has no attribute 'mask'",
      "\nDuring handling of the above exception, another exception occurred:\n",
      "\u001b[0;31mNotImplementedError\u001b[0m                       Traceback (most recent call last)",
      "\u001b[0;32m<ipython-input-110-7ccc68013dea>\u001b[0m in \u001b[0;36m<module>\u001b[0;34m\u001b[0m\n\u001b[0;32m----> 1\u001b[0;31m \u001b[0mplt\u001b[0m\u001b[0;34m.\u001b[0m\u001b[0mplot\u001b[0m\u001b[0;34m(\u001b[0m\u001b[0mxxx\u001b[0m\u001b[0;34m,\u001b[0m\u001b[0mf\u001b[0m\u001b[0;34m(\u001b[0m\u001b[0mxxx\u001b[0m\u001b[0;34m)\u001b[0m\u001b[0;34m)\u001b[0m\u001b[0;34m\u001b[0m\u001b[0;34m\u001b[0m\u001b[0m\n\u001b[0m\u001b[1;32m      2\u001b[0m \u001b[0;31m# plt.plot(xxx+1,f(xxx)+1,label='2')\u001b[0m\u001b[0;34m\u001b[0m\u001b[0;34m\u001b[0m\u001b[0;34m\u001b[0m\u001b[0m\n",
      "\u001b[0;32m/anaconda3/lib/python3.6/site-packages/matplotlib/pyplot.py\u001b[0m in \u001b[0;36mplot\u001b[0;34m(scalex, scaley, data, *args, **kwargs)\u001b[0m\n\u001b[1;32m   2811\u001b[0m     return gca().plot(\n\u001b[1;32m   2812\u001b[0m         *args, scalex=scalex, scaley=scaley, **({\"data\": data} if data\n\u001b[0;32m-> 2813\u001b[0;31m         is not None else {}), **kwargs)\n\u001b[0m\u001b[1;32m   2814\u001b[0m \u001b[0;34m\u001b[0m\u001b[0m\n\u001b[1;32m   2815\u001b[0m \u001b[0;34m\u001b[0m\u001b[0m\n",
      "\u001b[0;32m/anaconda3/lib/python3.6/site-packages/matplotlib/__init__.py\u001b[0m in \u001b[0;36minner\u001b[0;34m(ax, data, *args, **kwargs)\u001b[0m\n\u001b[1;32m   1808\u001b[0m                         \u001b[0;34m\"the Matplotlib list!)\"\u001b[0m \u001b[0;34m%\u001b[0m \u001b[0;34m(\u001b[0m\u001b[0mlabel_namer\u001b[0m\u001b[0;34m,\u001b[0m \u001b[0mfunc\u001b[0m\u001b[0;34m.\u001b[0m\u001b[0m__name__\u001b[0m\u001b[0;34m)\u001b[0m\u001b[0;34m,\u001b[0m\u001b[0;34m\u001b[0m\u001b[0;34m\u001b[0m\u001b[0m\n\u001b[1;32m   1809\u001b[0m                         RuntimeWarning, stacklevel=2)\n\u001b[0;32m-> 1810\u001b[0;31m             \u001b[0;32mreturn\u001b[0m \u001b[0mfunc\u001b[0m\u001b[0;34m(\u001b[0m\u001b[0max\u001b[0m\u001b[0;34m,\u001b[0m \u001b[0;34m*\u001b[0m\u001b[0margs\u001b[0m\u001b[0;34m,\u001b[0m \u001b[0;34m**\u001b[0m\u001b[0mkwargs\u001b[0m\u001b[0;34m)\u001b[0m\u001b[0;34m\u001b[0m\u001b[0;34m\u001b[0m\u001b[0m\n\u001b[0m\u001b[1;32m   1811\u001b[0m \u001b[0;34m\u001b[0m\u001b[0m\n\u001b[1;32m   1812\u001b[0m         inner.__doc__ = _add_data_doc(inner.__doc__,\n",
      "\u001b[0;32m/anaconda3/lib/python3.6/site-packages/matplotlib/axes/_axes.py\u001b[0m in \u001b[0;36mplot\u001b[0;34m(self, scalex, scaley, *args, **kwargs)\u001b[0m\n\u001b[1;32m   1609\u001b[0m         \u001b[0mkwargs\u001b[0m \u001b[0;34m=\u001b[0m \u001b[0mcbook\u001b[0m\u001b[0;34m.\u001b[0m\u001b[0mnormalize_kwargs\u001b[0m\u001b[0;34m(\u001b[0m\u001b[0mkwargs\u001b[0m\u001b[0;34m,\u001b[0m \u001b[0mmlines\u001b[0m\u001b[0;34m.\u001b[0m\u001b[0mLine2D\u001b[0m\u001b[0;34m.\u001b[0m\u001b[0m_alias_map\u001b[0m\u001b[0;34m)\u001b[0m\u001b[0;34m\u001b[0m\u001b[0;34m\u001b[0m\u001b[0m\n\u001b[1;32m   1610\u001b[0m \u001b[0;34m\u001b[0m\u001b[0m\n\u001b[0;32m-> 1611\u001b[0;31m         \u001b[0;32mfor\u001b[0m \u001b[0mline\u001b[0m \u001b[0;32min\u001b[0m \u001b[0mself\u001b[0m\u001b[0;34m.\u001b[0m\u001b[0m_get_lines\u001b[0m\u001b[0;34m(\u001b[0m\u001b[0;34m*\u001b[0m\u001b[0margs\u001b[0m\u001b[0;34m,\u001b[0m \u001b[0;34m**\u001b[0m\u001b[0mkwargs\u001b[0m\u001b[0;34m)\u001b[0m\u001b[0;34m:\u001b[0m\u001b[0;34m\u001b[0m\u001b[0;34m\u001b[0m\u001b[0m\n\u001b[0m\u001b[1;32m   1612\u001b[0m             \u001b[0mself\u001b[0m\u001b[0;34m.\u001b[0m\u001b[0madd_line\u001b[0m\u001b[0;34m(\u001b[0m\u001b[0mline\u001b[0m\u001b[0;34m)\u001b[0m\u001b[0;34m\u001b[0m\u001b[0;34m\u001b[0m\u001b[0m\n\u001b[1;32m   1613\u001b[0m             \u001b[0mlines\u001b[0m\u001b[0;34m.\u001b[0m\u001b[0mappend\u001b[0m\u001b[0;34m(\u001b[0m\u001b[0mline\u001b[0m\u001b[0;34m)\u001b[0m\u001b[0;34m\u001b[0m\u001b[0;34m\u001b[0m\u001b[0m\n",
      "\u001b[0;32m/anaconda3/lib/python3.6/site-packages/matplotlib/axes/_base.py\u001b[0m in \u001b[0;36m_grab_next_args\u001b[0;34m(self, *args, **kwargs)\u001b[0m\n\u001b[1;32m    391\u001b[0m                 \u001b[0mthis\u001b[0m \u001b[0;34m+=\u001b[0m \u001b[0margs\u001b[0m\u001b[0;34m[\u001b[0m\u001b[0;36m0\u001b[0m\u001b[0;34m]\u001b[0m\u001b[0;34m,\u001b[0m\u001b[0;34m\u001b[0m\u001b[0;34m\u001b[0m\u001b[0m\n\u001b[1;32m    392\u001b[0m                 \u001b[0margs\u001b[0m \u001b[0;34m=\u001b[0m \u001b[0margs\u001b[0m\u001b[0;34m[\u001b[0m\u001b[0;36m1\u001b[0m\u001b[0;34m:\u001b[0m\u001b[0;34m]\u001b[0m\u001b[0;34m\u001b[0m\u001b[0;34m\u001b[0m\u001b[0m\n\u001b[0;32m--> 393\u001b[0;31m             \u001b[0;32myield\u001b[0m \u001b[0;32mfrom\u001b[0m \u001b[0mself\u001b[0m\u001b[0;34m.\u001b[0m\u001b[0m_plot_args\u001b[0m\u001b[0;34m(\u001b[0m\u001b[0mthis\u001b[0m\u001b[0;34m,\u001b[0m \u001b[0mkwargs\u001b[0m\u001b[0;34m)\u001b[0m\u001b[0;34m\u001b[0m\u001b[0;34m\u001b[0m\u001b[0m\n\u001b[0m\u001b[1;32m    394\u001b[0m \u001b[0;34m\u001b[0m\u001b[0m\n\u001b[1;32m    395\u001b[0m \u001b[0;34m\u001b[0m\u001b[0m\n",
      "\u001b[0;32m/anaconda3/lib/python3.6/site-packages/matplotlib/axes/_base.py\u001b[0m in \u001b[0;36m_plot_args\u001b[0;34m(self, tup, kwargs)\u001b[0m\n\u001b[1;32m    368\u001b[0m             \u001b[0mx\u001b[0m\u001b[0;34m,\u001b[0m \u001b[0my\u001b[0m \u001b[0;34m=\u001b[0m \u001b[0mindex_of\u001b[0m\u001b[0;34m(\u001b[0m\u001b[0mtup\u001b[0m\u001b[0;34m[\u001b[0m\u001b[0;34m-\u001b[0m\u001b[0;36m1\u001b[0m\u001b[0;34m]\u001b[0m\u001b[0;34m)\u001b[0m\u001b[0;34m\u001b[0m\u001b[0;34m\u001b[0m\u001b[0m\n\u001b[1;32m    369\u001b[0m \u001b[0;34m\u001b[0m\u001b[0m\n\u001b[0;32m--> 370\u001b[0;31m         \u001b[0mx\u001b[0m\u001b[0;34m,\u001b[0m \u001b[0my\u001b[0m \u001b[0;34m=\u001b[0m \u001b[0mself\u001b[0m\u001b[0;34m.\u001b[0m\u001b[0m_xy_from_xy\u001b[0m\u001b[0;34m(\u001b[0m\u001b[0mx\u001b[0m\u001b[0;34m,\u001b[0m \u001b[0my\u001b[0m\u001b[0;34m)\u001b[0m\u001b[0;34m\u001b[0m\u001b[0;34m\u001b[0m\u001b[0m\n\u001b[0m\u001b[1;32m    371\u001b[0m \u001b[0;34m\u001b[0m\u001b[0m\n\u001b[1;32m    372\u001b[0m         \u001b[0;32mif\u001b[0m \u001b[0mself\u001b[0m\u001b[0;34m.\u001b[0m\u001b[0mcommand\u001b[0m \u001b[0;34m==\u001b[0m \u001b[0;34m'plot'\u001b[0m\u001b[0;34m:\u001b[0m\u001b[0;34m\u001b[0m\u001b[0;34m\u001b[0m\u001b[0m\n",
      "\u001b[0;32m/anaconda3/lib/python3.6/site-packages/matplotlib/axes/_base.py\u001b[0m in \u001b[0;36m_xy_from_xy\u001b[0;34m(self, x, y)\u001b[0m\n\u001b[1;32m    203\u001b[0m         \u001b[0;32mif\u001b[0m \u001b[0mself\u001b[0m\u001b[0;34m.\u001b[0m\u001b[0maxes\u001b[0m\u001b[0;34m.\u001b[0m\u001b[0mxaxis\u001b[0m \u001b[0;32mis\u001b[0m \u001b[0;32mnot\u001b[0m \u001b[0;32mNone\u001b[0m \u001b[0;32mand\u001b[0m \u001b[0mself\u001b[0m\u001b[0;34m.\u001b[0m\u001b[0maxes\u001b[0m\u001b[0;34m.\u001b[0m\u001b[0myaxis\u001b[0m \u001b[0;32mis\u001b[0m \u001b[0;32mnot\u001b[0m \u001b[0;32mNone\u001b[0m\u001b[0;34m:\u001b[0m\u001b[0;34m\u001b[0m\u001b[0;34m\u001b[0m\u001b[0m\n\u001b[1;32m    204\u001b[0m             \u001b[0mbx\u001b[0m \u001b[0;34m=\u001b[0m \u001b[0mself\u001b[0m\u001b[0;34m.\u001b[0m\u001b[0maxes\u001b[0m\u001b[0;34m.\u001b[0m\u001b[0mxaxis\u001b[0m\u001b[0;34m.\u001b[0m\u001b[0mupdate_units\u001b[0m\u001b[0;34m(\u001b[0m\u001b[0mx\u001b[0m\u001b[0;34m)\u001b[0m\u001b[0;34m\u001b[0m\u001b[0;34m\u001b[0m\u001b[0m\n\u001b[0;32m--> 205\u001b[0;31m             \u001b[0mby\u001b[0m \u001b[0;34m=\u001b[0m \u001b[0mself\u001b[0m\u001b[0;34m.\u001b[0m\u001b[0maxes\u001b[0m\u001b[0;34m.\u001b[0m\u001b[0myaxis\u001b[0m\u001b[0;34m.\u001b[0m\u001b[0mupdate_units\u001b[0m\u001b[0;34m(\u001b[0m\u001b[0my\u001b[0m\u001b[0;34m)\u001b[0m\u001b[0;34m\u001b[0m\u001b[0;34m\u001b[0m\u001b[0m\n\u001b[0m\u001b[1;32m    206\u001b[0m \u001b[0;34m\u001b[0m\u001b[0m\n\u001b[1;32m    207\u001b[0m             \u001b[0;32mif\u001b[0m \u001b[0mself\u001b[0m\u001b[0;34m.\u001b[0m\u001b[0mcommand\u001b[0m \u001b[0;34m!=\u001b[0m \u001b[0;34m'plot'\u001b[0m\u001b[0;34m:\u001b[0m\u001b[0;34m\u001b[0m\u001b[0;34m\u001b[0m\u001b[0m\n",
      "\u001b[0;32m/anaconda3/lib/python3.6/site-packages/matplotlib/axis.py\u001b[0m in \u001b[0;36mupdate_units\u001b[0;34m(self, data)\u001b[0m\n\u001b[1;32m   1465\u001b[0m         \"\"\"\n\u001b[1;32m   1466\u001b[0m \u001b[0;34m\u001b[0m\u001b[0m\n\u001b[0;32m-> 1467\u001b[0;31m         \u001b[0mconverter\u001b[0m \u001b[0;34m=\u001b[0m \u001b[0mmunits\u001b[0m\u001b[0;34m.\u001b[0m\u001b[0mregistry\u001b[0m\u001b[0;34m.\u001b[0m\u001b[0mget_converter\u001b[0m\u001b[0;34m(\u001b[0m\u001b[0mdata\u001b[0m\u001b[0;34m)\u001b[0m\u001b[0;34m\u001b[0m\u001b[0;34m\u001b[0m\u001b[0m\n\u001b[0m\u001b[1;32m   1468\u001b[0m         \u001b[0;32mif\u001b[0m \u001b[0mconverter\u001b[0m \u001b[0;32mis\u001b[0m \u001b[0;32mNone\u001b[0m\u001b[0;34m:\u001b[0m\u001b[0;34m\u001b[0m\u001b[0;34m\u001b[0m\u001b[0m\n\u001b[1;32m   1469\u001b[0m             \u001b[0;32mreturn\u001b[0m \u001b[0;32mFalse\u001b[0m\u001b[0;34m\u001b[0m\u001b[0;34m\u001b[0m\u001b[0m\n",
      "\u001b[0;32m/anaconda3/lib/python3.6/site-packages/matplotlib/units.py\u001b[0m in \u001b[0;36mget_converter\u001b[0;34m(self, x)\u001b[0m\n\u001b[1;32m    179\u001b[0m                 if (not isinstance(next_item, np.ndarray) or\n\u001b[1;32m    180\u001b[0m                         next_item.shape != x.shape):\n\u001b[0;32m--> 181\u001b[0;31m                     \u001b[0mconverter\u001b[0m \u001b[0;34m=\u001b[0m \u001b[0mself\u001b[0m\u001b[0;34m.\u001b[0m\u001b[0mget_converter\u001b[0m\u001b[0;34m(\u001b[0m\u001b[0mnext_item\u001b[0m\u001b[0;34m)\u001b[0m\u001b[0;34m\u001b[0m\u001b[0;34m\u001b[0m\u001b[0m\n\u001b[0m\u001b[1;32m    182\u001b[0m                 \u001b[0;32mreturn\u001b[0m \u001b[0mconverter\u001b[0m\u001b[0;34m\u001b[0m\u001b[0;34m\u001b[0m\u001b[0m\n\u001b[1;32m    183\u001b[0m \u001b[0;34m\u001b[0m\u001b[0m\n",
      "\u001b[0;32m/anaconda3/lib/python3.6/site-packages/matplotlib/units.py\u001b[0m in \u001b[0;36mget_converter\u001b[0;34m(self, x)\u001b[0m\n\u001b[1;32m    185\u001b[0m         \u001b[0;32mif\u001b[0m \u001b[0mconverter\u001b[0m \u001b[0;32mis\u001b[0m \u001b[0;32mNone\u001b[0m\u001b[0;34m:\u001b[0m\u001b[0;34m\u001b[0m\u001b[0;34m\u001b[0m\u001b[0m\n\u001b[1;32m    186\u001b[0m             \u001b[0;32mtry\u001b[0m\u001b[0;34m:\u001b[0m\u001b[0;34m\u001b[0m\u001b[0;34m\u001b[0m\u001b[0m\n\u001b[0;32m--> 187\u001b[0;31m                 \u001b[0mthisx\u001b[0m \u001b[0;34m=\u001b[0m \u001b[0msafe_first_element\u001b[0m\u001b[0;34m(\u001b[0m\u001b[0mx\u001b[0m\u001b[0;34m)\u001b[0m\u001b[0;34m\u001b[0m\u001b[0;34m\u001b[0m\u001b[0m\n\u001b[0m\u001b[1;32m    188\u001b[0m             \u001b[0;32mexcept\u001b[0m \u001b[0;34m(\u001b[0m\u001b[0mTypeError\u001b[0m\u001b[0;34m,\u001b[0m \u001b[0mStopIteration\u001b[0m\u001b[0;34m)\u001b[0m\u001b[0;34m:\u001b[0m\u001b[0;34m\u001b[0m\u001b[0;34m\u001b[0m\u001b[0m\n\u001b[1;32m    189\u001b[0m                 \u001b[0;32mpass\u001b[0m\u001b[0;34m\u001b[0m\u001b[0;34m\u001b[0m\u001b[0m\n",
      "\u001b[0;32m/anaconda3/lib/python3.6/site-packages/matplotlib/cbook/__init__.py\u001b[0m in \u001b[0;36msafe_first_element\u001b[0;34m(obj)\u001b[0m\n\u001b[1;32m   1635\u001b[0m         raise RuntimeError(\"matplotlib does not support generators \"\n\u001b[1;32m   1636\u001b[0m                            \"as input\")\n\u001b[0;32m-> 1637\u001b[0;31m     \u001b[0;32mreturn\u001b[0m \u001b[0mnext\u001b[0m\u001b[0;34m(\u001b[0m\u001b[0miter\u001b[0m\u001b[0;34m(\u001b[0m\u001b[0mobj\u001b[0m\u001b[0;34m)\u001b[0m\u001b[0;34m)\u001b[0m\u001b[0;34m\u001b[0m\u001b[0;34m\u001b[0m\u001b[0m\n\u001b[0m\u001b[1;32m   1638\u001b[0m \u001b[0;34m\u001b[0m\u001b[0m\n\u001b[1;32m   1639\u001b[0m \u001b[0;34m\u001b[0m\u001b[0m\n",
      "\u001b[0;32m/anaconda3/lib/python3.6/site-packages/ufl/core/expr.py\u001b[0m in \u001b[0;36m__iter__\u001b[0;34m(self)\u001b[0m\n\u001b[1;32m    408\u001b[0m     \u001b[0;32mdef\u001b[0m \u001b[0m__iter__\u001b[0m\u001b[0;34m(\u001b[0m\u001b[0mself\u001b[0m\u001b[0;34m)\u001b[0m\u001b[0;34m:\u001b[0m\u001b[0;34m\u001b[0m\u001b[0;34m\u001b[0m\u001b[0m\n\u001b[1;32m    409\u001b[0m         \u001b[0;34m\"Iteration over vector expressions.\"\u001b[0m\u001b[0;34m\u001b[0m\u001b[0;34m\u001b[0m\u001b[0m\n\u001b[0;32m--> 410\u001b[0;31m         \u001b[0;32mfor\u001b[0m \u001b[0mi\u001b[0m \u001b[0;32min\u001b[0m \u001b[0mrange\u001b[0m\u001b[0;34m(\u001b[0m\u001b[0mlen\u001b[0m\u001b[0;34m(\u001b[0m\u001b[0mself\u001b[0m\u001b[0;34m)\u001b[0m\u001b[0;34m)\u001b[0m\u001b[0;34m:\u001b[0m\u001b[0;34m\u001b[0m\u001b[0;34m\u001b[0m\u001b[0m\n\u001b[0m\u001b[1;32m    411\u001b[0m             \u001b[0;32myield\u001b[0m \u001b[0mself\u001b[0m\u001b[0;34m[\u001b[0m\u001b[0mi\u001b[0m\u001b[0;34m]\u001b[0m\u001b[0;34m\u001b[0m\u001b[0;34m\u001b[0m\u001b[0m\n\u001b[1;32m    412\u001b[0m \u001b[0;34m\u001b[0m\u001b[0m\n",
      "\u001b[0;32m/anaconda3/lib/python3.6/site-packages/ufl/core/expr.py\u001b[0m in \u001b[0;36m__len__\u001b[0;34m(self)\u001b[0m\n\u001b[1;32m    404\u001b[0m         \u001b[0;32mif\u001b[0m \u001b[0mlen\u001b[0m\u001b[0;34m(\u001b[0m\u001b[0ms\u001b[0m\u001b[0;34m)\u001b[0m \u001b[0;34m==\u001b[0m \u001b[0;36m1\u001b[0m\u001b[0;34m:\u001b[0m\u001b[0;34m\u001b[0m\u001b[0;34m\u001b[0m\u001b[0m\n\u001b[1;32m    405\u001b[0m             \u001b[0;32mreturn\u001b[0m \u001b[0ms\u001b[0m\u001b[0;34m[\u001b[0m\u001b[0;36m0\u001b[0m\u001b[0;34m]\u001b[0m\u001b[0;34m\u001b[0m\u001b[0;34m\u001b[0m\u001b[0m\n\u001b[0;32m--> 406\u001b[0;31m         \u001b[0;32mraise\u001b[0m \u001b[0mNotImplementedError\u001b[0m\u001b[0;34m(\u001b[0m\u001b[0;34m\"Cannot take length of non-vector expression.\"\u001b[0m\u001b[0;34m)\u001b[0m\u001b[0;34m\u001b[0m\u001b[0;34m\u001b[0m\u001b[0m\n\u001b[0m\u001b[1;32m    407\u001b[0m \u001b[0;34m\u001b[0m\u001b[0m\n\u001b[1;32m    408\u001b[0m     \u001b[0;32mdef\u001b[0m \u001b[0m__iter__\u001b[0m\u001b[0;34m(\u001b[0m\u001b[0mself\u001b[0m\u001b[0;34m)\u001b[0m\u001b[0;34m:\u001b[0m\u001b[0;34m\u001b[0m\u001b[0;34m\u001b[0m\u001b[0m\n",
      "\u001b[0;31mNotImplementedError\u001b[0m: Cannot take length of non-vector expression."
     ]
    },
    {
     "data": {
      "image/png": "[encoded data removed]",
      "text/plain": [
       "<Figure size 432x288 with 1 Axes>"
      ]
     },
     "metadata": {
      "needs_background": "light"
     },
     "output_type": "display_data"
    }
   ],
   "source": [
    "plt.plot(xxx,f(xxx))\n",
    "# plt.plot(xxx+1,f(xxx)+1,label='2')"
   ]
  },
  {
   "cell_type": "code",
   "execution_count": 75,
   "metadata": {},
   "outputs": [
    {
     "data": {
      "text/plain": [
       "[]"
      ]
     },
     "execution_count": 75,
     "metadata": {},
     "output_type": "execute_result"
    }
   ],
   "source": [
    "[i for i in map(u_,[np.array(i) for i in xy1])]"
   ]
  },
  {
   "cell_type": "code",
   "execution_count": 11,
   "metadata": {},
   "outputs": [],
   "source": [
    "nn=10\n",
    "tol=1e-6\n",
    "xx0=-1*np.ones(nn)\n",
    "yy0=np.linspace(-.2 +tol,.2  -tol,nn)\n",
    "xx1=np.linspace(1.9 +tol-.1,2.1 -tol-.1,nn)\n",
    "yy1=np.linspace(2.1 -tol-.1,1.9 +tol-.1,nn)\n",
    "xx2=np.linspace(1.9 +tol-.1,2.1 -tol-.1,nn)\n",
    "yy2=np.linspace(-2.1+tol+.1,-1.9-tol+.1,nn)\n",
    "xx3=np.linspace(0.0 +tol,0.2 -tol,nn)\n",
    "yy3=np.linspace(-0.2+tol,0.0 -tol,nn)\n",
    "xy0=zip(xx0,yy0)\n",
    "xy1=zip(xx1,yy1)\n",
    "xy2=zip(xx2,yy2)\n",
    "xy3=zip(xx3,yy3)\n",
    "for i in xy0:\n",
    "    print(\"%f\\n\" % p_(np.array(i)))"
   ]
  },
  {
   "cell_type": "code",
   "execution_count": null,
   "metadata": {},
   "outputs": [],
   "source": []
  }
 ],
 "metadata": {
  "kernelspec": {
   "display_name": "Python 3",
   "language": "python",
   "name": "python3"
  },
  "language_info": {
   "codemirror_mode": {
    "name": "ipython",
    "version": 3
   },
   "file_extension": ".py",
   "mimetype": "text/x-python",
   "name": "python",
   "nbconvert_exporter": "python",
   "pygments_lexer": "ipython3",
   "version": "3.6.8"
  }
 },
 "nbformat": 4,
 "nbformat_minor": 2
}
