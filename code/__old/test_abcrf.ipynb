{
 "cells": [
  {
   "cell_type": "code",
   "execution_count": 1,
   "metadata": {},
   "outputs": [
    {
     "data": {
      "text/html": [
       "'/Users/evergreen/Documents/GitHub/classification/code/__old'"
      ],
      "text/latex": [
       "'/Users/evergreen/Documents/GitHub/classification/code/\\_\\_old'"
      ],
      "text/markdown": [
       "'/Users/evergreen/Documents/GitHub/classification/code/__old'"
      ],
      "text/plain": [
       "[1] \"/Users/evergreen/Documents/GitHub/classification/code/__old\""
      ]
     },
     "metadata": {},
     "output_type": "display_data"
    }
   ],
   "source": [
    "getwd()"
   ]
  },
  {
   "cell_type": "code",
   "execution_count": 68,
   "metadata": {},
   "outputs": [],
   "source": [
    "library(\"abcrf\")"
   ]
  },
  {
   "cell_type": "code",
   "execution_count": 3,
   "metadata": {
    "scrolled": true
   },
   "outputs": [
    {
     "data": {
      "text/plain": [
       "               _                           \n",
       "platform       x86_64-apple-darwin15.6.0   \n",
       "arch           x86_64                      \n",
       "os             darwin15.6.0                \n",
       "system         x86_64, darwin15.6.0        \n",
       "status                                     \n",
       "major          3                           \n",
       "minor          5.2                         \n",
       "year           2018                        \n",
       "month          12                          \n",
       "day            20                          \n",
       "svn rev        75870                       \n",
       "language       R                           \n",
       "version.string R version 3.5.2 (2018-12-20)\n",
       "nickname       Eggshell Igloo              "
      ]
     },
     "metadata": {},
     "output_type": "display_data"
    }
   ],
   "source": [
    "version"
   ]
  },
  {
   "cell_type": "code",
   "execution_count": 4,
   "metadata": {},
   "outputs": [
    {
     "data": {
      "text/html": [
       "'/Library/Frameworks/R.framework/Resources'"
      ],
      "text/latex": [
       "'/Library/Frameworks/R.framework/Resources'"
      ],
      "text/markdown": [
       "'/Library/Frameworks/R.framework/Resources'"
      ],
      "text/plain": [
       "[1] \"/Library/Frameworks/R.framework/Resources\""
      ]
     },
     "metadata": {},
     "output_type": "display_data"
    }
   ],
   "source": [
    "R.home() #using non-anaconda build, which is more stable"
   ]
  },
  {
   "cell_type": "markdown",
   "metadata": {},
   "source": [
    "# abcrf demo"
   ]
  },
  {
   "cell_type": "code",
   "execution_count": 34,
   "metadata": {},
   "outputs": [
    {
     "data": {
      "text/plain": [
       "         Length Class      Mode   \n",
       "modindex 10000  factor     numeric\n",
       "param        7  data.frame list   \n",
       "sumsta      48  data.frame list   "
      ]
     },
     "metadata": {},
     "output_type": "display_data"
    },
    {
     "data": {
      "text/html": [
       "10000"
      ],
      "text/latex": [
       "10000"
      ],
      "text/markdown": [
       "10000"
      ],
      "text/plain": [
       "[1] 10000"
      ]
     },
     "metadata": {},
     "output_type": "display_data"
    },
    {
     "data": {
      "text/html": [
       "<ol class=list-inline>\n",
       "\t<li>10000</li>\n",
       "\t<li>7</li>\n",
       "</ol>\n"
      ],
      "text/latex": [
       "\\begin{enumerate*}\n",
       "\\item 10000\n",
       "\\item 7\n",
       "\\end{enumerate*}\n"
      ],
      "text/markdown": [
       "1. 10000\n",
       "2. 7\n",
       "\n",
       "\n"
      ],
      "text/plain": [
       "[1] 10000     7"
      ]
     },
     "metadata": {},
     "output_type": "display_data"
    },
    {
     "data": {
      "text/html": [
       "<ol class=list-inline>\n",
       "\t<li>10000</li>\n",
       "\t<li>48</li>\n",
       "</ol>\n"
      ],
      "text/latex": [
       "\\begin{enumerate*}\n",
       "\\item 10000\n",
       "\\item 48\n",
       "\\end{enumerate*}\n"
      ],
      "text/markdown": [
       "1. 10000\n",
       "2. 48\n",
       "\n",
       "\n"
      ],
      "text/plain": [
       "[1] 10000    48"
      ]
     },
     "metadata": {},
     "output_type": "display_data"
    }
   ],
   "source": [
    "data(snp)\n",
    "summary(snp)\n",
    "length(snp$modindex)\n",
    "dim(snp$param)\n",
    "dim(snp$sumsta)"
   ]
  },
  {
   "cell_type": "code",
   "execution_count": 37,
   "metadata": {},
   "outputs": [
    {
     "name": "stderr",
     "output_type": "stream",
     "text": [
      "modindex\n"
     ]
    },
    {
     "data": {
      "text/html": [
       "<dl class=dl-horizontal>\n",
       "\t<dt>1</dt>\n",
       "\t\t<dd>3328</dd>\n",
       "\t<dt>2</dt>\n",
       "\t\t<dd>3352</dd>\n",
       "\t<dt>3</dt>\n",
       "\t\t<dd>3320</dd>\n",
       "</dl>\n"
      ],
      "text/latex": [
       "\\begin{description*}\n",
       "\\item[1] 3328\n",
       "\\item[2] 3352\n",
       "\\item[3] 3320\n",
       "\\end{description*}\n"
      ],
      "text/markdown": [
       "1\n",
       ":   33282\n",
       ":   33523\n",
       ":   3320\n",
       "\n"
      ],
      "text/plain": [
       "   1    2    3 \n",
       "3328 3352 3320 "
      ]
     },
     "metadata": {},
     "output_type": "display_data"
    },
    {
     "name": "stderr",
     "output_type": "stream",
     "text": [
      "param\n"
     ]
    },
    {
     "data": {
      "text/plain": [
       "       N1              N2              N3              ta       \n",
       " Min.   :  103   Min.   :  106   Min.   :  109   Min.   :   13  \n",
       " 1st Qu.: 7684   1st Qu.: 7665   1st Qu.: 7668   1st Qu.: 4071  \n",
       " Median :15089   Median :15007   Median :15292   Median : 8902  \n",
       " Mean   :15137   Mean   :15015   Mean   :15167   Mean   :10019  \n",
       " 3rd Qu.:22680   3rd Qu.:22594   3rd Qu.:22760   3rd Qu.:15056  \n",
       " Max.   :29999   Max.   :30000   Max.   :29999   Max.   :29785  \n",
       "                                                                \n",
       "       ts              N4              r        \n",
       " Min.   :  329   Min.   :  106   Min.   :0.050  \n",
       " 1st Qu.:15012   1st Qu.: 7392   1st Qu.:0.280  \n",
       " Median :21168   Median :14797   Median :0.503  \n",
       " Mean   :19980   Mean   :14974   Mean   :0.505  \n",
       " 3rd Qu.:25916   3rd Qu.:22451   3rd Qu.:0.733  \n",
       " Max.   :29999   Max.   :30000   Max.   :0.950  \n",
       "                                 NA's   :6680   "
      ]
     },
     "metadata": {},
     "output_type": "display_data"
    },
    {
     "name": "stderr",
     "output_type": "stream",
     "text": [
      "sumsta\n"
     ]
    },
    {
     "data": {
      "text/html": [
       "<ol class=list-inline>\n",
       "\t<li>'HP0_1'</li>\n",
       "\t<li>'HP0_2'</li>\n",
       "\t<li>'HP0_3'</li>\n",
       "\t<li>'HM1_1'</li>\n",
       "\t<li>'HM1_2'</li>\n",
       "\t<li>'HM1_3'</li>\n",
       "\t<li>'HV1_1'</li>\n",
       "\t<li>'HV1_2'</li>\n",
       "\t<li>'HV1_3'</li>\n",
       "\t<li>'HMO_1'</li>\n",
       "\t<li>'HMO_2'</li>\n",
       "\t<li>'HMO_3'</li>\n",
       "\t<li>'FP0_1.2'</li>\n",
       "\t<li>'FP0_1.3'</li>\n",
       "\t<li>'FP0_2.3'</li>\n",
       "\t<li>'FM1_1.2'</li>\n",
       "\t<li>'FM1_1.3'</li>\n",
       "\t<li>'FM1_2.3'</li>\n",
       "\t<li>'FV1_1.2'</li>\n",
       "\t<li>'FV1_1.3'</li>\n",
       "\t<li>'FV1_2.3'</li>\n",
       "\t<li>'FMO_1.2'</li>\n",
       "\t<li>'FMO_1.3'</li>\n",
       "\t<li>'FMO_2.3'</li>\n",
       "\t<li>'NP0_1.2'</li>\n",
       "\t<li>'NP0_1.3'</li>\n",
       "\t<li>'NP0_2.3'</li>\n",
       "\t<li>'NM1_1.2'</li>\n",
       "\t<li>'NM1_1.3'</li>\n",
       "\t<li>'NM1_2.3'</li>\n",
       "\t<li>'NV1_1.2'</li>\n",
       "\t<li>'NV1_1.3'</li>\n",
       "\t<li>'NV1_2.3'</li>\n",
       "\t<li>'NMO_1.2'</li>\n",
       "\t<li>'NMO_1.3'</li>\n",
       "\t<li>'NMO_2.3'</li>\n",
       "\t<li>'AP0_1_2.3'</li>\n",
       "\t<li>'AP0_2_1.3'</li>\n",
       "\t<li>'AP0_3_1.2'</li>\n",
       "\t<li>'AM1_1_2.3'</li>\n",
       "\t<li>'AM1_2_1.3'</li>\n",
       "\t<li>'AM1_3_1.2'</li>\n",
       "\t<li>'AV1_1_2.3'</li>\n",
       "\t<li>'AV1_2_1.3'</li>\n",
       "\t<li>'AV1_3_1.2'</li>\n",
       "\t<li>'AMO_1_2.3'</li>\n",
       "\t<li>'AMO_2_1.3'</li>\n",
       "\t<li>'AMO_3_1.2'</li>\n",
       "</ol>\n"
      ],
      "text/latex": [
       "\\begin{enumerate*}\n",
       "\\item 'HP0\\_1'\n",
       "\\item 'HP0\\_2'\n",
       "\\item 'HP0\\_3'\n",
       "\\item 'HM1\\_1'\n",
       "\\item 'HM1\\_2'\n",
       "\\item 'HM1\\_3'\n",
       "\\item 'HV1\\_1'\n",
       "\\item 'HV1\\_2'\n",
       "\\item 'HV1\\_3'\n",
       "\\item 'HMO\\_1'\n",
       "\\item 'HMO\\_2'\n",
       "\\item 'HMO\\_3'\n",
       "\\item 'FP0\\_1.2'\n",
       "\\item 'FP0\\_1.3'\n",
       "\\item 'FP0\\_2.3'\n",
       "\\item 'FM1\\_1.2'\n",
       "\\item 'FM1\\_1.3'\n",
       "\\item 'FM1\\_2.3'\n",
       "\\item 'FV1\\_1.2'\n",
       "\\item 'FV1\\_1.3'\n",
       "\\item 'FV1\\_2.3'\n",
       "\\item 'FMO\\_1.2'\n",
       "\\item 'FMO\\_1.3'\n",
       "\\item 'FMO\\_2.3'\n",
       "\\item 'NP0\\_1.2'\n",
       "\\item 'NP0\\_1.3'\n",
       "\\item 'NP0\\_2.3'\n",
       "\\item 'NM1\\_1.2'\n",
       "\\item 'NM1\\_1.3'\n",
       "\\item 'NM1\\_2.3'\n",
       "\\item 'NV1\\_1.2'\n",
       "\\item 'NV1\\_1.3'\n",
       "\\item 'NV1\\_2.3'\n",
       "\\item 'NMO\\_1.2'\n",
       "\\item 'NMO\\_1.3'\n",
       "\\item 'NMO\\_2.3'\n",
       "\\item 'AP0\\_1\\_2.3'\n",
       "\\item 'AP0\\_2\\_1.3'\n",
       "\\item 'AP0\\_3\\_1.2'\n",
       "\\item 'AM1\\_1\\_2.3'\n",
       "\\item 'AM1\\_2\\_1.3'\n",
       "\\item 'AM1\\_3\\_1.2'\n",
       "\\item 'AV1\\_1\\_2.3'\n",
       "\\item 'AV1\\_2\\_1.3'\n",
       "\\item 'AV1\\_3\\_1.2'\n",
       "\\item 'AMO\\_1\\_2.3'\n",
       "\\item 'AMO\\_2\\_1.3'\n",
       "\\item 'AMO\\_3\\_1.2'\n",
       "\\end{enumerate*}\n"
      ],
      "text/markdown": [
       "1. 'HP0_1'\n",
       "2. 'HP0_2'\n",
       "3. 'HP0_3'\n",
       "4. 'HM1_1'\n",
       "5. 'HM1_2'\n",
       "6. 'HM1_3'\n",
       "7. 'HV1_1'\n",
       "8. 'HV1_2'\n",
       "9. 'HV1_3'\n",
       "10. 'HMO_1'\n",
       "11. 'HMO_2'\n",
       "12. 'HMO_3'\n",
       "13. 'FP0_1.2'\n",
       "14. 'FP0_1.3'\n",
       "15. 'FP0_2.3'\n",
       "16. 'FM1_1.2'\n",
       "17. 'FM1_1.3'\n",
       "18. 'FM1_2.3'\n",
       "19. 'FV1_1.2'\n",
       "20. 'FV1_1.3'\n",
       "21. 'FV1_2.3'\n",
       "22. 'FMO_1.2'\n",
       "23. 'FMO_1.3'\n",
       "24. 'FMO_2.3'\n",
       "25. 'NP0_1.2'\n",
       "26. 'NP0_1.3'\n",
       "27. 'NP0_2.3'\n",
       "28. 'NM1_1.2'\n",
       "29. 'NM1_1.3'\n",
       "30. 'NM1_2.3'\n",
       "31. 'NV1_1.2'\n",
       "32. 'NV1_1.3'\n",
       "33. 'NV1_2.3'\n",
       "34. 'NMO_1.2'\n",
       "35. 'NMO_1.3'\n",
       "36. 'NMO_2.3'\n",
       "37. 'AP0_1_2.3'\n",
       "38. 'AP0_2_1.3'\n",
       "39. 'AP0_3_1.2'\n",
       "40. 'AM1_1_2.3'\n",
       "41. 'AM1_2_1.3'\n",
       "42. 'AM1_3_1.2'\n",
       "43. 'AV1_1_2.3'\n",
       "44. 'AV1_2_1.3'\n",
       "45. 'AV1_3_1.2'\n",
       "46. 'AMO_1_2.3'\n",
       "47. 'AMO_2_1.3'\n",
       "48. 'AMO_3_1.2'\n",
       "\n",
       "\n"
      ],
      "text/plain": [
       " [1] \"HP0_1\"     \"HP0_2\"     \"HP0_3\"     \"HM1_1\"     \"HM1_2\"     \"HM1_3\"    \n",
       " [7] \"HV1_1\"     \"HV1_2\"     \"HV1_3\"     \"HMO_1\"     \"HMO_2\"     \"HMO_3\"    \n",
       "[13] \"FP0_1.2\"   \"FP0_1.3\"   \"FP0_2.3\"   \"FM1_1.2\"   \"FM1_1.3\"   \"FM1_2.3\"  \n",
       "[19] \"FV1_1.2\"   \"FV1_1.3\"   \"FV1_2.3\"   \"FMO_1.2\"   \"FMO_1.3\"   \"FMO_2.3\"  \n",
       "[25] \"NP0_1.2\"   \"NP0_1.3\"   \"NP0_2.3\"   \"NM1_1.2\"   \"NM1_1.3\"   \"NM1_2.3\"  \n",
       "[31] \"NV1_1.2\"   \"NV1_1.3\"   \"NV1_2.3\"   \"NMO_1.2\"   \"NMO_1.3\"   \"NMO_2.3\"  \n",
       "[37] \"AP0_1_2.3\" \"AP0_2_1.3\" \"AP0_3_1.2\" \"AM1_1_2.3\" \"AM1_2_1.3\" \"AM1_3_1.2\"\n",
       "[43] \"AV1_1_2.3\" \"AV1_2_1.3\" \"AV1_3_1.2\" \"AMO_1_2.3\" \"AMO_2_1.3\" \"AMO_3_1.2\""
      ]
     },
     "metadata": {},
     "output_type": "display_data"
    }
   ],
   "source": [
    "message(\"modindex\")\n",
    "summary(snp$modindex)\n",
    "message(\"param\")\n",
    "summary(snp$param)\n",
    "message(\"sumsta\")\n",
    "names(snp$sumsta)"
   ]
  },
  {
   "cell_type": "code",
   "execution_count": 6,
   "metadata": {},
   "outputs": [
    {
     "data": {
      "text/plain": [
       "\n",
       "Call:\n",
       " abcrf(formula = modindex ~ ., data = data1, ntree = 100) \n",
       "includes the axes of a preliminary LDA\n",
       "\n",
       "Number of simulations: 1\n",
       "Out-of-bag prior error rate: 22.8%\n",
       "\n",
       "Confusion matrix:\n",
       "    1   2   3 class.error\n",
       "1 156   6  22   0.1521739\n",
       "2   6 123  22   0.1854305\n",
       "3  28  30 107   0.3515152"
      ]
     },
     "metadata": {},
     "output_type": "display_data"
    }
   ],
   "source": [
    "modindex <- snp$modindex[1:500]\n",
    "sumsta <- snp$sumsta[1:500,]\n",
    "data1 <- data.frame(modindex, sumsta)\n",
    "model.rf1 <- abcrf(modindex~., data = data1, ntree=100)\n",
    "model.rf1"
   ]
  },
  {
   "cell_type": "code",
   "execution_count": 7,
   "metadata": {},
   "outputs": [
    {
     "data": {
      "text/plain": [
       "\n",
       "Call:\n",
       " abcrf(formula = modindex ~ ., data = data1, group = list(c(\"1\", \"2\"), \"3\"), ntree = 100) \n",
       "includes the axes of a preliminary LDA\n",
       "\n",
       "Number of simulations: 1\n",
       "Out-of-bag prior error rate: 20%\n",
       "\n",
       "Confusion matrix:\n",
       "    g1 g2 class.error\n",
       "g1 309 26  0.07761194\n",
       "g2  74 91  0.44848485"
      ]
     },
     "metadata": {},
     "output_type": "display_data"
    }
   ],
   "source": [
    "model.rf2 <- abcrf(modindex~., data = data1, group = list(c(\"1\",\"2\"),\"3\"), ntree=100)\n",
    "model.rf2"
   ]
  },
  {
   "cell_type": "code",
   "execution_count": 99,
   "metadata": {},
   "outputs": [
    {
     "data": {
      "text/plain": [
       "  selected model votes model1 votes model2 votes model3 post.proba\n",
       "1              3            7            4           89  0.9450000\n",
       "2              2            7           55           38  0.8146667"
      ]
     },
     "metadata": {},
     "output_type": "display_data"
    }
   ],
   "source": [
    "data(snp)\n",
    "modindex <- snp$modindex[1:500]\n",
    "sumsta <- snp$sumsta[1:500,]\n",
    "data1 <- data.frame(modindex, sumsta)\n",
    "model.rf <- abcrf(modindex~., data1, ntree=100)\n",
    "data(snp.obs)\n",
    "predict(model.rf, snp.obs, data1, ntree=100)"
   ]
  },
  {
   "cell_type": "code",
   "execution_count": 5,
   "metadata": {
    "scrolled": true
   },
   "outputs": [
    {
     "data": {
      "text/html": [
       "<pre class=language-r><code>function (formula, data, group = list(), lda = TRUE, ntree = 500, \n",
       "<span style=white-space:pre-wrap>    sampsize = min(1e+05, nrow(data)), paral = FALSE, ncores = if (paral) max(detectCores() - </span>\n",
       "<span style=white-space:pre-wrap>        1, 1) else 1, ...) </span>\n",
       "{\n",
       "<span style=white-space:pre-wrap>    if (!inherits(formula, \"formula\")) </span>\n",
       "<span style=white-space:pre-wrap>        stop(\"abcrf.formula is only for formula objects\")</span>\n",
       "<span style=white-space:pre-wrap>    if (!inherits(data, \"data.frame\")) </span>\n",
       "<span style=white-space:pre-wrap>        stop(\"data needs to be a data.frame object\")</span>\n",
       "<span style=white-space:pre-wrap>    if (is.na(ncores)) {</span>\n",
       "<span style=white-space:pre-wrap>        warning(\"Unable to automatically detect the number of CPU cores, \\n1 CPU core will be used or please specify ncores.\")</span>\n",
       "<span style=white-space:pre-wrap>        ncores &lt;- 1</span>\n",
       "<span style=white-space:pre-wrap>    }</span>\n",
       "<span style=white-space:pre-wrap>    if ((!is.logical(paral)) || (length(paral) != 1L)) </span>\n",
       "<span style=white-space:pre-wrap>        stop(\"paral should be TRUE or FALSE\")</span>\n",
       "<span style=white-space:pre-wrap>    if (!is.list(group)) </span>\n",
       "<span style=white-space:pre-wrap>        stop(\"group needs to be a list\")</span>\n",
       "<span style=white-space:pre-wrap>    mf &lt;- match.call(expand.dots = FALSE)</span>\n",
       "<span style=white-space:pre-wrap>    m &lt;- match(c(\"formula\", \"data\"), names(mf))</span>\n",
       "<span style=white-space:pre-wrap>    mf &lt;- mf[c(1L, m)]</span>\n",
       "<span style=white-space:pre-wrap>    mf[[1L]] &lt;- as.name(\"model.frame\")</span>\n",
       "<span style=white-space:pre-wrap>    mf &lt;- eval(mf, parent.frame())</span>\n",
       "<span style=white-space:pre-wrap>    if (!is.factor(model.response(mf))) </span>\n",
       "<span style=white-space:pre-wrap>        stop(\"response should be a factor containing the model indexes\")</span>\n",
       "<span style=white-space:pre-wrap>    if (nrow(data) == 0L || is.null(nrow(data))) </span>\n",
       "<span style=white-space:pre-wrap>        stop(\"no simulation in the reference table (response, sumstat)\")</span>\n",
       "<span style=white-space:pre-wrap>    if ((!is.logical(lda)) &amp;&amp; (length(lda) != 1L)) </span>\n",
       "<span style=white-space:pre-wrap>        stop(\"lda should be TRUE or FALSE\")</span>\n",
       "<span style=white-space:pre-wrap>    if (length(group) != 0) {</span>\n",
       "<span style=white-space:pre-wrap>        ngroup &lt;- length(group)</span>\n",
       "<span style=white-space:pre-wrap>        varn &lt;- formula[[2]]</span>\n",
       "<span style=white-space:pre-wrap>        data[[as.character(varn)]] &lt;- as.vector(data[[as.character(varn)]])</span>\n",
       "<span style=white-space:pre-wrap>        allmod &lt;- unique(data[[as.character(varn)]])</span>\n",
       "<span style=white-space:pre-wrap>        for (k in 1:ngroup) for (l in 1:length(group[[k]])) data[[as.character(varn)]][which(data[[as.character(varn)]] == </span>\n",
       "<span style=white-space:pre-wrap>            group[[k]][l])] &lt;- paste(\"g\", k, sep = \"\")</span>\n",
       "<span style=white-space:pre-wrap>        if (!setequal(allmod, unlist(group))) {</span>\n",
       "<span style=white-space:pre-wrap>            diffe &lt;- setdiff(allmod, unlist(group))</span>\n",
       "<span style=white-space:pre-wrap>            for (l in 1:length(diffe)) data &lt;- data[-which(data[[as.character(varn)]] == </span>\n",
       "<span style=white-space:pre-wrap>                diffe[l]), ]</span>\n",
       "<span style=white-space:pre-wrap>        }</span>\n",
       "<span style=white-space:pre-wrap>        data[[as.character(varn)]] &lt;- as.factor(data[[as.character(varn)]])</span>\n",
       "<span style=white-space:pre-wrap>    }</span>\n",
       "<span style=white-space:pre-wrap>    if (lda) {</span>\n",
       "<span style=white-space:pre-wrap>        model.lda &lt;- lda(formula, data)</span>\n",
       "<span style=white-space:pre-wrap>        data &lt;- cbind(data, as.matrix(predict(model.lda, data)$x))</span>\n",
       "<span style=white-space:pre-wrap>    }</span>\n",
       "<span style=white-space:pre-wrap>    else {</span>\n",
       "<span style=white-space:pre-wrap>        model.lda &lt;- NULL</span>\n",
       "<span style=white-space:pre-wrap>    }</span>\n",
       "<span style=white-space:pre-wrap>    m &lt;- names(match.call(expand.dots = TRUE))</span>\n",
       "<span style=white-space:pre-wrap>    if ((!\"sampsize\" %in% m) &amp;&amp; (nrow(data) &lt;= 15)) </span>\n",
       "<span style=white-space:pre-wrap>        sampsize &lt;- as.integer(sampsize/10)</span>\n",
       "<span style=white-space:pre-wrap>    if (sampsize &gt; nrow(data)) </span>\n",
       "<span style=white-space:pre-wrap>        stop(\"sampsize too large\")</span>\n",
       "<span style=white-space:pre-wrap>    model.rf &lt;- ranger(formula, data, num.trees = ntree, sample.fraction = sampsize/nrow(data), </span>\n",
       "<span style=white-space:pre-wrap>        num.threads = ncores, keep.inbag = TRUE, importance = \"impurity\", </span>\n",
       "<span style=white-space:pre-wrap>        ...)</span>\n",
       "<span style=white-space:pre-wrap>    class.error = vector()</span>\n",
       "<span style=white-space:pre-wrap>    for (i in 1:nrow(model.rf$confusion.matrix)) {</span>\n",
       "<span style=white-space:pre-wrap>        rowSum &lt;- sum(model.rf$confusion.matrix[i, ])</span>\n",
       "<span style=white-space:pre-wrap>        accurate &lt;- diag(model.rf$confusion.matrix)[i]</span>\n",
       "<span style=white-space:pre-wrap>        error &lt;- rowSum - accurate</span>\n",
       "<span style=white-space:pre-wrap>        class.error[i] &lt;- error/rowSum</span>\n",
       "<span style=white-space:pre-wrap>    }</span>\n",
       "<span style=white-space:pre-wrap>    model.rf$confusion.matrix &lt;- cbind(model.rf$confusion.matrix, </span>\n",
       "<span style=white-space:pre-wrap>        class.error)</span>\n",
       "<span style=white-space:pre-wrap>    colnames(model.rf$confusion.matrix) &lt;- c(paste(model.rf$forest$levels), </span>\n",
       "<span style=white-space:pre-wrap>        \"class.error\")</span>\n",
       "<span style=white-space:pre-wrap>    model.rf$model.rf</span>\n",
       "<span style=white-space:pre-wrap>    cl &lt;- match.call()</span>\n",
       "<span style=white-space:pre-wrap>    cl[[1]] &lt;- as.name(\"abcrf\")</span>\n",
       "<span style=white-space:pre-wrap>    x &lt;- list(call = cl, lda = lda, formula = formula, group = group, </span>\n",
       "<span style=white-space:pre-wrap>        model.rf = model.rf, model.lda = model.lda, prior.err = model.rf$prediction.error)</span>\n",
       "<span style=white-space:pre-wrap>    class(x) &lt;- \"abcrf\"</span>\n",
       "<span style=white-space:pre-wrap>    x</span>\n",
       "}</code></pre>"
      ],
      "text/latex": [
       "\\begin{minted}{r}\n",
       "function (formula, data, group = list(), lda = TRUE, ntree = 500, \n",
       "    sampsize = min(1e+05, nrow(data)), paral = FALSE, ncores = if (paral) max(detectCores() - \n",
       "        1, 1) else 1, ...) \n",
       "\\{\n",
       "    if (!inherits(formula, \"formula\")) \n",
       "        stop(\"abcrf.formula is only for formula objects\")\n",
       "    if (!inherits(data, \"data.frame\")) \n",
       "        stop(\"data needs to be a data.frame object\")\n",
       "    if (is.na(ncores)) \\{\n",
       "        warning(\"Unable to automatically detect the number of CPU cores, \\textbackslash{}n1 CPU core will be used or please specify ncores.\")\n",
       "        ncores <- 1\n",
       "    \\}\n",
       "    if ((!is.logical(paral)) \\textbar{}\\textbar{} (length(paral) != 1L)) \n",
       "        stop(\"paral should be TRUE or FALSE\")\n",
       "    if (!is.list(group)) \n",
       "        stop(\"group needs to be a list\")\n",
       "    mf <- match.call(expand.dots = FALSE)\n",
       "    m <- match(c(\"formula\", \"data\"), names(mf))\n",
       "    mf <- mf{[}c(1L, m){]}\n",
       "    mf{[}{[}1L{]}{]} <- as.name(\"model.frame\")\n",
       "    mf <- eval(mf, parent.frame())\n",
       "    if (!is.factor(model.response(mf))) \n",
       "        stop(\"response should be a factor containing the model indexes\")\n",
       "    if (nrow(data) == 0L \\textbar{}\\textbar{} is.null(nrow(data))) \n",
       "        stop(\"no simulation in the reference table (response, sumstat)\")\n",
       "    if ((!is.logical(lda)) \\&\\& (length(lda) != 1L)) \n",
       "        stop(\"lda should be TRUE or FALSE\")\n",
       "    if (length(group) != 0) \\{\n",
       "        ngroup <- length(group)\n",
       "        varn <- formula{[}{[}2{]}{]}\n",
       "        data{[}{[}as.character(varn){]}{]} <- as.vector(data{[}{[}as.character(varn){]}{]})\n",
       "        allmod <- unique(data{[}{[}as.character(varn){]}{]})\n",
       "        for (k in 1:ngroup) for (l in 1:length(group{[}{[}k{]}{]})) data{[}{[}as.character(varn){]}{]}{[}which(data{[}{[}as.character(varn){]}{]} == \n",
       "            group{[}{[}k{]}{]}{[}l{]}){]} <- paste(\"g\", k, sep = \"\")\n",
       "        if (!setequal(allmod, unlist(group))) \\{\n",
       "            diffe <- setdiff(allmod, unlist(group))\n",
       "            for (l in 1:length(diffe)) data <- data{[}-which(data{[}{[}as.character(varn){]}{]} == \n",
       "                diffe{[}l{]}), {]}\n",
       "        \\}\n",
       "        data{[}{[}as.character(varn){]}{]} <- as.factor(data{[}{[}as.character(varn){]}{]})\n",
       "    \\}\n",
       "    if (lda) \\{\n",
       "        model.lda <- lda(formula, data)\n",
       "        data <- cbind(data, as.matrix(predict(model.lda, data)\\$x))\n",
       "    \\}\n",
       "    else \\{\n",
       "        model.lda <- NULL\n",
       "    \\}\n",
       "    m <- names(match.call(expand.dots = TRUE))\n",
       "    if ((!\"sampsize\" \\%in\\% m) \\&\\& (nrow(data) <= 15)) \n",
       "        sampsize <- as.integer(sampsize/10)\n",
       "    if (sampsize > nrow(data)) \n",
       "        stop(\"sampsize too large\")\n",
       "    model.rf <- ranger(formula, data, num.trees = ntree, sample.fraction = sampsize/nrow(data), \n",
       "        num.threads = ncores, keep.inbag = TRUE, importance = \"impurity\", \n",
       "        ...)\n",
       "    class.error = vector()\n",
       "    for (i in 1:nrow(model.rf\\$confusion.matrix)) \\{\n",
       "        rowSum <- sum(model.rf\\$confusion.matrix{[}i, {]})\n",
       "        accurate <- diag(model.rf\\$confusion.matrix){[}i{]}\n",
       "        error <- rowSum - accurate\n",
       "        class.error{[}i{]} <- error/rowSum\n",
       "    \\}\n",
       "    model.rf\\$confusion.matrix <- cbind(model.rf\\$confusion.matrix, \n",
       "        class.error)\n",
       "    colnames(model.rf\\$confusion.matrix) <- c(paste(model.rf\\$forest\\$levels), \n",
       "        \"class.error\")\n",
       "    model.rf\\$model.rf\n",
       "    cl <- match.call()\n",
       "    cl{[}{[}1{]}{]} <- as.name(\"abcrf\")\n",
       "    x <- list(call = cl, lda = lda, formula = formula, group = group, \n",
       "        model.rf = model.rf, model.lda = model.lda, prior.err = model.rf\\$prediction.error)\n",
       "    class(x) <- \"abcrf\"\n",
       "    x\n",
       "\\}\n",
       "\\end{minted}"
      ],
      "text/markdown": [
       "```r\n",
       "function (formula, data, group = list(), lda = TRUE, ntree = 500, \n",
       "    sampsize = min(1e+05, nrow(data)), paral = FALSE, ncores = if (paral) max(detectCores() - \n",
       "        1, 1) else 1, ...) \n",
       "{\n",
       "    if (!inherits(formula, \"formula\")) \n",
       "        stop(\"abcrf.formula is only for formula objects\")\n",
       "    if (!inherits(data, \"data.frame\")) \n",
       "        stop(\"data needs to be a data.frame object\")\n",
       "    if (is.na(ncores)) {\n",
       "        warning(\"Unable to automatically detect the number of CPU cores, \\n1 CPU core will be used or please specify ncores.\")\n",
       "        ncores <- 1\n",
       "    }\n",
       "    if ((!is.logical(paral)) || (length(paral) != 1L)) \n",
       "        stop(\"paral should be TRUE or FALSE\")\n",
       "    if (!is.list(group)) \n",
       "        stop(\"group needs to be a list\")\n",
       "    mf <- match.call(expand.dots = FALSE)\n",
       "    m <- match(c(\"formula\", \"data\"), names(mf))\n",
       "    mf <- mf[c(1L, m)]\n",
       "    mf[[1L]] <- as.name(\"model.frame\")\n",
       "    mf <- eval(mf, parent.frame())\n",
       "    if (!is.factor(model.response(mf))) \n",
       "        stop(\"response should be a factor containing the model indexes\")\n",
       "    if (nrow(data) == 0L || is.null(nrow(data))) \n",
       "        stop(\"no simulation in the reference table (response, sumstat)\")\n",
       "    if ((!is.logical(lda)) && (length(lda) != 1L)) \n",
       "        stop(\"lda should be TRUE or FALSE\")\n",
       "    if (length(group) != 0) {\n",
       "        ngroup <- length(group)\n",
       "        varn <- formula[[2]]\n",
       "        data[[as.character(varn)]] <- as.vector(data[[as.character(varn)]])\n",
       "        allmod <- unique(data[[as.character(varn)]])\n",
       "        for (k in 1:ngroup) for (l in 1:length(group[[k]])) data[[as.character(varn)]][which(data[[as.character(varn)]] == \n",
       "            group[[k]][l])] <- paste(\"g\", k, sep = \"\")\n",
       "        if (!setequal(allmod, unlist(group))) {\n",
       "            diffe <- setdiff(allmod, unlist(group))\n",
       "            for (l in 1:length(diffe)) data <- data[-which(data[[as.character(varn)]] == \n",
       "                diffe[l]), ]\n",
       "        }\n",
       "        data[[as.character(varn)]] <- as.factor(data[[as.character(varn)]])\n",
       "    }\n",
       "    if (lda) {\n",
       "        model.lda <- lda(formula, data)\n",
       "        data <- cbind(data, as.matrix(predict(model.lda, data)$x))\n",
       "    }\n",
       "    else {\n",
       "        model.lda <- NULL\n",
       "    }\n",
       "    m <- names(match.call(expand.dots = TRUE))\n",
       "    if ((!\"sampsize\" %in% m) && (nrow(data) <= 15)) \n",
       "        sampsize <- as.integer(sampsize/10)\n",
       "    if (sampsize > nrow(data)) \n",
       "        stop(\"sampsize too large\")\n",
       "    model.rf <- ranger(formula, data, num.trees = ntree, sample.fraction = sampsize/nrow(data), \n",
       "        num.threads = ncores, keep.inbag = TRUE, importance = \"impurity\", \n",
       "        ...)\n",
       "    class.error = vector()\n",
       "    for (i in 1:nrow(model.rf$confusion.matrix)) {\n",
       "        rowSum <- sum(model.rf$confusion.matrix[i, ])\n",
       "        accurate <- diag(model.rf$confusion.matrix)[i]\n",
       "        error <- rowSum - accurate\n",
       "        class.error[i] <- error/rowSum\n",
       "    }\n",
       "    model.rf$confusion.matrix <- cbind(model.rf$confusion.matrix, \n",
       "        class.error)\n",
       "    colnames(model.rf$confusion.matrix) <- c(paste(model.rf$forest$levels), \n",
       "        \"class.error\")\n",
       "    model.rf$model.rf\n",
       "    cl <- match.call()\n",
       "    cl[[1]] <- as.name(\"abcrf\")\n",
       "    x <- list(call = cl, lda = lda, formula = formula, group = group, \n",
       "        model.rf = model.rf, model.lda = model.lda, prior.err = model.rf$prediction.error)\n",
       "    class(x) <- \"abcrf\"\n",
       "    x\n",
       "}\n",
       "```"
      ],
      "text/plain": [
       "function (formula, data, group = list(), lda = TRUE, ntree = 500, \n",
       "    sampsize = min(1e+05, nrow(data)), paral = FALSE, ncores = if (paral) max(detectCores() - \n",
       "        1, 1) else 1, ...) \n",
       "{\n",
       "    if (!inherits(formula, \"formula\")) \n",
       "        stop(\"abcrf.formula is only for formula objects\")\n",
       "    if (!inherits(data, \"data.frame\")) \n",
       "        stop(\"data needs to be a data.frame object\")\n",
       "    if (is.na(ncores)) {\n",
       "        warning(\"Unable to automatically detect the number of CPU cores, \\n1 CPU core will be used or please specify ncores.\")\n",
       "        ncores <- 1\n",
       "    }\n",
       "    if ((!is.logical(paral)) || (length(paral) != 1L)) \n",
       "        stop(\"paral should be TRUE or FALSE\")\n",
       "    if (!is.list(group)) \n",
       "        stop(\"group needs to be a list\")\n",
       "    mf <- match.call(expand.dots = FALSE)\n",
       "    m <- match(c(\"formula\", \"data\"), names(mf))\n",
       "    mf <- mf[c(1L, m)]\n",
       "    mf[[1L]] <- as.name(\"model.frame\")\n",
       "    mf <- eval(mf, parent.frame())\n",
       "    if (!is.factor(model.response(mf))) \n",
       "        stop(\"response should be a factor containing the model indexes\")\n",
       "    if (nrow(data) == 0L || is.null(nrow(data))) \n",
       "        stop(\"no simulation in the reference table (response, sumstat)\")\n",
       "    if ((!is.logical(lda)) && (length(lda) != 1L)) \n",
       "        stop(\"lda should be TRUE or FALSE\")\n",
       "    if (length(group) != 0) {\n",
       "        ngroup <- length(group)\n",
       "        varn <- formula[[2]]\n",
       "        data[[as.character(varn)]] <- as.vector(data[[as.character(varn)]])\n",
       "        allmod <- unique(data[[as.character(varn)]])\n",
       "        for (k in 1:ngroup) for (l in 1:length(group[[k]])) data[[as.character(varn)]][which(data[[as.character(varn)]] == \n",
       "            group[[k]][l])] <- paste(\"g\", k, sep = \"\")\n",
       "        if (!setequal(allmod, unlist(group))) {\n",
       "            diffe <- setdiff(allmod, unlist(group))\n",
       "            for (l in 1:length(diffe)) data <- data[-which(data[[as.character(varn)]] == \n",
       "                diffe[l]), ]\n",
       "        }\n",
       "        data[[as.character(varn)]] <- as.factor(data[[as.character(varn)]])\n",
       "    }\n",
       "    if (lda) {\n",
       "        model.lda <- lda(formula, data)\n",
       "        data <- cbind(data, as.matrix(predict(model.lda, data)$x))\n",
       "    }\n",
       "    else {\n",
       "        model.lda <- NULL\n",
       "    }\n",
       "    m <- names(match.call(expand.dots = TRUE))\n",
       "    if ((!\"sampsize\" %in% m) && (nrow(data) <= 15)) \n",
       "        sampsize <- as.integer(sampsize/10)\n",
       "    if (sampsize > nrow(data)) \n",
       "        stop(\"sampsize too large\")\n",
       "    model.rf <- ranger(formula, data, num.trees = ntree, sample.fraction = sampsize/nrow(data), \n",
       "        num.threads = ncores, keep.inbag = TRUE, importance = \"impurity\", \n",
       "        ...)\n",
       "    class.error = vector()\n",
       "    for (i in 1:nrow(model.rf$confusion.matrix)) {\n",
       "        rowSum <- sum(model.rf$confusion.matrix[i, ])\n",
       "        accurate <- diag(model.rf$confusion.matrix)[i]\n",
       "        error <- rowSum - accurate\n",
       "        class.error[i] <- error/rowSum\n",
       "    }\n",
       "    model.rf$confusion.matrix <- cbind(model.rf$confusion.matrix, \n",
       "        class.error)\n",
       "    colnames(model.rf$confusion.matrix) <- c(paste(model.rf$forest$levels), \n",
       "        \"class.error\")\n",
       "    model.rf$model.rf\n",
       "    cl <- match.call()\n",
       "    cl[[1]] <- as.name(\"abcrf\")\n",
       "    x <- list(call = cl, lda = lda, formula = formula, group = group, \n",
       "        model.rf = model.rf, model.lda = model.lda, prior.err = model.rf$prediction.error)\n",
       "    class(x) <- \"abcrf\"\n",
       "    x\n",
       "}\n",
       "<bytecode: 0x7fea2544f0b8>\n",
       "<environment: namespace:abcrf>"
      ]
     },
     "metadata": {},
     "output_type": "display_data"
    }
   ],
   "source": [
    "abcrf:::abcrf.formula"
   ]
  },
  {
   "cell_type": "markdown",
   "metadata": {},
   "source": [
    "# RF"
   ]
  },
  {
   "cell_type": "code",
   "execution_count": 8,
   "metadata": {},
   "outputs": [
    {
     "name": "stderr",
     "output_type": "stream",
     "text": [
      "Loading required package: ranger\n"
     ]
    },
    {
     "data": {
      "text/plain": [
       "Ranger result\n",
       "\n",
       "Call:\n",
       " ranger(Species ~ ., data = iris) \n",
       "\n",
       "Type:                             Classification \n",
       "Number of trees:                  500 \n",
       "Sample size:                      150 \n",
       "Number of independent variables:  4 \n",
       "Mtry:                             2 \n",
       "Target node size:                 1 \n",
       "Variable importance mode:         none \n",
       "Splitrule:                        gini \n",
       "OOB prediction error:             4.67 % "
      ]
     },
     "metadata": {},
     "output_type": "display_data"
    }
   ],
   "source": [
    "require(ranger)\n",
    "\n",
    "## Classification forest with default settings\n",
    "ranger(Species ~ ., data = iris)"
   ]
  },
  {
   "cell_type": "code",
   "execution_count": 9,
   "metadata": {},
   "outputs": [
    {
     "data": {
      "text/plain": [
       "            \n",
       "             setosa versicolor virginica\n",
       "  setosa         17          0         0\n",
       "  versicolor      0         15         0\n",
       "  virginica       0          2        16"
      ]
     },
     "metadata": {},
     "output_type": "display_data"
    }
   ],
   "source": [
    "## Prediction\n",
    "train.idx <- sample(nrow(iris), 2/3 * nrow(iris))\n",
    "iris.train <- iris[train.idx, ]\n",
    "iris.test <- iris[-train.idx, ]\n",
    "rg.iris <- ranger(Species ~ ., data = iris.train)\n",
    "pred.iris <- predict(rg.iris, data = iris.test)\n",
    "table(iris.test$Species, pred.iris$predictions)"
   ]
  },
  {
   "cell_type": "code",
   "execution_count": 10,
   "metadata": {},
   "outputs": [
    {
     "data": {
      "text/html": [
       "<table>\n",
       "<thead><tr><th scope=col>quantile= 0.1</th><th scope=col>quantile= 0.5</th><th scope=col>quantile= 0.9</th></tr></thead>\n",
       "<tbody>\n",
       "\t<tr><td>21.0 </td><td>24.40</td><td>32.55</td></tr>\n",
       "\t<tr><td>21.0 </td><td>22.80</td><td>32.40</td></tr>\n",
       "\t<tr><td>13.3 </td><td>15.95</td><td>30.40</td></tr>\n",
       "\t<tr><td>15.2 </td><td>21.00</td><td>22.80</td></tr>\n",
       "\t<tr><td>13.3 </td><td>14.30</td><td>19.20</td></tr>\n",
       "\t<tr><td>21.0 </td><td>22.80</td><td>32.40</td></tr>\n",
       "</tbody>\n",
       "</table>\n"
      ],
      "text/latex": [
       "\\begin{tabular}{lll}\n",
       " quantile= 0.1 & quantile= 0.5 & quantile= 0.9\\\\\n",
       "\\hline\n",
       "\t 21.0  & 24.40 & 32.55\\\\\n",
       "\t 21.0  & 22.80 & 32.40\\\\\n",
       "\t 13.3  & 15.95 & 30.40\\\\\n",
       "\t 15.2  & 21.00 & 22.80\\\\\n",
       "\t 13.3  & 14.30 & 19.20\\\\\n",
       "\t 21.0  & 22.80 & 32.40\\\\\n",
       "\\end{tabular}\n"
      ],
      "text/markdown": [
       "\n",
       "| quantile= 0.1 | quantile= 0.5 | quantile= 0.9 |\n",
       "|---|---|---|\n",
       "| 21.0  | 24.40 | 32.55 |\n",
       "| 21.0  | 22.80 | 32.40 |\n",
       "| 13.3  | 15.95 | 30.40 |\n",
       "| 15.2  | 21.00 | 22.80 |\n",
       "| 13.3  | 14.30 | 19.20 |\n",
       "| 21.0  | 22.80 | 32.40 |\n",
       "\n"
      ],
      "text/plain": [
       "     quantile= 0.1 quantile= 0.5 quantile= 0.9\n",
       "[1,] 21.0          24.40         32.55        \n",
       "[2,] 21.0          22.80         32.40        \n",
       "[3,] 13.3          15.95         30.40        \n",
       "[4,] 15.2          21.00         22.80        \n",
       "[5,] 13.3          14.30         19.20        \n",
       "[6,] 21.0          22.80         32.40        "
      ]
     },
     "metadata": {},
     "output_type": "display_data"
    }
   ],
   "source": [
    "## Quantile regression forest\n",
    "rf <- ranger(mpg ~ ., mtcars[1:26, ], quantreg = TRUE)\n",
    "pred <- predict(rf, mtcars[27:32, ], type = \"quantiles\")\n",
    "pred$predictions"
   ]
  },
  {
   "cell_type": "code",
   "execution_count": 11,
   "metadata": {},
   "outputs": [
    {
     "data": {
      "text/html": [
       "<dl class=dl-horizontal>\n",
       "\t<dt>Sepal.Length</dt>\n",
       "\t\t<dd>9.97805768983597</dd>\n",
       "\t<dt>Sepal.Width</dt>\n",
       "\t\t<dd>2.54536927074438</dd>\n",
       "\t<dt>Petal.Length</dt>\n",
       "\t\t<dd>42.9250358317397</dd>\n",
       "\t<dt>Petal.Width</dt>\n",
       "\t\t<dd>43.8062038743466</dd>\n",
       "</dl>\n"
      ],
      "text/latex": [
       "\\begin{description*}\n",
       "\\item[Sepal.Length] 9.97805768983597\n",
       "\\item[Sepal.Width] 2.54536927074438\n",
       "\\item[Petal.Length] 42.9250358317397\n",
       "\\item[Petal.Width] 43.8062038743466\n",
       "\\end{description*}\n"
      ],
      "text/markdown": [
       "Sepal.Length\n",
       ":   9.97805768983597Sepal.Width\n",
       ":   2.54536927074438Petal.Length\n",
       ":   42.9250358317397Petal.Width\n",
       ":   43.8062038743466\n",
       "\n"
      ],
      "text/plain": [
       "Sepal.Length  Sepal.Width Petal.Length  Petal.Width \n",
       "    9.978058     2.545369    42.925036    43.806204 "
      ]
     },
     "metadata": {},
     "output_type": "display_data"
    }
   ],
   "source": [
    "## Variable importance\n",
    "rg.iris <- ranger(Species ~ ., data = iris, importance = \"impurity\")\n",
    "rg.iris$variable.importance"
   ]
  },
  {
   "cell_type": "code",
   "execution_count": 12,
   "metadata": {},
   "outputs": [
    {
     "name": "stderr",
     "output_type": "stream",
     "text": [
      "Loading required package: survival\n"
     ]
    },
    {
     "data": {
      "image/png": "[encoded data removed]",
      "text/plain": [
       "plot without title"
      ]
     },
     "metadata": {},
     "output_type": "display_data"
    }
   ],
   "source": [
    "## Survival forest\n",
    "require(survival)\n",
    "rg.veteran <- ranger(Surv(time, status) ~ ., data = veteran)\n",
    "plot(rg.veteran$unique.death.times, rg.veteran$survival[1,])"
   ]
  },
  {
   "cell_type": "code",
   "execution_count": 13,
   "metadata": {},
   "outputs": [
    {
     "data": {
      "text/plain": [
       "Ranger result\n",
       "\n",
       "Call:\n",
       " ranger(dependent.variable.name = \"Species\", data = iris) \n",
       "\n",
       "Type:                             Classification \n",
       "Number of trees:                  500 \n",
       "Sample size:                      150 \n",
       "Number of independent variables:  4 \n",
       "Mtry:                             2 \n",
       "Target node size:                 1 \n",
       "Variable importance mode:         none \n",
       "Splitrule:                        gini \n",
       "OOB prediction error:             4.00 % "
      ]
     },
     "metadata": {},
     "output_type": "display_data"
    }
   ],
   "source": [
    "## Alternative interface\n",
    "ranger(dependent.variable.name = \"Species\", data = iris)"
   ]
  },
  {
   "cell_type": "code",
   "execution_count": 14,
   "metadata": {},
   "outputs": [],
   "source": [
    "# ## Not run: \n",
    "# ## Use GenABEL interface to read Plink data into R and grow a classification forest\n",
    "# ## The ped and map files are not included\n",
    "# library(GenABEL)\n",
    "# convert.snp.ped(\"data.ped\", \"data.map\", \"data.raw\")\n",
    "# dat.gwaa <- load.gwaa.data(\"data.pheno\", \"data.raw\")\n",
    "# phdata(dat.gwaa)$trait <- factor(phdata(dat.gwaa)$trait)\n",
    "# ranger(trait ~ ., data = dat.gwaa)\n",
    "\n",
    "# ## End(Not run)"
   ]
  },
  {
   "cell_type": "code",
   "execution_count": 40,
   "metadata": {},
   "outputs": [
    {
     "data": {
      "text/html": [
       "<strong>$names</strong> = <ol class=list-inline>\n",
       "\t<li>'modindex'</li>\n",
       "\t<li>'param'</li>\n",
       "\t<li>'sumsta'</li>\n",
       "</ol>\n"
      ],
      "text/latex": [
       "\\textbf{\\$names} = \\begin{enumerate*}\n",
       "\\item 'modindex'\n",
       "\\item 'param'\n",
       "\\item 'sumsta'\n",
       "\\end{enumerate*}\n"
      ],
      "text/markdown": [
       "**$names** = 1. 'modindex'\n",
       "2. 'param'\n",
       "3. 'sumsta'\n",
       "\n",
       "\n"
      ],
      "text/plain": [
       "$names\n",
       "[1] \"modindex\" \"param\"    \"sumsta\"  \n"
      ]
     },
     "metadata": {},
     "output_type": "display_data"
    }
   ],
   "source": [
    "attributes(snp)"
   ]
  },
  {
   "cell_type": "code",
   "execution_count": 19,
   "metadata": {},
   "outputs": [],
   "source": [
    "help(snp)"
   ]
  },
  {
   "cell_type": "code",
   "execution_count": 42,
   "metadata": {},
   "outputs": [],
   "source": [
    "help(abcrf)"
   ]
  },
  {
   "cell_type": "code",
   "execution_count": 93,
   "metadata": {},
   "outputs": [],
   "source": [
    "help(ranger)"
   ]
  },
  {
   "cell_type": "markdown",
   "metadata": {},
   "source": [
    "# Artery Data"
   ]
  },
  {
   "cell_type": "code",
   "execution_count": 2,
   "metadata": {},
   "outputs": [
    {
     "data": {
      "text/html": [
       "<table>\n",
       "<thead><tr><th scope=col>V1</th><th scope=col>V2</th><th scope=col>V3</th><th scope=col>V4</th><th scope=col>V5</th><th scope=col>V6</th><th scope=col>V7</th><th scope=col>V8</th><th scope=col>V9</th><th scope=col>V10</th><th scope=col>Y</th></tr></thead>\n",
       "<tbody>\n",
       "\t<tr><td>2929.0962</td><td>2929.0959</td><td>2929.0954</td><td>2929.0944</td><td>2929.0933</td><td>2929.0922</td><td>2929.0912</td><td>2929.0903</td><td>2929.0897</td><td>2929.0894</td><td>TRUE     </td></tr>\n",
       "\t<tr><td>1658.5402</td><td>1658.7067</td><td>1658.7571</td><td>1658.6872</td><td>1658.6285</td><td>1658.5365</td><td>1658.3883</td><td>1658.2525</td><td>1658.0376</td><td>1657.7735</td><td>TRUE     </td></tr>\n",
       "\t<tr><td>1279.5455</td><td>1279.5628</td><td>1279.5824</td><td>1279.6045</td><td>1279.6441</td><td>1279.6889</td><td>1279.7433</td><td>1279.7489</td><td>1279.6423</td><td>1279.4628</td><td>TRUE     </td></tr>\n",
       "\t<tr><td>1253.8039</td><td>1253.7999</td><td>1253.8067</td><td>1253.8248</td><td>1253.8372</td><td>1253.8593</td><td>1253.9103</td><td>1253.9264</td><td>1253.8883</td><td>1253.8126</td><td>TRUE     </td></tr>\n",
       "\t<tr><td>1233.9172</td><td>1233.9277</td><td>1233.9347</td><td>1233.9379</td><td>1233.9383</td><td>1233.9406</td><td>1233.9538</td><td>1233.9667</td><td>1233.9699</td><td>1233.9660</td><td>TRUE     </td></tr>\n",
       "\t<tr><td>1202.3669</td><td>1202.3763</td><td>1202.3799</td><td>1202.3773</td><td>1202.3802</td><td>1202.3816</td><td>1202.3807</td><td>1202.3927</td><td>1202.4127</td><td>1202.4369</td><td>TRUE     </td></tr>\n",
       "\t<tr><td>1165.8423</td><td>1165.8446</td><td>1165.8447</td><td>1165.8424</td><td>1165.8469</td><td>1165.8497</td><td>1165.8472</td><td>1165.8569</td><td>1165.8761</td><td>1165.9002</td><td>TRUE     </td></tr>\n",
       "\t<tr><td>1130.7162</td><td>1130.7148</td><td>1130.7136</td><td>1130.7128</td><td>1130.7168</td><td>1130.7195</td><td>1130.7181</td><td>1130.7253</td><td>1130.7381</td><td>1130.7533</td><td>TRUE     </td></tr>\n",
       "\t<tr><td>1098.2779</td><td>1098.2764</td><td>1098.2756</td><td>1098.2756</td><td>1098.2787</td><td>1098.2806</td><td>1098.2801</td><td>1098.2860</td><td>1098.2932</td><td>1098.3005</td><td>TRUE     </td></tr>\n",
       "\t<tr><td>1068.6779</td><td>1068.6777</td><td>1068.6776</td><td>1068.6777</td><td>1068.6802</td><td>1068.6815</td><td>1068.6811</td><td>1068.6864</td><td>1068.6902</td><td>1068.6928</td><td>TRUE     </td></tr>\n",
       "\t<tr><td>1041.6786</td><td>1041.6797</td><td>1041.6802</td><td>1041.6801</td><td>1041.6821</td><td>1041.6831</td><td>1041.6824</td><td>1041.6874</td><td>1041.6893</td><td>1041.6893</td><td>TRUE     </td></tr>\n",
       "\t<tr><td>1017.0699</td><td>1017.0718</td><td>1017.0726</td><td>1017.0723</td><td>1017.0741</td><td>1017.0747</td><td>1017.0737</td><td>1017.0784</td><td>1017.0791</td><td>1017.0776</td><td>TRUE     </td></tr>\n",
       "\t<tr><td> 994.6932</td><td> 994.6956</td><td> 994.6966</td><td> 994.6961</td><td> 994.6977</td><td> 994.6981</td><td> 994.6969</td><td> 994.7012</td><td> 994.7011</td><td> 994.6983</td><td>TRUE     </td></tr>\n",
       "\t<tr><td> 974.4405</td><td> 974.4432</td><td> 974.4442</td><td> 974.4436</td><td> 974.4450</td><td> 974.4453</td><td> 974.4438</td><td> 974.4479</td><td> 974.4469</td><td> 974.4430</td><td>TRUE     </td></tr>\n",
       "\t<tr><td> 956.2296</td><td> 956.2326</td><td> 956.2337</td><td> 956.2330</td><td> 956.2343</td><td> 956.2343</td><td> 956.2328</td><td> 956.2365</td><td> 956.2348</td><td> 956.2299</td><td>TRUE     </td></tr>\n",
       "\t<tr><td> 939.9871</td><td> 939.9902</td><td> 939.9914</td><td> 939.9906</td><td> 939.9918</td><td> 939.9917</td><td> 939.9901</td><td> 939.9936</td><td> 939.9912</td><td> 939.9854</td><td>TRUE     </td></tr>\n",
       "\t<tr><td> 925.6381</td><td> 925.6415</td><td> 925.6427</td><td> 925.6418</td><td> 925.6429</td><td> 925.6427</td><td> 925.6410</td><td> 925.6442</td><td> 925.6412</td><td> 925.6347</td><td>TRUE     </td></tr>\n",
       "\t<tr><td> 913.1045</td><td> 913.1082</td><td> 913.1095</td><td> 913.1085</td><td> 913.1095</td><td> 913.1092</td><td> 913.1074</td><td> 913.1104</td><td> 913.1069</td><td> 913.0996</td><td>FALSE    </td></tr>\n",
       "\t<tr><td> 902.3059</td><td> 902.3097</td><td> 902.3111</td><td> 902.3100</td><td> 902.3110</td><td> 902.3107</td><td> 902.3088</td><td> 902.3115</td><td> 902.3075</td><td> 902.2996</td><td>FALSE    </td></tr>\n",
       "\t<tr><td> 893.1608</td><td> 893.1648</td><td> 893.1663</td><td> 893.1651</td><td> 893.1660</td><td> 893.1657</td><td> 893.1637</td><td> 893.1663</td><td> 893.1618</td><td> 893.1532</td><td>FALSE    </td></tr>\n",
       "\t<tr><td> 885.5886</td><td> 885.5928</td><td> 885.5944</td><td> 885.5931</td><td> 885.5940</td><td> 885.5936</td><td> 885.5916</td><td> 885.5939</td><td> 885.5890</td><td> 885.5799</td><td>FALSE    </td></tr>\n",
       "\t<tr><td> 879.5102</td><td> 879.5147</td><td> 879.5163</td><td> 879.5150</td><td> 879.5158</td><td> 879.5154</td><td> 879.5134</td><td> 879.5155</td><td> 879.5102</td><td> 879.5005</td><td>FALSE    </td></tr>\n",
       "\t<tr><td> 874.8489</td><td> 874.8536</td><td> 874.8552</td><td> 874.8538</td><td> 874.8547</td><td> 874.8542</td><td> 874.8521</td><td> 874.8541</td><td> 874.8485</td><td> 874.8383</td><td>FALSE    </td></tr>\n",
       "\t<tr><td> 871.5300</td><td> 871.5349</td><td> 871.5366</td><td> 871.5352</td><td> 871.5360</td><td> 871.5356</td><td> 871.5334</td><td> 871.5352</td><td> 871.5292</td><td> 871.5185</td><td>FALSE    </td></tr>\n",
       "\t<tr><td> 869.4816</td><td> 869.4867</td><td> 869.4885</td><td> 869.4870</td><td> 869.4878</td><td> 869.4874</td><td> 869.4852</td><td> 869.4869</td><td> 869.4805</td><td> 869.4693</td><td>FALSE    </td></tr>\n",
       "\t<tr><td> 868.6342</td><td> 868.6395</td><td> 868.6414</td><td> 868.6398</td><td> 868.6407</td><td> 868.6402</td><td> 868.6380</td><td> 868.6395</td><td> 868.6328</td><td> 868.6211</td><td>FALSE    </td></tr>\n",
       "\t<tr><td> 868.9208</td><td> 868.9263</td><td> 868.9283</td><td> 868.9267</td><td> 868.9276</td><td> 868.9271</td><td> 868.9249</td><td> 868.9262</td><td> 868.9192</td><td> 868.9070</td><td>FALSE    </td></tr>\n",
       "\t<tr><td> 870.2772</td><td> 870.2829</td><td> 870.2850</td><td> 870.2833</td><td> 870.2842</td><td> 870.2837</td><td> 870.2814</td><td> 870.2827</td><td> 870.2753</td><td> 870.2627</td><td>FALSE    </td></tr>\n",
       "\t<tr><td> 872.6414</td><td> 872.6473</td><td> 872.6495</td><td> 872.6478</td><td> 872.6487</td><td> 872.6481</td><td> 872.6459</td><td> 872.6470</td><td> 872.6393</td><td> 872.6262</td><td>FALSE    </td></tr>\n",
       "\t<tr><td> 875.9541</td><td> 875.9603</td><td> 875.9626</td><td> 875.9608</td><td> 875.9617</td><td> 875.9612</td><td> 875.9589</td><td> 875.9599</td><td> 875.9519</td><td> 875.9384</td><td>FALSE    </td></tr>\n",
       "</tbody>\n",
       "</table>\n"
      ],
      "text/latex": [
       "\\begin{tabular}{r|lllllllllll}\n",
       " V1 & V2 & V3 & V4 & V5 & V6 & V7 & V8 & V9 & V10 & Y\\\\\n",
       "\\hline\n",
       "\t 2929.0962 & 2929.0959 & 2929.0954 & 2929.0944 & 2929.0933 & 2929.0922 & 2929.0912 & 2929.0903 & 2929.0897 & 2929.0894 & TRUE     \\\\\n",
       "\t 1658.5402 & 1658.7067 & 1658.7571 & 1658.6872 & 1658.6285 & 1658.5365 & 1658.3883 & 1658.2525 & 1658.0376 & 1657.7735 & TRUE     \\\\\n",
       "\t 1279.5455 & 1279.5628 & 1279.5824 & 1279.6045 & 1279.6441 & 1279.6889 & 1279.7433 & 1279.7489 & 1279.6423 & 1279.4628 & TRUE     \\\\\n",
       "\t 1253.8039 & 1253.7999 & 1253.8067 & 1253.8248 & 1253.8372 & 1253.8593 & 1253.9103 & 1253.9264 & 1253.8883 & 1253.8126 & TRUE     \\\\\n",
       "\t 1233.9172 & 1233.9277 & 1233.9347 & 1233.9379 & 1233.9383 & 1233.9406 & 1233.9538 & 1233.9667 & 1233.9699 & 1233.9660 & TRUE     \\\\\n",
       "\t 1202.3669 & 1202.3763 & 1202.3799 & 1202.3773 & 1202.3802 & 1202.3816 & 1202.3807 & 1202.3927 & 1202.4127 & 1202.4369 & TRUE     \\\\\n",
       "\t 1165.8423 & 1165.8446 & 1165.8447 & 1165.8424 & 1165.8469 & 1165.8497 & 1165.8472 & 1165.8569 & 1165.8761 & 1165.9002 & TRUE     \\\\\n",
       "\t 1130.7162 & 1130.7148 & 1130.7136 & 1130.7128 & 1130.7168 & 1130.7195 & 1130.7181 & 1130.7253 & 1130.7381 & 1130.7533 & TRUE     \\\\\n",
       "\t 1098.2779 & 1098.2764 & 1098.2756 & 1098.2756 & 1098.2787 & 1098.2806 & 1098.2801 & 1098.2860 & 1098.2932 & 1098.3005 & TRUE     \\\\\n",
       "\t 1068.6779 & 1068.6777 & 1068.6776 & 1068.6777 & 1068.6802 & 1068.6815 & 1068.6811 & 1068.6864 & 1068.6902 & 1068.6928 & TRUE     \\\\\n",
       "\t 1041.6786 & 1041.6797 & 1041.6802 & 1041.6801 & 1041.6821 & 1041.6831 & 1041.6824 & 1041.6874 & 1041.6893 & 1041.6893 & TRUE     \\\\\n",
       "\t 1017.0699 & 1017.0718 & 1017.0726 & 1017.0723 & 1017.0741 & 1017.0747 & 1017.0737 & 1017.0784 & 1017.0791 & 1017.0776 & TRUE     \\\\\n",
       "\t  994.6932 &  994.6956 &  994.6966 &  994.6961 &  994.6977 &  994.6981 &  994.6969 &  994.7012 &  994.7011 &  994.6983 & TRUE     \\\\\n",
       "\t  974.4405 &  974.4432 &  974.4442 &  974.4436 &  974.4450 &  974.4453 &  974.4438 &  974.4479 &  974.4469 &  974.4430 & TRUE     \\\\\n",
       "\t  956.2296 &  956.2326 &  956.2337 &  956.2330 &  956.2343 &  956.2343 &  956.2328 &  956.2365 &  956.2348 &  956.2299 & TRUE     \\\\\n",
       "\t  939.9871 &  939.9902 &  939.9914 &  939.9906 &  939.9918 &  939.9917 &  939.9901 &  939.9936 &  939.9912 &  939.9854 & TRUE     \\\\\n",
       "\t  925.6381 &  925.6415 &  925.6427 &  925.6418 &  925.6429 &  925.6427 &  925.6410 &  925.6442 &  925.6412 &  925.6347 & TRUE     \\\\\n",
       "\t  913.1045 &  913.1082 &  913.1095 &  913.1085 &  913.1095 &  913.1092 &  913.1074 &  913.1104 &  913.1069 &  913.0996 & FALSE    \\\\\n",
       "\t  902.3059 &  902.3097 &  902.3111 &  902.3100 &  902.3110 &  902.3107 &  902.3088 &  902.3115 &  902.3075 &  902.2996 & FALSE    \\\\\n",
       "\t  893.1608 &  893.1648 &  893.1663 &  893.1651 &  893.1660 &  893.1657 &  893.1637 &  893.1663 &  893.1618 &  893.1532 & FALSE    \\\\\n",
       "\t  885.5886 &  885.5928 &  885.5944 &  885.5931 &  885.5940 &  885.5936 &  885.5916 &  885.5939 &  885.5890 &  885.5799 & FALSE    \\\\\n",
       "\t  879.5102 &  879.5147 &  879.5163 &  879.5150 &  879.5158 &  879.5154 &  879.5134 &  879.5155 &  879.5102 &  879.5005 & FALSE    \\\\\n",
       "\t  874.8489 &  874.8536 &  874.8552 &  874.8538 &  874.8547 &  874.8542 &  874.8521 &  874.8541 &  874.8485 &  874.8383 & FALSE    \\\\\n",
       "\t  871.5300 &  871.5349 &  871.5366 &  871.5352 &  871.5360 &  871.5356 &  871.5334 &  871.5352 &  871.5292 &  871.5185 & FALSE    \\\\\n",
       "\t  869.4816 &  869.4867 &  869.4885 &  869.4870 &  869.4878 &  869.4874 &  869.4852 &  869.4869 &  869.4805 &  869.4693 & FALSE    \\\\\n",
       "\t  868.6342 &  868.6395 &  868.6414 &  868.6398 &  868.6407 &  868.6402 &  868.6380 &  868.6395 &  868.6328 &  868.6211 & FALSE    \\\\\n",
       "\t  868.9208 &  868.9263 &  868.9283 &  868.9267 &  868.9276 &  868.9271 &  868.9249 &  868.9262 &  868.9192 &  868.9070 & FALSE    \\\\\n",
       "\t  870.2772 &  870.2829 &  870.2850 &  870.2833 &  870.2842 &  870.2837 &  870.2814 &  870.2827 &  870.2753 &  870.2627 & FALSE    \\\\\n",
       "\t  872.6414 &  872.6473 &  872.6495 &  872.6478 &  872.6487 &  872.6481 &  872.6459 &  872.6470 &  872.6393 &  872.6262 & FALSE    \\\\\n",
       "\t  875.9541 &  875.9603 &  875.9626 &  875.9608 &  875.9617 &  875.9612 &  875.9589 &  875.9599 &  875.9519 &  875.9384 & FALSE    \\\\\n",
       "\\end{tabular}\n"
      ],
      "text/markdown": [
       "\n",
       "| V1 | V2 | V3 | V4 | V5 | V6 | V7 | V8 | V9 | V10 | Y |\n",
       "|---|---|---|---|---|---|---|---|---|---|---|\n",
       "| 2929.0962 | 2929.0959 | 2929.0954 | 2929.0944 | 2929.0933 | 2929.0922 | 2929.0912 | 2929.0903 | 2929.0897 | 2929.0894 | TRUE      |\n",
       "| 1658.5402 | 1658.7067 | 1658.7571 | 1658.6872 | 1658.6285 | 1658.5365 | 1658.3883 | 1658.2525 | 1658.0376 | 1657.7735 | TRUE      |\n",
       "| 1279.5455 | 1279.5628 | 1279.5824 | 1279.6045 | 1279.6441 | 1279.6889 | 1279.7433 | 1279.7489 | 1279.6423 | 1279.4628 | TRUE      |\n",
       "| 1253.8039 | 1253.7999 | 1253.8067 | 1253.8248 | 1253.8372 | 1253.8593 | 1253.9103 | 1253.9264 | 1253.8883 | 1253.8126 | TRUE      |\n",
       "| 1233.9172 | 1233.9277 | 1233.9347 | 1233.9379 | 1233.9383 | 1233.9406 | 1233.9538 | 1233.9667 | 1233.9699 | 1233.9660 | TRUE      |\n",
       "| 1202.3669 | 1202.3763 | 1202.3799 | 1202.3773 | 1202.3802 | 1202.3816 | 1202.3807 | 1202.3927 | 1202.4127 | 1202.4369 | TRUE      |\n",
       "| 1165.8423 | 1165.8446 | 1165.8447 | 1165.8424 | 1165.8469 | 1165.8497 | 1165.8472 | 1165.8569 | 1165.8761 | 1165.9002 | TRUE      |\n",
       "| 1130.7162 | 1130.7148 | 1130.7136 | 1130.7128 | 1130.7168 | 1130.7195 | 1130.7181 | 1130.7253 | 1130.7381 | 1130.7533 | TRUE      |\n",
       "| 1098.2779 | 1098.2764 | 1098.2756 | 1098.2756 | 1098.2787 | 1098.2806 | 1098.2801 | 1098.2860 | 1098.2932 | 1098.3005 | TRUE      |\n",
       "| 1068.6779 | 1068.6777 | 1068.6776 | 1068.6777 | 1068.6802 | 1068.6815 | 1068.6811 | 1068.6864 | 1068.6902 | 1068.6928 | TRUE      |\n",
       "| 1041.6786 | 1041.6797 | 1041.6802 | 1041.6801 | 1041.6821 | 1041.6831 | 1041.6824 | 1041.6874 | 1041.6893 | 1041.6893 | TRUE      |\n",
       "| 1017.0699 | 1017.0718 | 1017.0726 | 1017.0723 | 1017.0741 | 1017.0747 | 1017.0737 | 1017.0784 | 1017.0791 | 1017.0776 | TRUE      |\n",
       "|  994.6932 |  994.6956 |  994.6966 |  994.6961 |  994.6977 |  994.6981 |  994.6969 |  994.7012 |  994.7011 |  994.6983 | TRUE      |\n",
       "|  974.4405 |  974.4432 |  974.4442 |  974.4436 |  974.4450 |  974.4453 |  974.4438 |  974.4479 |  974.4469 |  974.4430 | TRUE      |\n",
       "|  956.2296 |  956.2326 |  956.2337 |  956.2330 |  956.2343 |  956.2343 |  956.2328 |  956.2365 |  956.2348 |  956.2299 | TRUE      |\n",
       "|  939.9871 |  939.9902 |  939.9914 |  939.9906 |  939.9918 |  939.9917 |  939.9901 |  939.9936 |  939.9912 |  939.9854 | TRUE      |\n",
       "|  925.6381 |  925.6415 |  925.6427 |  925.6418 |  925.6429 |  925.6427 |  925.6410 |  925.6442 |  925.6412 |  925.6347 | TRUE      |\n",
       "|  913.1045 |  913.1082 |  913.1095 |  913.1085 |  913.1095 |  913.1092 |  913.1074 |  913.1104 |  913.1069 |  913.0996 | FALSE     |\n",
       "|  902.3059 |  902.3097 |  902.3111 |  902.3100 |  902.3110 |  902.3107 |  902.3088 |  902.3115 |  902.3075 |  902.2996 | FALSE     |\n",
       "|  893.1608 |  893.1648 |  893.1663 |  893.1651 |  893.1660 |  893.1657 |  893.1637 |  893.1663 |  893.1618 |  893.1532 | FALSE     |\n",
       "|  885.5886 |  885.5928 |  885.5944 |  885.5931 |  885.5940 |  885.5936 |  885.5916 |  885.5939 |  885.5890 |  885.5799 | FALSE     |\n",
       "|  879.5102 |  879.5147 |  879.5163 |  879.5150 |  879.5158 |  879.5154 |  879.5134 |  879.5155 |  879.5102 |  879.5005 | FALSE     |\n",
       "|  874.8489 |  874.8536 |  874.8552 |  874.8538 |  874.8547 |  874.8542 |  874.8521 |  874.8541 |  874.8485 |  874.8383 | FALSE     |\n",
       "|  871.5300 |  871.5349 |  871.5366 |  871.5352 |  871.5360 |  871.5356 |  871.5334 |  871.5352 |  871.5292 |  871.5185 | FALSE     |\n",
       "|  869.4816 |  869.4867 |  869.4885 |  869.4870 |  869.4878 |  869.4874 |  869.4852 |  869.4869 |  869.4805 |  869.4693 | FALSE     |\n",
       "|  868.6342 |  868.6395 |  868.6414 |  868.6398 |  868.6407 |  868.6402 |  868.6380 |  868.6395 |  868.6328 |  868.6211 | FALSE     |\n",
       "|  868.9208 |  868.9263 |  868.9283 |  868.9267 |  868.9276 |  868.9271 |  868.9249 |  868.9262 |  868.9192 |  868.9070 | FALSE     |\n",
       "|  870.2772 |  870.2829 |  870.2850 |  870.2833 |  870.2842 |  870.2837 |  870.2814 |  870.2827 |  870.2753 |  870.2627 | FALSE     |\n",
       "|  872.6414 |  872.6473 |  872.6495 |  872.6478 |  872.6487 |  872.6481 |  872.6459 |  872.6470 |  872.6393 |  872.6262 | FALSE     |\n",
       "|  875.9541 |  875.9603 |  875.9626 |  875.9608 |  875.9617 |  875.9612 |  875.9589 |  875.9599 |  875.9519 |  875.9384 | FALSE     |\n",
       "\n"
      ],
      "text/plain": [
       "   V1        V2        V3        V4        V5        V6        V7       \n",
       "1  2929.0962 2929.0959 2929.0954 2929.0944 2929.0933 2929.0922 2929.0912\n",
       "2  1658.5402 1658.7067 1658.7571 1658.6872 1658.6285 1658.5365 1658.3883\n",
       "3  1279.5455 1279.5628 1279.5824 1279.6045 1279.6441 1279.6889 1279.7433\n",
       "4  1253.8039 1253.7999 1253.8067 1253.8248 1253.8372 1253.8593 1253.9103\n",
       "5  1233.9172 1233.9277 1233.9347 1233.9379 1233.9383 1233.9406 1233.9538\n",
       "6  1202.3669 1202.3763 1202.3799 1202.3773 1202.3802 1202.3816 1202.3807\n",
       "7  1165.8423 1165.8446 1165.8447 1165.8424 1165.8469 1165.8497 1165.8472\n",
       "8  1130.7162 1130.7148 1130.7136 1130.7128 1130.7168 1130.7195 1130.7181\n",
       "9  1098.2779 1098.2764 1098.2756 1098.2756 1098.2787 1098.2806 1098.2801\n",
       "10 1068.6779 1068.6777 1068.6776 1068.6777 1068.6802 1068.6815 1068.6811\n",
       "11 1041.6786 1041.6797 1041.6802 1041.6801 1041.6821 1041.6831 1041.6824\n",
       "12 1017.0699 1017.0718 1017.0726 1017.0723 1017.0741 1017.0747 1017.0737\n",
       "13  994.6932  994.6956  994.6966  994.6961  994.6977  994.6981  994.6969\n",
       "14  974.4405  974.4432  974.4442  974.4436  974.4450  974.4453  974.4438\n",
       "15  956.2296  956.2326  956.2337  956.2330  956.2343  956.2343  956.2328\n",
       "16  939.9871  939.9902  939.9914  939.9906  939.9918  939.9917  939.9901\n",
       "17  925.6381  925.6415  925.6427  925.6418  925.6429  925.6427  925.6410\n",
       "18  913.1045  913.1082  913.1095  913.1085  913.1095  913.1092  913.1074\n",
       "19  902.3059  902.3097  902.3111  902.3100  902.3110  902.3107  902.3088\n",
       "20  893.1608  893.1648  893.1663  893.1651  893.1660  893.1657  893.1637\n",
       "21  885.5886  885.5928  885.5944  885.5931  885.5940  885.5936  885.5916\n",
       "22  879.5102  879.5147  879.5163  879.5150  879.5158  879.5154  879.5134\n",
       "23  874.8489  874.8536  874.8552  874.8538  874.8547  874.8542  874.8521\n",
       "24  871.5300  871.5349  871.5366  871.5352  871.5360  871.5356  871.5334\n",
       "25  869.4816  869.4867  869.4885  869.4870  869.4878  869.4874  869.4852\n",
       "26  868.6342  868.6395  868.6414  868.6398  868.6407  868.6402  868.6380\n",
       "27  868.9208  868.9263  868.9283  868.9267  868.9276  868.9271  868.9249\n",
       "28  870.2772  870.2829  870.2850  870.2833  870.2842  870.2837  870.2814\n",
       "29  872.6414  872.6473  872.6495  872.6478  872.6487  872.6481  872.6459\n",
       "30  875.9541  875.9603  875.9626  875.9608  875.9617  875.9612  875.9589\n",
       "   V8        V9        V10       Y    \n",
       "1  2929.0903 2929.0897 2929.0894 TRUE \n",
       "2  1658.2525 1658.0376 1657.7735 TRUE \n",
       "3  1279.7489 1279.6423 1279.4628 TRUE \n",
       "4  1253.9264 1253.8883 1253.8126 TRUE \n",
       "5  1233.9667 1233.9699 1233.9660 TRUE \n",
       "6  1202.3927 1202.4127 1202.4369 TRUE \n",
       "7  1165.8569 1165.8761 1165.9002 TRUE \n",
       "8  1130.7253 1130.7381 1130.7533 TRUE \n",
       "9  1098.2860 1098.2932 1098.3005 TRUE \n",
       "10 1068.6864 1068.6902 1068.6928 TRUE \n",
       "11 1041.6874 1041.6893 1041.6893 TRUE \n",
       "12 1017.0784 1017.0791 1017.0776 TRUE \n",
       "13  994.7012  994.7011  994.6983 TRUE \n",
       "14  974.4479  974.4469  974.4430 TRUE \n",
       "15  956.2365  956.2348  956.2299 TRUE \n",
       "16  939.9936  939.9912  939.9854 TRUE \n",
       "17  925.6442  925.6412  925.6347 TRUE \n",
       "18  913.1104  913.1069  913.0996 FALSE\n",
       "19  902.3115  902.3075  902.2996 FALSE\n",
       "20  893.1663  893.1618  893.1532 FALSE\n",
       "21  885.5939  885.5890  885.5799 FALSE\n",
       "22  879.5155  879.5102  879.5005 FALSE\n",
       "23  874.8541  874.8485  874.8383 FALSE\n",
       "24  871.5352  871.5292  871.5185 FALSE\n",
       "25  869.4869  869.4805  869.4693 FALSE\n",
       "26  868.6395  868.6328  868.6211 FALSE\n",
       "27  868.9262  868.9192  868.9070 FALSE\n",
       "28  870.2827  870.2753  870.2627 FALSE\n",
       "29  872.6470  872.6393  872.6262 FALSE\n",
       "30  875.9599  875.9519  875.9384 FALSE"
      ]
     },
     "metadata": {},
     "output_type": "display_data"
    }
   ],
   "source": [
    "X = read.csv('../../output/X.txt',header=F)\n",
    "Y = apply(read.csv('../../output/Y.txt',header=F),1,sum)\n",
    "\n",
    "Y = factor(Y>9000)\n",
    "data2 <- data.frame(X, Y)\n",
    "data2"
   ]
  },
  {
   "cell_type": "code",
   "execution_count": 3,
   "metadata": {},
   "outputs": [
    {
     "name": "stderr",
     "output_type": "stream",
     "text": [
      "Warning message in lda.default(x, grouping, ...):\n",
      "“variables are collinear”"
     ]
    },
    {
     "data": {
      "text/plain": [
       "\n",
       "Call:\n",
       " abcrf(formula = Y ~ ., data = data2, ntree = 100) \n",
       "includes the axes of a preliminary LDA\n",
       "\n",
       "Number of simulations: 1\n",
       "Out-of-bag prior error rate: 3.3333%\n",
       "\n",
       "Confusion matrix:\n",
       "      FALSE TRUE class.error\n",
       "FALSE    13    0  0.00000000\n",
       "TRUE      1   16  0.05882353"
      ]
     },
     "metadata": {},
     "output_type": "display_data"
    }
   ],
   "source": [
    "model.rf1 <- abcrf(Y~., data = data2, ntree=100)\n",
    "model.rf1"
   ]
  },
  {
   "cell_type": "code",
   "execution_count": 36,
   "metadata": {},
   "outputs": [],
   "source": [
    "help(abcrf)"
   ]
  },
  {
   "cell_type": "code",
   "execution_count": 61,
   "metadata": {},
   "outputs": [],
   "source": [
    "s = seq(-.9,.9,.1)\n",
    "Data.healthy=data.frame(matrix(ncol = 80, nrow = 1))\n",
    "n=0\n",
    "for(i in sapply(s,function(x)paste(\"tmp/s=\", format(x, nsmall = 2),\",diam_narrow=0.000000.csv\",sep=\"\"))){\n",
    "    n=n+1\n",
    "    x=read.csv(i,header=FALSE)\n",
    "    stopifnot(dim(healthydata)[2]==length(c(data.matrix(x))))\n",
    "    Data.healthy[n,]=c(data.matrix(x))\n",
    "}\n",
    "                \n",
    "Data.sick=data.frame(matrix(ncol = 80, nrow = 1))\n",
    "n=0\n",
    "for(i in sapply(s,function(x)paste(\"tmp/s=\", format(x, nsmall = 2),\",diam_narrow=0.000000.csv\",sep=\"\"))){\n",
    "    n=n+1\n",
    "    x=read.csv(i,header=FALSE)\n",
    "    stopifnot(dim(healthydata)[2]==length(c(data.matrix(x))))\n",
    "    Data.sick[n,]=c(data.matrix(x))\n",
    "}"
   ]
  },
  {
   "cell_type": "code",
   "execution_count": 94,
   "metadata": {},
   "outputs": [],
   "source": [
    "Data.sick$healthy=0\n",
    "Data.healthy$healthy=1\n",
    "\n",
    "data3=rbind(Data.healthy,Data.sick)\n",
    "data3$healthy=factor(data3$healthy)"
   ]
  },
  {
   "cell_type": "code",
   "execution_count": 95,
   "metadata": {},
   "outputs": [
    {
     "data": {
      "text/plain": [
       "\n",
       "Call:\n",
       " abcrf(formula = healthy ~ ., data = data3, lda = FALSE, ntree = 100) \n",
       "Number of simulations: 1\n",
       "Out-of-bag prior error rate: 100%\n",
       "\n",
       "Confusion matrix:\n",
       "   0  1 class.error\n",
       "0  0 19           1\n",
       "1 19  0           1"
      ]
     },
     "metadata": {},
     "output_type": "display_data"
    }
   ],
   "source": [
    "model.rf3 <- abcrf(healthy~., data = data3, ntree=100,lda=FALSE)\n",
    "model.rf3"
   ]
  },
  {
   "cell_type": "code",
   "execution_count": null,
   "metadata": {},
   "outputs": [],
   "source": []
  },
  {
   "cell_type": "code",
   "execution_count": 77,
   "metadata": {},
   "outputs": [
    {
     "data": {
      "text/plain": [
       "$call\n",
       "abcrf(formula = healthy ~ ., data = data3, lda = FALSE, ntree = 100)\n",
       "\n",
       "$lda\n",
       "[1] FALSE\n",
       "\n",
       "$formula\n",
       "healthy ~ .\n",
       "\n",
       "$group\n",
       "list()\n",
       "\n",
       "$model.rf\n",
       "Ranger result\n",
       "\n",
       "Call:\n",
       " ranger(formula, data, num.trees = ntree, sample.fraction = sampsize/nrow(data),      num.threads = ncores, keep.inbag = TRUE, importance = \"impurity\",      ...) \n",
       "\n",
       "Type:                             Classification \n",
       "Number of trees:                  100 \n",
       "Sample size:                      38 \n",
       "Number of independent variables:  80 \n",
       "Mtry:                             8 \n",
       "Target node size:                 1 \n",
       "Variable importance mode:         impurity \n",
       "Splitrule:                        gini \n",
       "OOB prediction error:             100.00 % \n",
       "\n",
       "$model.lda\n",
       "NULL\n",
       "\n",
       "$prior.err\n",
       "[1] 1\n"
      ]
     },
     "metadata": {},
     "output_type": "display_data"
    }
   ],
   "source": [
    "unclass(model.rf3)"
   ]
  },
  {
   "cell_type": "code",
   "execution_count": 84,
   "metadata": {},
   "outputs": [],
   "source": [
    "data4=data3[sample(nrow(data3)),]\n",
    "training=data4[1:26,]\n",
    "test=data4[27:38,]"
   ]
  },
  {
   "cell_type": "code",
   "execution_count": 98,
   "metadata": {},
   "outputs": [
    {
     "data": {
      "text/plain": [
       "   selected model votes model1 votes model2 post.proba\n",
       "1            TRUE           43          457     0.7610\n",
       "2            TRUE          144          356     0.2870\n",
       "3           FALSE          402           98     0.0565\n",
       "4            TRUE          114          386     0.0615\n",
       "5           FALSE          468           32     0.9285\n",
       "6           FALSE          417           83     0.7145\n",
       "7           FALSE          425           75     0.6345\n",
       "8           FALSE          484           16     0.9385\n",
       "9            TRUE          214          286     0.3770\n",
       "10           TRUE           31          469     0.8310\n",
       "11           TRUE          214          286     0.3770\n",
       "12          FALSE          453           47     0.8185"
      ]
     },
     "metadata": {},
     "output_type": "display_data"
    }
   ],
   "source": [
    "model.rf4 <- abcrf(healthy~., data = training,lda=FALSE)\n",
    "predict(model.rf4, test, training, ntree=100)"
   ]
  },
  {
   "cell_type": "code",
   "execution_count": 106,
   "metadata": {},
   "outputs": [
    {
     "data": {
      "text/plain": [
       "       \n",
       "        FALSE TRUE\n",
       "  FALSE     0    5\n",
       "  TRUE      6    1"
      ]
     },
     "metadata": {},
     "output_type": "display_data"
    }
   ],
   "source": [
    "require(ranger)\n",
    "model = ranger(healthy ~ ., data = training)\n",
    "pred <- predict(model, data = test)\n",
    "table(test$healthy, pred$predictions)"
   ]
  },
  {
   "cell_type": "code",
   "execution_count": null,
   "metadata": {},
   "outputs": [],
   "source": [
    "data(snp)"
   ]
  }
 ],
 "metadata": {
  "kernelspec": {
   "display_name": "R",
   "language": "R",
   "name": "ir"
  },
  "language_info": {
   "codemirror_mode": "r",
   "file_extension": ".r",
   "mimetype": "text/x-r-source",
   "name": "R",
   "pygments_lexer": "r",
   "version": "3.5.2"
  }
 },
 "nbformat": 4,
 "nbformat_minor": 2
}
