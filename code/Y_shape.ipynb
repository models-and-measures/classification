{
 "cells": [
  {
   "cell_type": "markdown",
   "metadata": {},
   "source": [
    "## Preparation"
   ]
  },
  {
   "cell_type": "code",
   "execution_count": 1,
   "metadata": {},
   "outputs": [],
   "source": [
    "%matplotlib inline\n",
    "from fenics import *\n",
    "from mshr import *\n",
    "import numpy as np\n",
    "import matplotlib.pyplot as plt\n",
    "# import mshr\n",
    "import sys\n",
    "# import os\n",
    "# os.environ[\"CC\"]=\"/usr/bin/gcc\"\n",
    "# os.environ[\"CXX\"]=\"/usr/bin/g++\"\n",
    "# os.environ[\"CLANG\"]=\"/usr/bin/clang\"\n",
    "# os.environ[\"CLANGXX\"]=\"/usr/bin/clang++\";\n",
    "# # os.environ[\"PYTHON\"] = \"/anaconda3/bin/python\""
   ]
  },
  {
   "cell_type": "markdown",
   "metadata": {},
   "source": [
    "$$\n",
    "u' + u \\cdot \\nabla(u) - div(\\sigma(u, p)) = f\\\\\n",
    "                                 div(u) = 0\n",
    "$$"
   ]
  },
  {
   "cell_type": "markdown",
   "metadata": {},
   "source": [
    "## Mesh"
   ]
  },
  {
   "cell_type": "code",
   "execution_count": 17,
   "metadata": {},
   "outputs": [
    {
     "data": {
      "text/plain": [
       "[<matplotlib.lines.Line2D at 0x1124afe48>,\n",
       " <matplotlib.lines.Line2D at 0x1124aff98>]"
      ]
     },
     "execution_count": 17,
     "metadata": {},
     "output_type": "execute_result"
    },
    {
     "data": {
      "image/png": "[encoded data removed]",
      "text/plain": [
       "<Figure size 432x288 with 1 Axes>"
      ]
     },
     "metadata": {
      "needs_background": "light"
     },
     "output_type": "display_data"
    }
   ],
   "source": [
    "# # Create mesh\n",
    "# Gx = 2.2\n",
    "# Gy1 = 0.21\n",
    "# Gy2 = 0.2\n",
    "# Gd = 0.15\n",
    "# Gh1 = sqrt(Gy1**2+Gd**2)\n",
    "# Gh2 = sqrt(Gy2**2+Gd**2)\n",
    "# Gs1 = 1.0\n",
    "# Gs2 = 1.0\n",
    "# Gt1 = np.arctan(Gd/Gy1)\n",
    "# Gt2 = np.arctan(Gd/Gy2)\n",
    "# Gcx = 0.45*Gh2\n",
    "# Gcy = 0.45*Gh2\n",
    "# Gr = 0.03\n",
    "# channel0 = Rectangle(Point(-Gx, -Gy2), Point(0.0, Gy1))\n",
    "# channel1 = Rectangle(Point(0.0, Gy1-Gh1), Point(Gs1, Gy1))\n",
    "# channel1 = MeshTransformation.rotate(generate_mesh(channel1,64),Gt1,2,Point(0.0, Gy1, 0.0))\n",
    "# channel2 = Rectangle(Point(-Gx, -Gy2), Point(0.0, Gy1))\n",
    "# channel2 = MeshTransformation.rotate(generate_mesh(channel2,64),-Gt2,2,Point(0.0, -Gy2, 0.0))\n",
    "# triangle = Rectangle(Point(-Gx, -Gy2), Point(0.0, Gy1))\n",
    "# cylinder = Circle(Point(Gc1, Gc2), Gr)\n",
    "# domain = channel1 - cylinder\n",
    "# mesh = generate_mesh(domain, 64)\n",
    "# plot(mesh)\n",
    "# from mshr import *\n",
    "from dolfin import *\n",
    "from mshr import *\n",
    "a=.5\n",
    "b=.2\n",
    "domain_vertices = [Point(-2.0, -0.2),\n",
    "                   Point(0.0, -0.2),\n",
    "                   Point(1.9,-2.1),\n",
    "                   Point(2.1,-1.9),\n",
    "                   Point(0.2,0),\n",
    "                   Point(2.1,1.9),\n",
    "                   Point(1.9,2.1),\n",
    "                   Point(0.0,0.2),\n",
    "                   Point(-2.0,0.2)]\n",
    "polygon = Polygon(domain_vertices)\n",
    "k=1.0\n",
    "EPS = 0.001 # to destroy symmetry and create turbulance\n",
    "cylinder = Circle(Point(k+EPS,-k+EPS), 0.08)\n",
    "domain = polygon - cylinder\n",
    "#     mesh = generate_mesh(domain, 10)\n",
    "# plot(mesh, interactive=True)\n",
    "mesh = generate_mesh(domain, 64)\n",
    "plot(mesh)"
   ]
  },
  {
   "cell_type": "markdown",
   "metadata": {},
   "source": [
    "## Define Problem"
   ]
  },
  {
   "cell_type": "code",
   "execution_count": 18,
   "metadata": {},
   "outputs": [
    {
     "data": {
      "text/plain": [
       "[None]"
      ]
     },
     "execution_count": 18,
     "metadata": {},
     "output_type": "execute_result"
    }
   ],
   "source": [
    "T = .1              # final time\n",
    "num_steps = 100   # number of time steps # must satisfy CFL condition\n",
    "dt = T / num_steps # time step size\n",
    "mu = 0.001         # dynamic viscosity\n",
    "rho = 1            # density\n",
    "\n",
    "# Define function spaces\n",
    "V = VectorFunctionSpace(mesh, 'P', 2)\n",
    "Q = FunctionSpace(mesh, 'P', 1)\n",
    "\n",
    "# Define boundaries\n",
    "inflow   = 'near(x[0], -2.0)'\n",
    "outflow  = 'near(x[0]-x[1], 4) || near(x[0]+x[1], 4)'\n",
    "walls    = '((near(x[1], -0.2) || near(x[1], 0.2)) && x[0]<=0)' \\\n",
    "            +' || ((near(x[1] - x[0], 0.2) || near(x[1] + x[0], -0.2)) && x[0]>0 )' \\\n",
    "            +' || ((near(x[1] - x[0], -0.2) || near(x[1] + x[0], 0.2)) && x[0]>0.2 ) '\n",
    "cylinder = 'on_boundary && x[0]>0.91 && x[0]<1.09 && x[1]>-1.09 && x[1]<-0.91'\n",
    "\n",
    "# Define inflow profile\n",
    "inflow_profile = ('4.0*1.5*(x[1] + 0.2)*(0.2 - x[1]) / pow(0.4, 2)', '0')\n",
    "\n",
    "# Define boundary conditions\n",
    "bcu_inflow = DirichletBC(V, Expression(inflow_profile, degree=2), inflow)\n",
    "bcu_walls = DirichletBC(V, Constant((0, 0)), walls)\n",
    "bcu_cylinder = DirichletBC(V, Constant((0, 0)), cylinder)\n",
    "bcp_outflow = DirichletBC(Q, Constant(0), outflow)\n",
    "bcu = [bcu_inflow, bcu_walls, bcu_cylinder]\n",
    "bcp = [bcp_outflow]\n",
    "\n",
    "# Define trial and test functions\n",
    "u = TrialFunction(V)\n",
    "v = TestFunction(V)\n",
    "p = TrialFunction(Q)\n",
    "q = TestFunction(Q)\n",
    "\n",
    "# Define functions for solutions at previous and current time steps\n",
    "u_n = Function(V)\n",
    "u_  = Function(V)\n",
    "p_n = Function(Q)\n",
    "p_  = Function(Q)\n",
    "\n",
    "# Define expressions used in variational forms\n",
    "U  = 0.5*(u_n + u)\n",
    "n  = FacetNormal(mesh)\n",
    "f  = Constant((0, 0))\n",
    "k  = Constant(dt)\n",
    "mu = Constant(mu)\n",
    "rho = Constant(rho)\n",
    "\n",
    "# Define symmetric gradient\n",
    "def epsilon(u):\n",
    "    return sym(nabla_grad(u))\n",
    "\n",
    "# Define stress tensor\n",
    "def sigma(u, p):\n",
    "    return 2*mu*epsilon(u) - p*Identity(len(u))\n",
    "\n",
    "# Define variational problem for step 1\n",
    "F1 = rho*dot((u - u_n) / k, v)*dx \\\n",
    "   + rho*dot(dot(u_n, nabla_grad(u_n)), v)*dx \\\n",
    "   + inner(sigma(U, p_n), epsilon(v))*dx \\\n",
    "   + dot(p_n*n, v)*ds - dot(mu*nabla_grad(U)*n, v)*ds \\\n",
    "   - dot(f, v)*dx\n",
    "a1 = lhs(F1)\n",
    "L1 = rhs(F1)\n",
    "\n",
    "# Define variational problem for step 2\n",
    "a2 = dot(nabla_grad(p), nabla_grad(q))*dx\n",
    "L2 = dot(nabla_grad(p_n), nabla_grad(q))*dx - (1/k)*div(u_)*q*dx\n",
    "\n",
    "# Define variational problem for step 3\n",
    "a3 = dot(u, v)*dx\n",
    "L3 = dot(u_, v)*dx - k*dot(nabla_grad(p_ - p_n), v)*dx\n",
    "\n",
    "# Assemble matrices\n",
    "A1 = assemble(a1)\n",
    "A2 = assemble(a2)\n",
    "A3 = assemble(a3)\n",
    "\n",
    "# Apply boundary conditions to matrices\n",
    "[bc.apply(A1) for bc in bcu]\n",
    "[bc.apply(A2) for bc in bcp]"
   ]
  },
  {
   "cell_type": "markdown",
   "metadata": {},
   "source": [
    "## Save Data Structure for future usage (optional)"
   ]
  },
  {
   "cell_type": "code",
   "execution_count": 19,
   "metadata": {},
   "outputs": [],
   "source": [
    "# # Create XDMF files for visualization output\n",
    "# xdmffile_u = XDMFFile('navier_stokes_cylinder/velocity.xdmf')\n",
    "# xdmffile_p = XDMFFile('navier_stokes_cylinder/pressure.xdmf')\n",
    "\n",
    "# # Create time series (for use in reaction_system.py)\n",
    "# timeseries_u = TimeSeries('navier_stokes_cylinder/velocity_series')\n",
    "# timeseries_p = TimeSeries('navier_stokes_cylinder/pressure_series')\n",
    "\n",
    "# # Save mesh to file (for use in reaction_system.py)\n",
    "# File('navier_stokes_cylinder/cylinder.xml.gz') << mesh\n",
    "\n",
    "# # Create progress bar\n",
    "# # progress = Progress('Time-stepping')\n",
    "# # set_log_level(PROGRESS)"
   ]
  },
  {
   "cell_type": "markdown",
   "metadata": {},
   "source": [
    "## Apply Solver"
   ]
  },
  {
   "cell_type": "code",
   "execution_count": 20,
   "metadata": {},
   "outputs": [
    {
     "name": "stdout",
     "output_type": "stream",
     "text": [
      ">>>>>>>>>>>>>>>>>>>>>>>>>>>>>>>>>>>>>>>>>>>>>>>>>>>>>>>>>>>>>>>>>>>>>>>>>>>>>>>>>>>>>>>>>>>>>>>>>>>>"
     ]
    }
   ],
   "source": [
    "# Time-stepping\n",
    "t = 0\n",
    "for n in range(num_steps):\n",
    "\n",
    "    # Update current time\n",
    "    t += dt\n",
    "\n",
    "    # Step 1: Tentative velocity step\n",
    "    b1 = assemble(L1)\n",
    "    [bc.apply(b1) for bc in bcu]\n",
    "    solve(A1, u_.vector(), b1, 'bicgstab', 'hypre_amg')\n",
    "\n",
    "    # Step 2: Pressure correction step\n",
    "    b2 = assemble(L2)\n",
    "    [bc.apply(b2) for bc in bcp]\n",
    "    solve(A2, p_.vector(), b2, 'bicgstab', 'hypre_amg')\n",
    "\n",
    "    # Step 3: Velocity correction step\n",
    "    b3 = assemble(L3)\n",
    "    solve(A3, u_.vector(), b3, 'cg', 'sor')\n",
    "\n",
    "    # Plot solution\n",
    "#     plot(u_, title='Velocity')\n",
    "#     plot(p_, title='Pressure')\n",
    "\n",
    "#     # Save solution to file (XDMF/HDF5)\n",
    "#     xdmffile_u.write(u_, t)\n",
    "#     xdmffile_p.write(p_, t)\n",
    "\n",
    "#     # Save nodal values to file\n",
    "#     timeseries_u.store(u_.vector(), t)\n",
    "#     timeseries_p.store(p_.vector(), t)\n",
    "\n",
    "    # Update previous solution\n",
    "    u_n.assign(u_)\n",
    "    p_n.assign(p_)\n",
    "\n",
    "    # Update progress bar\n",
    "#     progress.update(t / T)\n",
    "#     print('u max:', u_.vector().array().max())\n",
    "    sys.stdout.write('>')"
   ]
  },
  {
   "cell_type": "code",
   "execution_count": 85,
   "metadata": {},
   "outputs": [
    {
     "data": {
      "text/plain": [
       "<matplotlib.quiver.Quiver at 0x1231e2e80>"
      ]
     },
     "execution_count": 85,
     "metadata": {},
     "output_type": "execute_result"
    },
    {
     "data": {
      "image/png": "[encoded data removed]",
      "text/plain": [
       "<Figure size 432x288 with 1 Axes>"
      ]
     },
     "metadata": {
      "needs_background": "light"
     },
     "output_type": "display_data"
    }
   ],
   "source": [
    "plot(u_, title='Velocity')"
   ]
  },
  {
   "cell_type": "code",
   "execution_count": 69,
   "metadata": {},
   "outputs": [
    {
     "data": {
      "image/png": "[encoded data removed]",
      "text/plain": [
       "<Figure size 432x288 with 2 Axes>"
      ]
     },
     "metadata": {
      "needs_background": "light"
     },
     "output_type": "display_data"
    }
   ],
   "source": [
    "import matplotlib.gridspec as gridspec\n",
    "# fig, ax = plt.subplots()\n",
    "gs = gridspec.GridSpec(1,2, height_ratios=[1], width_ratios=[1,0.05])\n",
    "gs.update(left=0.05, right=0.95, bottom=0.08, top=0.93, wspace=0.02, hspace=0.03)\n",
    "\n",
    "ax1 = plt.subplot(gs[0,0])\n",
    "plt1 = plot(p_, title='Pressure')\n",
    "cbax = plt.subplot(gs[0,1])\n",
    "cb = plt.colorbar(cax = cbax, mappable = plt1, orientation = 'vertical', ticklocation = 'right')\n",
    "plt.show()"
   ]
  },
  {
   "cell_type": "markdown",
   "metadata": {},
   "source": [
    "## An attempt to extract FENiCS data structure"
   ]
  },
  {
   "cell_type": "code",
   "execution_count": 87,
   "metadata": {},
   "outputs": [
    {
     "name": "stdout",
     "output_type": "stream",
     "text": [
      "coor (1531, 2) value (1531,) vertex (1531,) vertex2 (1531,)\n"
     ]
    },
    {
     "data": {
      "text/plain": [
       "<matplotlib.tri.tricontour.TriContourSet at 0x1201a41d0>"
      ]
     },
     "execution_count": 87,
     "metadata": {},
     "output_type": "execute_result"
    },
    {
     "data": {
      "image/png": "[encoded data removed]",
      "text/plain": [
       "<Figure size 432x288 with 1 Axes>"
      ]
     },
     "metadata": {
      "needs_background": "light"
     },
     "output_type": "display_data"
    }
   ],
   "source": [
    "arr = p_.vector().vec()\n",
    "coor = mesh.coordinates()\n",
    "# vtd = V.dofmap().dof_to_vertex_map(mesh)\n",
    "vtd = dof_to_vertex_map(Q)\n",
    "vtd2 = np.array(Q.dofmap().dofs())\n",
    "\n",
    "#reshape\n",
    "v2d = v2d.reshape((-1, mesh.geometry().dim()))\n",
    "\n",
    "#extract\n",
    "values = list()\n",
    "for i, dum in enumerate(coor):\n",
    "    values.append(arr[vtd[i]])\n",
    "values = np.array(values)\n",
    "print('coor',coor.shape,'value',values.shape,'vertex',vtd.shape,'vertex2',vtd2.shape)\n",
    "\n",
    "#set\n",
    "# vertex_vector_values = np.zeros(mesh.num_vertices()*2)\n",
    "# vertex_vector_values[::2] = values[0,:]\n",
    "# vertex_vector_values[1::2] = values[1,:]\n",
    "vertex_vector_values = np.zeros(mesh.num_vertices())\n",
    "vertex_vector_values = values\n",
    "# vertex_to_dof_map = V.dofmap().vertex_to_dof_map(mesh)#deprecated\n",
    "dof_to_vertex_map_values = dof_to_vertex_map(Q)\n",
    "\n",
    "p_test = Function(Q)\n",
    "p_test.vector().set_local(vertex_vector_values[dof_to_vertex_map_values])\n",
    "plot(p_test)"
   ]
  },
  {
   "cell_type": "markdown",
   "metadata": {},
   "source": [
    "### computation above is not working, trying a simpler mesh:"
   ]
  },
  {
   "cell_type": "code",
   "execution_count": 120,
   "metadata": {},
   "outputs": [
    {
     "name": "stdout",
     "output_type": "stream",
     "text": [
      "v2d (36, 2) d2v (36,)\n"
     ]
    },
    {
     "data": {
      "text/plain": [
       "<matplotlib.quiver.Quiver at 0x1235b6518>"
      ]
     },
     "execution_count": 120,
     "metadata": {},
     "output_type": "execute_result"
    },
    {
     "data": {
      "image/png": "[encoded data removed]",
      "text/plain": [
       "<Figure size 432x288 with 1 Axes>"
      ]
     },
     "metadata": {
      "needs_background": "light"
     },
     "output_type": "display_data"
    }
   ],
   "source": [
    "from dolfin import *\n",
    "\n",
    "mesh = UnitSquareMesh(5,5)\n",
    "Q = VectorFunctionSpace(mesh, \"CG\", 1, dim=2)\n",
    "\n",
    "v2d=vertex_to_dof_map(Q)\n",
    "d2v=dof_to_vertex_map(Q)\n",
    "\n",
    "v2d = v2d.reshape((-1, mesh.geometry().dim()))\n",
    "d2v = d2v[range(0, len(d2v), 2)]/2\n",
    "\n",
    "# Test\n",
    "# v = f(1, mesh)\n",
    "q = Function(Q)\n",
    "\n",
    "# v.array()[10] = 1.0\n",
    "# v.array()[25] = 1.0\n",
    "for i in range(36):\n",
    "    q.vector()[v2d[i,0]] = i\n",
    "\n",
    "print('v2d',v2d.shape,'d2v',d2v.shape)\n",
    "# plot(v)\n",
    "plot(q)          # press m to visualize the mesh\n",
    "\n",
    "#here is data structure for function space P2\n",
    "V.dofmap().tabulate_entity_dofs(1,1)"
   ]
  },
  {
   "cell_type": "markdown",
   "metadata": {},
   "source": [
    "## Line Integral"
   ]
  },
  {
   "cell_type": "code",
   "execution_count": 137,
   "metadata": {},
   "outputs": [
    {
     "name": "stdout",
     "output_type": "stream",
     "text": [
      "Calling FFC just-in-time (JIT) compiler, this may take some time.\n"
     ]
    },
    {
     "name": "stderr",
     "output_type": "stream",
     "text": [
      "Moving new file over differing existing file:\n",
      "src: /Users/evergreen/Documents/GitHub/classification/code/jitfailure-ffc_element_1976692f3b42bd5ed8bd6c502117e048e08954bb/error.log.1e507e596d424d3a99b15f8560f7d9ec\n",
      "dst: /Users/evergreen/Documents/GitHub/classification/code/jitfailure-ffc_element_1976692f3b42bd5ed8bd6c502117e048e08954bb/error.log\n",
      "backup: /Users/evergreen/Documents/GitHub/classification/code/jitfailure-ffc_element_1976692f3b42bd5ed8bd6c502117e048e08954bb/error.log.old\n",
      "------------------- Start compiler output ------------------------\n",
      "ld: warning: ignoring file /Library/Developer/CommandLineTools/SDKs/MacOSX10.14.sdk/usr/lib/libSystem.tbd, file was built for unsupported file format ( 0x2D 0x2D 0x2D 0x20 0x21 0x74 0x61 0x70 0x69 0x2D 0x74 0x62 0x64 0x2D 0x76 0x33 ) which is not the architecture being linked (x86_64): /Library/Developer/CommandLineTools/SDKs/MacOSX10.14.sdk/usr/lib/libSystem.tbd\n",
      "Undefined symbols for architecture x86_64:\n",
      "  \"___bzero\", referenced from:\n",
      "      ffc_element_1976692f3b42bd5ed8bd6c502117e048e08954bb_finite_element_main::evaluate_reference_basis(double*, unsigned long, double const*) const in ffc_element_1976692f3b42bd5ed8bd6c502117e048e08954bb-964904.o\n",
      "      ffc_element_1976692f3b42bd5ed8bd6c502117e048e08954bb_finite_element_main::evaluate_reference_basis_derivatives(double*, unsigned long, unsigned long, double const*) const in ffc_element_1976692f3b42bd5ed8bd6c502117e048e08954bb-964904.o\n",
      "      ffc_element_1976692f3b42bd5ed8bd6c502117e048e08954bb_finite_element_main::transform_reference_basis_derivatives(double*, unsigned long, unsigned long, double const*, double const*, double const*, double const*, double const*, int) const in ffc_element_1976692f3b42bd5ed8bd6c502117e048e08954bb-964904.o\n",
      "      ffc_element_1976692f3b42bd5ed8bd6c502117e048e08954bb_finite_element_main::evaluate_basis_derivatives(unsigned long, unsigned long, double*, double const*, double const*, int, ufc::coordinate_mapping const*) const in ffc_element_1976692f3b42bd5ed8bd6c502117e048e08954bb-964904.o\n",
      "      ffc_element_1976692f3b42bd5ed8bd6c502117e048e08954bb_finite_element_main::evaluate_basis_derivatives_all(unsigned long, double*, double const*, double const*, int, ufc::coordinate_mapping const*) const in ffc_element_1976692f3b42bd5ed8bd6c502117e048e08954bb-964904.o\n",
      "  \"___stack_chk_fail\", referenced from:\n",
      "      ffc_element_1976692f3b42bd5ed8bd6c502117e048e08954bb_finite_element_main::evaluate_reference_basis_derivatives(double*, unsigned long, unsigned long, double const*) const in ffc_element_1976692f3b42bd5ed8bd6c502117e048e08954bb-964904.o\n",
      "      ffc_element_1976692f3b42bd5ed8bd6c502117e048e08954bb_finite_element_main::transform_reference_basis_derivatives(double*, unsigned long, unsigned long, double const*, double const*, double const*, double const*, double const*, int) const in ffc_element_1976692f3b42bd5ed8bd6c502117e048e08954bb-964904.o\n",
      "      ffc_element_1976692f3b42bd5ed8bd6c502117e048e08954bb_finite_element_main::evaluate_basis(unsigned long, double*, double const*, double const*, int, ufc::coordinate_mapping const*) const in ffc_element_1976692f3b42bd5ed8bd6c502117e048e08954bb-964904.o\n",
      "      ffc_element_1976692f3b42bd5ed8bd6c502117e048e08954bb_finite_element_main::evaluate_basis_derivatives(unsigned long, unsigned long, double*, double const*, double const*, int, ufc::coordinate_mapping const*) const in ffc_element_1976692f3b42bd5ed8bd6c502117e048e08954bb-964904.o\n",
      "      ffc_element_1976692f3b42bd5ed8bd6c502117e048e08954bb_finite_element_main::evaluate_basis_derivatives_all(unsigned long, double*, double const*, double const*, int, ufc::coordinate_mapping const*) const in ffc_element_1976692f3b42bd5ed8bd6c502117e048e08954bb-964904.o\n",
      "      ffc_element_1976692f3b42bd5ed8bd6c502117e048e08954bb_finite_element_main::evaluate_dof(unsigned long, ufc::function const&, double const*, int, ufc::cell const&, ufc::coordinate_mapping const*) const in ffc_element_1976692f3b42bd5ed8bd6c502117e048e08954bb-964904.o\n",
      "      ffc_element_1976692f3b42bd5ed8bd6c502117e048e08954bb_finite_element_main::evaluate_dofs(double*, ufc::function const&, double const*, int, ufc::cell const&, ufc::coordinate_mapping const*) const in ffc_element_1976692f3b42bd5ed8bd6c502117e048e08954bb-964904.o\n",
      "      ...\n",
      "  \"___stack_chk_guard\", referenced from:\n",
      "      ffc_element_1976692f3b42bd5ed8bd6c502117e048e08954bb_finite_element_main::evaluate_reference_basis_derivatives(double*, unsigned long, unsigned long, double const*) const in ffc_element_1976692f3b42bd5ed8bd6c502117e048e08954bb-964904.o\n",
      "      ffc_element_1976692f3b42bd5ed8bd6c502117e048e08954bb_finite_element_main::transform_reference_basis_derivatives(double*, unsigned long, unsigned long, double const*, double const*, double const*, double const*, double const*, int) const in ffc_element_1976692f3b42bd5ed8bd6c502117e048e08954bb-964904.o\n",
      "      ffc_element_1976692f3b42bd5ed8bd6c502117e048e08954bb_finite_element_main::evaluate_basis(unsigned long, double*, double const*, double const*, int, ufc::coordinate_mapping const*) const in ffc_element_1976692f3b42bd5ed8bd6c502117e048e08954bb-964904.o\n",
      "      ffc_element_1976692f3b42bd5ed8bd6c502117e048e08954bb_finite_element_main::evaluate_basis_derivatives(unsigned long, unsigned long, double*, double const*, double const*, int, ufc::coordinate_mapping const*) const in ffc_element_1976692f3b42bd5ed8bd6c502117e048e08954bb-964904.o\n",
      "      ffc_element_1976692f3b42bd5ed8bd6c502117e048e08954bb_finite_element_main::evaluate_basis_derivatives_all(unsigned long, double*, double const*, double const*, int, ufc::coordinate_mapping const*) const in ffc_element_1976692f3b42bd5ed8bd6c502117e048e08954bb-964904.o\n",
      "      ffc_element_1976692f3b42bd5ed8bd6c502117e048e08954bb_finite_element_main::evaluate_dof(unsigned long, ufc::function const&, double const*, int, ufc::cell const&, ufc::coordinate_mapping const*) const in ffc_element_1976692f3b42bd5ed8bd6c502117e048e08954bb-964904.o\n",
      "      ffc_element_1976692f3b42bd5ed8bd6c502117e048e08954bb_finite_element_main::evaluate_dofs(double*, ufc::function const&, double const*, int, ufc::cell const&, ufc::coordinate_mapping const*) const in ffc_element_1976692f3b42bd5ed8bd6c502117e048e08954bb-964904.o\n",
      "      ...\n",
      "  \"_memcpy\", referenced from:\n",
      "      ffc_element_1976692f3b42bd5ed8bd6c502117e048e08954bb_finite_element_main::evaluate_basis_derivatives_all(unsigned long, double*, double const*, double const*, int, ufc::coordinate_mapping const*) const in ffc_element_1976692f3b42bd5ed8bd6c502117e048e08954bb-964904.o\n",
      "  \"_memset_pattern16\", referenced from:\n",
      "      ffc_element_1976692f3b42bd5ed8bd6c502117e048e08954bb_finite_element_main::transform_reference_basis_derivatives(double*, unsigned long, unsigned long, double const*, double const*, double const*, double const*, double const*, int) const in ffc_element_1976692f3b42bd5ed8bd6c502117e048e08954bb-964904.o\n",
      "  \"_pow\", referenced from:\n",
      "      ffc_element_1976692f3b42bd5ed8bd6c502117e048e08954bb_finite_element_main::evaluate_reference_basis_derivatives(double*, unsigned long, unsigned long, double const*) const in ffc_element_1976692f3b42bd5ed8bd6c502117e048e08954bb-964904.o\n",
      "      ffc_element_1976692f3b42bd5ed8bd6c502117e048e08954bb_finite_element_main::transform_reference_basis_derivatives(double*, unsigned long, unsigned long, double const*, double const*, double const*, double const*, double const*, int) const in ffc_element_1976692f3b42bd5ed8bd6c502117e048e08954bb-964904.o\n",
      "      ffc_element_1976692f3b42bd5ed8bd6c502117e048e08954bb_finite_element_main::evaluate_basis_derivatives(unsigned long, unsigned long, double*, double const*, double const*, int, ufc::coordinate_mapping const*) const in ffc_element_1976692f3b42bd5ed8bd6c502117e048e08954bb-964904.o\n",
      "      ffc_element_1976692f3b42bd5ed8bd6c502117e048e08954bb_finite_element_main::evaluate_basis_derivatives_all(unsigned long, double*, double const*, double const*, int, ufc::coordinate_mapping const*) const in ffc_element_1976692f3b42bd5ed8bd6c502117e048e08954bb-964904.o\n",
      "ld: symbol(s) not found for architecture x86_64\n",
      "clang-4.0: error: linker command failed with exit code 1 (use -v to see invocation)\n",
      "\n",
      "-------------------  End compiler output  ------------------------\n"
     ]
    },
    {
     "name": "stderr",
     "output_type": "stream",
     "text": [
      "Compilation failed! Sources, command, and errors have been written to: /Users/evergreen/Documents/GitHub/classification/code/jitfailure-ffc_element_1976692f3b42bd5ed8bd6c502117e048e08954bb\n"
     ]
    },
    {
     "ename": "DijitsoError",
     "evalue": "Dijitso JIT compilation failed, see '/Users/evergreen/Documents/GitHub/classification/code/jitfailure-ffc_element_1976692f3b42bd5ed8bd6c502117e048e08954bb' for details",
     "output_type": "error",
     "traceback": [
      "\u001b[0;31m---------------------------------------------------------------------------\u001b[0m",
      "\u001b[0;31mDijitsoError\u001b[0m                              Traceback (most recent call last)",
      "\u001b[0;32m<ipython-input-137-bf508c65eed6>\u001b[0m in \u001b[0;36m<module>\u001b[0;34m\u001b[0m\n\u001b[1;32m     30\u001b[0m \u001b[0;34m\u001b[0m\u001b[0m\n\u001b[1;32m     31\u001b[0m \u001b[0mmesh\u001b[0m \u001b[0;34m=\u001b[0m \u001b[0mUnitCubeMesh\u001b[0m\u001b[0;34m(\u001b[0m\u001b[0;36m2\u001b[0m\u001b[0;34m,\u001b[0m \u001b[0;36m4\u001b[0m\u001b[0;34m,\u001b[0m \u001b[0;36m5\u001b[0m\u001b[0;34m)\u001b[0m\u001b[0;34m\u001b[0m\u001b[0;34m\u001b[0m\u001b[0m\n\u001b[0;32m---> 32\u001b[0;31m \u001b[0mV\u001b[0m \u001b[0;34m=\u001b[0m \u001b[0mFunctionSpace\u001b[0m\u001b[0;34m(\u001b[0m\u001b[0mmesh\u001b[0m\u001b[0;34m,\u001b[0m \u001b[0;34m'CG'\u001b[0m\u001b[0;34m,\u001b[0m \u001b[0;36m1\u001b[0m\u001b[0;34m)\u001b[0m\u001b[0;34m\u001b[0m\u001b[0;34m\u001b[0m\u001b[0m\n\u001b[0m\u001b[1;32m     33\u001b[0m \u001b[0mf\u001b[0m \u001b[0;34m=\u001b[0m \u001b[0mExpression\u001b[0m\u001b[0;34m(\u001b[0m\u001b[0;34m'x[0]+x[1]+x[2]'\u001b[0m\u001b[0;34m,\u001b[0m \u001b[0mdegree\u001b[0m\u001b[0;34m=\u001b[0m\u001b[0;36m1\u001b[0m\u001b[0;34m)\u001b[0m\u001b[0;34m\u001b[0m\u001b[0;34m\u001b[0m\u001b[0m\n\u001b[1;32m     34\u001b[0m \u001b[0mv\u001b[0m \u001b[0;34m=\u001b[0m \u001b[0minterpolate\u001b[0m\u001b[0;34m(\u001b[0m\u001b[0mf\u001b[0m\u001b[0;34m,\u001b[0m \u001b[0mV\u001b[0m\u001b[0;34m)\u001b[0m\u001b[0;34m\u001b[0m\u001b[0;34m\u001b[0m\u001b[0m\n",
      "\u001b[0;32m/anaconda3/lib/python3.6/site-packages/dolfin/function/functionspace.py\u001b[0m in \u001b[0;36m__init__\u001b[0;34m(self, *args, **kwargs)\u001b[0m\n\u001b[1;32m     31\u001b[0m                 \u001b[0mself\u001b[0m\u001b[0;34m.\u001b[0m\u001b[0m_init_from_ufl\u001b[0m\u001b[0;34m(\u001b[0m\u001b[0;34m*\u001b[0m\u001b[0margs\u001b[0m\u001b[0;34m,\u001b[0m \u001b[0;34m**\u001b[0m\u001b[0mkwargs\u001b[0m\u001b[0;34m)\u001b[0m\u001b[0;34m\u001b[0m\u001b[0;34m\u001b[0m\u001b[0m\n\u001b[1;32m     32\u001b[0m             \u001b[0;32melse\u001b[0m\u001b[0;34m:\u001b[0m\u001b[0;34m\u001b[0m\u001b[0;34m\u001b[0m\u001b[0m\n\u001b[0;32m---> 33\u001b[0;31m                 \u001b[0mself\u001b[0m\u001b[0;34m.\u001b[0m\u001b[0m_init_convenience\u001b[0m\u001b[0;34m(\u001b[0m\u001b[0;34m*\u001b[0m\u001b[0margs\u001b[0m\u001b[0;34m,\u001b[0m \u001b[0;34m**\u001b[0m\u001b[0mkwargs\u001b[0m\u001b[0;34m)\u001b[0m\u001b[0;34m\u001b[0m\u001b[0;34m\u001b[0m\u001b[0m\n\u001b[0m\u001b[1;32m     34\u001b[0m \u001b[0;34m\u001b[0m\u001b[0m\n\u001b[1;32m     35\u001b[0m     \u001b[0;32mdef\u001b[0m \u001b[0m_init_from_ufl\u001b[0m\u001b[0;34m(\u001b[0m\u001b[0mself\u001b[0m\u001b[0;34m,\u001b[0m \u001b[0mmesh\u001b[0m\u001b[0;34m,\u001b[0m \u001b[0melement\u001b[0m\u001b[0;34m,\u001b[0m \u001b[0mconstrained_domain\u001b[0m\u001b[0;34m=\u001b[0m\u001b[0;32mNone\u001b[0m\u001b[0;34m)\u001b[0m\u001b[0;34m:\u001b[0m\u001b[0;34m\u001b[0m\u001b[0;34m\u001b[0m\u001b[0m\n",
      "\u001b[0;32m/anaconda3/lib/python3.6/site-packages/dolfin/function/functionspace.py\u001b[0m in \u001b[0;36m_init_convenience\u001b[0;34m(self, mesh, family, degree, form_degree, constrained_domain, restriction)\u001b[0m\n\u001b[1;32m     98\u001b[0m                                     form_degree=form_degree)\n\u001b[1;32m     99\u001b[0m \u001b[0;34m\u001b[0m\u001b[0m\n\u001b[0;32m--> 100\u001b[0;31m         \u001b[0mself\u001b[0m\u001b[0;34m.\u001b[0m\u001b[0m_init_from_ufl\u001b[0m\u001b[0;34m(\u001b[0m\u001b[0mmesh\u001b[0m\u001b[0;34m,\u001b[0m \u001b[0melement\u001b[0m\u001b[0;34m,\u001b[0m \u001b[0mconstrained_domain\u001b[0m\u001b[0;34m=\u001b[0m\u001b[0mconstrained_domain\u001b[0m\u001b[0;34m)\u001b[0m\u001b[0;34m\u001b[0m\u001b[0;34m\u001b[0m\u001b[0m\n\u001b[0m\u001b[1;32m    101\u001b[0m \u001b[0;34m\u001b[0m\u001b[0m\n\u001b[1;32m    102\u001b[0m     \u001b[0;32mdef\u001b[0m \u001b[0mdolfin_element\u001b[0m\u001b[0;34m(\u001b[0m\u001b[0mself\u001b[0m\u001b[0;34m)\u001b[0m\u001b[0;34m:\u001b[0m\u001b[0;34m\u001b[0m\u001b[0;34m\u001b[0m\u001b[0m\n",
      "\u001b[0;32m/anaconda3/lib/python3.6/site-packages/dolfin/function/functionspace.py\u001b[0m in \u001b[0;36m_init_from_ufl\u001b[0;34m(self, mesh, element, constrained_domain)\u001b[0m\n\u001b[1;32m     41\u001b[0m         \u001b[0;31m# Compile dofmap and element\u001b[0m\u001b[0;34m\u001b[0m\u001b[0;34m\u001b[0m\u001b[0;34m\u001b[0m\u001b[0m\n\u001b[1;32m     42\u001b[0m         ufc_element, ufc_dofmap = ffc_jit(element, form_compiler_parameters=None,\n\u001b[0;32m---> 43\u001b[0;31m                                           mpi_comm=mesh.mpi_comm())\n\u001b[0m\u001b[1;32m     44\u001b[0m         \u001b[0mufc_element\u001b[0m \u001b[0;34m=\u001b[0m \u001b[0mcpp\u001b[0m\u001b[0;34m.\u001b[0m\u001b[0mfem\u001b[0m\u001b[0;34m.\u001b[0m\u001b[0mmake_ufc_finite_element\u001b[0m\u001b[0;34m(\u001b[0m\u001b[0mufc_element\u001b[0m\u001b[0;34m)\u001b[0m\u001b[0;34m\u001b[0m\u001b[0;34m\u001b[0m\u001b[0m\n\u001b[1;32m     45\u001b[0m \u001b[0;34m\u001b[0m\u001b[0m\n",
      "\u001b[0;32m/anaconda3/lib/python3.6/site-packages/dolfin/jit/jit.py\u001b[0m in \u001b[0;36mmpi_jit\u001b[0;34m(*args, **kwargs)\u001b[0m\n\u001b[1;32m     45\u001b[0m         \u001b[0;31m# Just call JIT compiler when running in serial\u001b[0m\u001b[0;34m\u001b[0m\u001b[0;34m\u001b[0m\u001b[0;34m\u001b[0m\u001b[0m\n\u001b[1;32m     46\u001b[0m         \u001b[0;32mif\u001b[0m \u001b[0mMPI\u001b[0m\u001b[0;34m.\u001b[0m\u001b[0msize\u001b[0m\u001b[0;34m(\u001b[0m\u001b[0mmpi_comm\u001b[0m\u001b[0;34m)\u001b[0m \u001b[0;34m==\u001b[0m \u001b[0;36m1\u001b[0m\u001b[0;34m:\u001b[0m\u001b[0;34m\u001b[0m\u001b[0;34m\u001b[0m\u001b[0m\n\u001b[0;32m---> 47\u001b[0;31m             \u001b[0;32mreturn\u001b[0m \u001b[0mlocal_jit\u001b[0m\u001b[0;34m(\u001b[0m\u001b[0;34m*\u001b[0m\u001b[0margs\u001b[0m\u001b[0;34m,\u001b[0m \u001b[0;34m**\u001b[0m\u001b[0mkwargs\u001b[0m\u001b[0;34m)\u001b[0m\u001b[0;34m\u001b[0m\u001b[0;34m\u001b[0m\u001b[0m\n\u001b[0m\u001b[1;32m     48\u001b[0m \u001b[0;34m\u001b[0m\u001b[0m\n\u001b[1;32m     49\u001b[0m         \u001b[0;31m# Default status (0 == ok, 1 == fail)\u001b[0m\u001b[0;34m\u001b[0m\u001b[0;34m\u001b[0m\u001b[0;34m\u001b[0m\u001b[0m\n",
      "\u001b[0;32m/anaconda3/lib/python3.6/site-packages/dolfin/jit/jit.py\u001b[0m in \u001b[0;36mffc_jit\u001b[0;34m(ufl_form, form_compiler_parameters)\u001b[0m\n\u001b[1;32m     95\u001b[0m     \u001b[0mp\u001b[0m\u001b[0;34m.\u001b[0m\u001b[0mupdate\u001b[0m\u001b[0;34m(\u001b[0m\u001b[0mdict\u001b[0m\u001b[0;34m(\u001b[0m\u001b[0mparameters\u001b[0m\u001b[0;34m[\u001b[0m\u001b[0;34m\"form_compiler\"\u001b[0m\u001b[0;34m]\u001b[0m\u001b[0;34m)\u001b[0m\u001b[0;34m)\u001b[0m\u001b[0;34m\u001b[0m\u001b[0;34m\u001b[0m\u001b[0m\n\u001b[1;32m     96\u001b[0m     \u001b[0mp\u001b[0m\u001b[0;34m.\u001b[0m\u001b[0mupdate\u001b[0m\u001b[0;34m(\u001b[0m\u001b[0mform_compiler_parameters\u001b[0m \u001b[0;32mor\u001b[0m \u001b[0;34m{\u001b[0m\u001b[0;34m}\u001b[0m\u001b[0;34m)\u001b[0m\u001b[0;34m\u001b[0m\u001b[0;34m\u001b[0m\u001b[0m\n\u001b[0;32m---> 97\u001b[0;31m     \u001b[0;32mreturn\u001b[0m \u001b[0mffc\u001b[0m\u001b[0;34m.\u001b[0m\u001b[0mjit\u001b[0m\u001b[0;34m(\u001b[0m\u001b[0mufl_form\u001b[0m\u001b[0;34m,\u001b[0m \u001b[0mparameters\u001b[0m\u001b[0;34m=\u001b[0m\u001b[0mp\u001b[0m\u001b[0;34m)\u001b[0m\u001b[0;34m\u001b[0m\u001b[0;34m\u001b[0m\u001b[0m\n\u001b[0m\u001b[1;32m     98\u001b[0m \u001b[0;34m\u001b[0m\u001b[0m\n\u001b[1;32m     99\u001b[0m \u001b[0;34m\u001b[0m\u001b[0m\n",
      "\u001b[0;32m/anaconda3/lib/python3.6/site-packages/ffc/jitcompiler.py\u001b[0m in \u001b[0;36mjit\u001b[0;34m(ufl_object, parameters, indirect)\u001b[0m\n\u001b[1;32m    215\u001b[0m \u001b[0;34m\u001b[0m\u001b[0m\n\u001b[1;32m    216\u001b[0m     \u001b[0;31m# Inspect cache and generate+build if necessary\u001b[0m\u001b[0;34m\u001b[0m\u001b[0;34m\u001b[0m\u001b[0;34m\u001b[0m\u001b[0m\n\u001b[0;32m--> 217\u001b[0;31m     \u001b[0mmodule\u001b[0m \u001b[0;34m=\u001b[0m \u001b[0mjit_build\u001b[0m\u001b[0;34m(\u001b[0m\u001b[0mufl_object\u001b[0m\u001b[0;34m,\u001b[0m \u001b[0mmodule_name\u001b[0m\u001b[0;34m,\u001b[0m \u001b[0mparameters\u001b[0m\u001b[0;34m)\u001b[0m\u001b[0;34m\u001b[0m\u001b[0;34m\u001b[0m\u001b[0m\n\u001b[0m\u001b[1;32m    218\u001b[0m \u001b[0;34m\u001b[0m\u001b[0m\n\u001b[1;32m    219\u001b[0m     \u001b[0;31m# Raise exception on failure to build or import module\u001b[0m\u001b[0;34m\u001b[0m\u001b[0;34m\u001b[0m\u001b[0;34m\u001b[0m\u001b[0m\n",
      "\u001b[0;32m/anaconda3/lib/python3.6/site-packages/ffc/jitcompiler.py\u001b[0m in \u001b[0;36mjit_build\u001b[0;34m(ufl_object, module_name, parameters)\u001b[0m\n\u001b[1;32m    131\u001b[0m                                     \u001b[0mname\u001b[0m\u001b[0;34m=\u001b[0m\u001b[0mmodule_name\u001b[0m\u001b[0;34m,\u001b[0m\u001b[0;34m\u001b[0m\u001b[0;34m\u001b[0m\u001b[0m\n\u001b[1;32m    132\u001b[0m                                     \u001b[0mparams\u001b[0m\u001b[0;34m=\u001b[0m\u001b[0mparams\u001b[0m\u001b[0;34m,\u001b[0m\u001b[0;34m\u001b[0m\u001b[0;34m\u001b[0m\u001b[0m\n\u001b[0;32m--> 133\u001b[0;31m                                     generate=jit_generate)\n\u001b[0m\u001b[1;32m    134\u001b[0m     \u001b[0;32mreturn\u001b[0m \u001b[0mmodule\u001b[0m\u001b[0;34m\u001b[0m\u001b[0;34m\u001b[0m\u001b[0m\n\u001b[1;32m    135\u001b[0m \u001b[0;34m\u001b[0m\u001b[0m\n",
      "\u001b[0;32m/anaconda3/lib/python3.6/site-packages/dijitso/jit.py\u001b[0m in \u001b[0;36mjit\u001b[0;34m(jitable, name, params, generate, send, receive, wait)\u001b[0m\n\u001b[1;32m    215\u001b[0m         \u001b[0;31m# TODO: Parse output to find error(s) for better error messages\u001b[0m\u001b[0;34m\u001b[0m\u001b[0;34m\u001b[0m\u001b[0;34m\u001b[0m\u001b[0m\n\u001b[1;32m    216\u001b[0m         raise DijitsoError(\"Dijitso JIT compilation failed, see '%s' for details\"\n\u001b[0;32m--> 217\u001b[0;31m                            % err_info['fail_dir'], err_info)\n\u001b[0m\u001b[1;32m    218\u001b[0m \u001b[0;34m\u001b[0m\u001b[0m\n\u001b[1;32m    219\u001b[0m     \u001b[0;31m# Return built library and its signature\u001b[0m\u001b[0;34m\u001b[0m\u001b[0;34m\u001b[0m\u001b[0;34m\u001b[0m\u001b[0m\n",
      "\u001b[0;31mDijitsoError\u001b[0m: Dijitso JIT compilation failed, see '/Users/evergreen/Documents/GitHub/classification/code/jitfailure-ffc_element_1976692f3b42bd5ed8bd6c502117e048e08954bb' for details"
     ]
    }
   ],
   "source": [
    "def line_integral(u, A, B, n): \n",
    "    '''Integrate u over segment [A, B] partitioned into n elements'''\n",
    "    assert u.value_rank() == 0\n",
    "    assert len(A) == len(B) > 1 and np.linalg.norm(A-B) > 0\n",
    "    assert n > 0\n",
    "\n",
    "    # Mesh line for integration\n",
    "    mesh_points = [A + t*(B-A) for t in np.linspace(0, 1, n+1)]\n",
    "    tdim, gdim = 1, len(A)\n",
    "    mesh = Mesh()\n",
    "    editor = MeshEditor()\n",
    "    editor.open(mesh, tdim, gdim)\n",
    "    editor.init_vertices(n+1)\n",
    "    editor.init_cells(n)\n",
    "\n",
    "    for vi, v in enumerate(mesh_points): editor.add_vertex(vi, v)\n",
    "\n",
    "    for ci in range(n): editor.add_cell(ci, np.array([ci, ci+1], dtype='uintp'))\n",
    "\n",
    "    editor.close()\n",
    "\n",
    "    # Setup funcion space\n",
    "    elm = u.function_space().ufl_element()\n",
    "    family = elm.family()\n",
    "    degree = elm.degree()\n",
    "    V = FunctionSpace(mesh, family, degree)\n",
    "    v = interpolate(u, V)\n",
    "\n",
    "    return assemble(v*dx)\n",
    "\n",
    "mesh = UnitCubeMesh(2, 4, 5)\n",
    "V = FunctionSpace(mesh, 'CG', 1)\n",
    "f = Expression('x[0]+x[1]+x[2]', degree=1)\n",
    "v = interpolate(f, V)\n",
    "\n",
    "A = np.array([0, 0, 0])\n",
    "B = np.array([1, 1, 1])\n",
    "\n",
    "ans = line_integral(v, A, B, n=100)\n",
    "ans0 = 3*sqrt(3)/2\n",
    "abs(ans-ans0)"
   ]
  },
  {
   "cell_type": "code",
   "execution_count": null,
   "metadata": {},
   "outputs": [],
   "source": []
  },
  {
   "cell_type": "code",
   "execution_count": null,
   "metadata": {},
   "outputs": [],
   "source": []
  },
  {
   "cell_type": "code",
   "execution_count": null,
   "metadata": {},
   "outputs": [],
   "source": []
  },
  {
   "cell_type": "markdown",
   "metadata": {},
   "source": []
  },
  {
   "cell_type": "markdown",
   "metadata": {},
   "source": [
    "# Get Raw Value of Solution (forum tutorials, kept here for reference) "
   ]
  },
  {
   "cell_type": "code",
   "execution_count": 6,
   "metadata": {},
   "outputs": [
    {
     "data": {
      "image/png": "[encoded data removed]",
      "text/plain": [
       "<Figure size 432x288 with 1 Axes>"
      ]
     },
     "metadata": {
      "needs_background": "light"
     },
     "output_type": "display_data"
    },
    {
     "data": {
      "text/plain": [
       "<matplotlib.quiver.Quiver at 0x1178c21d0>"
      ]
     },
     "execution_count": 6,
     "metadata": {},
     "output_type": "execute_result"
    },
    {
     "data": {
      "image/png": "[encoded data removed]",
      "text/plain": [
       "<Figure size 432x288 with 1 Axes>"
      ]
     },
     "metadata": {
      "needs_background": "light"
     },
     "output_type": "display_data"
    }
   ],
   "source": [
    "# tutorial from forum https://fenicsproject.org/qa/1460/numpy-arrays-from-fenics-data/\n",
    "from dolfin import *\n",
    "import numpy as np\n",
    "import pylab as pl\n",
    "\n",
    "mesh = UnitSquareMesh(3,5)\n",
    "V = VectorFunctionSpace(mesh, \"CG\", 1)\n",
    "u = Function(V)\n",
    "\n",
    "# Vertex based data\n",
    "vertex_vector_values = np.zeros(mesh.num_vertices()*2)\n",
    "vertex_vector_values[::2] = mesh.coordinates().sum(1)\n",
    "vertex_vector_values[1::2] = 2-mesh.coordinates().sum(1)\n",
    "# vertex_to_dof_map = V.dofmap().vertex_to_dof_map(mesh)\n",
    "dof_to_vertex_map_values = dof_to_vertex_map(V)\n",
    "\n",
    "u.vector().set_local(vertex_vector_values[dof_to_vertex_map_values])\n",
    "\n",
    "####### NOW GO THE OTHER WAY #####\n",
    "\n",
    "arr = u.vector().vec()\n",
    "coor = mesh.coordinates()\n",
    "# vtd = V.dofmap().dof_to_vertex_map(mesh)\n",
    "vtd = dof_to_vertex_map(V)\n",
    "\n",
    "values = list()\n",
    "for i, dum in enumerate(coor):\n",
    "    values.append([arr[vtd[2*i]],arr[vtd[2*i+1]]])\n",
    "values = np.array(values)\n",
    "\n",
    "\n",
    "#################\n",
    "x = list()\n",
    "y = list()\n",
    "vx = list()\n",
    "vy = list()\n",
    "for i, dum in enumerate(coor):\n",
    "#     print '(%f,%f) -> (%f,%f)' %(coor[i][0], coor[i][1], values[i][0], values[i][1])\n",
    "    x.append(coor[i][0])\n",
    "    y.append(coor[i][1])\n",
    "    vx.append(values[i][0])\n",
    "    vy.append(values[i][1])\n",
    "\n",
    "pl.quiver(x,y,vx,vy)\n",
    "pl.axis([0, 1.3, 0, 1.3])\n",
    "pl.show()\n",
    "plot(u)"
   ]
  },
  {
   "cell_type": "code",
   "execution_count": 7,
   "metadata": {},
   "outputs": [
    {
     "data": {
      "text/plain": [
       "array([[0.33333333, 1.66666667],\n",
       "       [1.2       , 0.8       ],\n",
       "       [0.53333333, 1.46666667],\n",
       "       [0.66666667, 1.33333333],\n",
       "       [0.        , 2.        ],\n",
       "       [0.73333333, 1.26666667],\n",
       "       [1.        , 1.        ],\n",
       "       [1.4       , 0.6       ],\n",
       "       [0.2       , 1.8       ],\n",
       "       [0.93333333, 1.06666667],\n",
       "       [0.86666667, 1.13333333],\n",
       "       [1.6       , 0.4       ],\n",
       "       [0.4       , 1.6       ],\n",
       "       [1.13333333, 0.86666667],\n",
       "       [1.06666667, 0.93333333],\n",
       "       [1.8       , 0.2       ],\n",
       "       [0.6       , 1.4       ],\n",
       "       [1.        , 1.        ],\n",
       "       [1.26666667, 0.73333333],\n",
       "       [2.        , 0.        ],\n",
       "       [1.33333333, 0.66666667],\n",
       "       [1.46666667, 0.53333333],\n",
       "       [0.8       , 1.2       ],\n",
       "       [1.66666667, 0.33333333]])"
      ]
     },
     "execution_count": 7,
     "metadata": {},
     "output_type": "execute_result"
    }
   ],
   "source": [
    "values"
   ]
  },
  {
   "cell_type": "code",
   "execution_count": 16,
   "metadata": {},
   "outputs": [
    {
     "name": "stdout",
     "output_type": "stream",
     "text": [
      "Global dofs associated with cell 0: \n",
      "[ 6 10  7]\n",
      "Global dofs associated with cell 1: \n",
      "[6 3 7]\n",
      "Global dofs associated with cell 2: \n",
      "[10 13 11]\n",
      "Global dofs associated with cell 3: \n",
      "[10  7 11]\n",
      "Global dofs associated with cell 4: \n",
      "[13 15 14]\n",
      "Global dofs associated with cell 5: \n",
      "[13 11 14]\n",
      "Global dofs associated with cell 6: \n",
      "[3 7 4]\n",
      "Global dofs associated with cell 7: \n",
      "[3 1 4]\n",
      "Global dofs associated with cell 8: \n",
      "[ 7 11  8]\n",
      "Global dofs associated with cell 9: \n",
      "[7 4 8]\n",
      "Global dofs associated with cell 10: \n",
      "[11 14 12]\n",
      "Global dofs associated with cell 11: \n",
      "[11  8 12]\n",
      "Global dofs associated with cell 12: \n",
      "[1 4 2]\n",
      "Global dofs associated with cell 13: \n",
      "[1 0 2]\n",
      "Global dofs associated with cell 14: \n",
      "[4 8 5]\n",
      "Global dofs associated with cell 15: \n",
      "[4 2 5]\n",
      "Global dofs associated with cell 16: \n",
      "[ 8 12  9]\n",
      "Global dofs associated with cell 17: \n",
      "[8 5 9]\n"
     ]
    }
   ],
   "source": [
    "# another tutorial\n",
    "from dolfin import *\n",
    "mesh = UnitSquareMesh(3,3)\n",
    "V = FunctionSpace(mesh, \"Lagrange\", 1)\n",
    "\n",
    "for (i, cell) in enumerate(cells(V.mesh())):\n",
    "        print(\"Global dofs associated with cell %d: \" % i)\n",
    "        print(V.dofmap().cell_dofs(i))\n",
    "#         print(\"The Dof coordinates:\")\n",
    "#         print(V.dofmap().tabulate_coordinates(cell))"
   ]
  },
  {
   "cell_type": "code",
   "execution_count": 143,
   "metadata": {},
   "outputs": [],
   "source": [
    "## yet another \n",
    "import pylab as pl\n",
    "V = VectorFunctionSpace(mesh, \"CG\", 1)\n",
    "u = Function(V)\n",
    "\n",
    "####### set values from u_\n",
    "\n",
    "arr = p_.vector().vec()\n",
    "coor = mesh.coordinates()\n",
    "# vtd = V.dofmap().dof_to_vertex_map(mesh)#deprecated\n",
    "# vtd = dof_to_vertex_map(V)#useful only for \"CG1\" space # https://fenicsproject.org/qa/10767/dof_to_vertex_map-dolfin-1-3-0/\n",
    "# values = list()\n",
    "# n=mesh.num_vertices()\n",
    "# for i in range(n):\n",
    "# #     values.append([arr[vtd[2*i]],arr[vtd[2*i+1]]])\n",
    "#     values.append([arr[myx[i]],arr[myy[i]]])\n",
    "# values = np.array(values)\n",
    "\n",
    "myx = interpolate(Expression(\"x[0]\",degree=2), FunctionSpace(mesh,'CG',1)).vector()\n",
    "myy = interpolate(Expression(\"x[1]\",degree=2), FunctionSpace(mesh,'CG',1)).vector()\n",
    "# myz = interpolate(Expression(\"x[2]\"), FunctionSpace(mesh,'CG',2)).vector()\n",
    "myx=myx.vec()[:]\n",
    "myy=myy.vec()[:]\n",
    "values=np.array([myx,myy])\n",
    "\n",
    "\n",
    "####### set values to u\n",
    "vertex_vector_values = np.zeros(mesh.num_vertices()*2)\n",
    "vertex_vector_values[::2] = values[0,:]\n",
    "vertex_vector_values[1::2] = values[1,:]\n",
    "# vertex_to_dof_map = V.dofmap().vertex_to_dof_map(mesh)\n",
    "dof_to_vertex_map_values = dof_to_vertex_map(V)\n",
    "\n",
    "u.vector().set_local(vertex_vector_values[dof_to_vertex_map_values])"
   ]
  },
  {
   "cell_type": "code",
   "execution_count": null,
   "metadata": {},
   "outputs": [],
   "source": [
    "import SolveParamNS"
   ]
  },
  {
   "cell_type": "code",
   "execution_count": null,
   "metadata": {},
   "outputs": [],
   "source": [
    "# getting data from h5\n",
    "import h5py\n",
    "filename = 'navier_stokes_cylinder/velocity.h5'\n",
    "f = h5py.File(filename, 'r')\n",
    "\n",
    "# List all groups\n",
    "print(\"Keys: %s\" % f.keys())\n",
    "a_group_key = list(f.keys())[0]\n",
    "\n",
    "# # Get the data\n",
    "# data = list(f[a_group_key]\n",
    "f[\"Mesh\"].values()"
   ]
  },
  {
   "cell_type": "code",
   "execution_count": 142,
   "metadata": {},
   "outputs": [
    {
     "data": {
      "image/png": "[encoded data removed]",
      "text/plain": [
       "<Figure size 432x288 with 1 Axes>"
      ]
     },
     "metadata": {
      "needs_background": "light"
     },
     "output_type": "display_data"
    }
   ],
   "source": [
    "# to make an animation with built-in matplotlib method\n",
    "\n",
    "import matplotlib.animation as animation\n",
    "def update_line(num, data, line):\n",
    "    line.set_data(data[..., :num])\n",
    "    return line,\n",
    "fig1 = plt.figure()\n",
    "\n",
    "# Fixing random state for reproducibility\n",
    "# np.random.seed(19680801)\n",
    "\n",
    "data = np.random.rand(2, 25)\n",
    "l, = plt.plot([], [], 'r-')\n",
    "plt.xlim(0, 1)\n",
    "plt.ylim(0, 1)\n",
    "plt.xlabel('x')\n",
    "plt.title('test')\n",
    "line_ani = animation.FuncAnimation(fig1, update_line, 25, fargs=(data, l),\n",
    "                                   interval=50, blit=True)\n",
    "plt.show()"
   ]
  },
  {
   "cell_type": "code",
   "execution_count": 152,
   "metadata": {},
   "outputs": [
    {
     "name": "stdout",
     "output_type": "stream",
     "text": [
      "(2, 1)\n"
     ]
    },
    {
     "ename": "TypeError",
     "evalue": "eval(): incompatible function arguments. The following argument types are supported:\n    1. (self: dolfin.cpp.function.GenericFunction, arg0: numpy.ndarray[float64[m, 1], flags.writeable], arg1: numpy.ndarray[float64[m, 1]], arg2: dolfin::Cell) -> None\n    2. (self: dolfin.cpp.function.GenericFunction, arg0: numpy.ndarray[float64[m, 1], flags.writeable], arg1: numpy.ndarray[float64[m, 1]], arg2: dolfin.cpp.function.ufc_cell) -> None\n    3. (self: dolfin.cpp.function.GenericFunction, values: numpy.ndarray[float64[m, 1], flags.writeable], x: numpy.ndarray[float64[m, 1]]) -> None\n\nInvoked with: <dolfin.cpp.function.Function object at 0x123041618>, array([[0],\n       [0]]), array([[0],\n       [0]])",
     "output_type": "error",
     "traceback": [
      "\u001b[0;31m---------------------------------------------------------------------------\u001b[0m",
      "\u001b[0;31mTypeError\u001b[0m                                 Traceback (most recent call last)",
      "\u001b[0;32m<ipython-input-152-43d1d7512c2a>\u001b[0m in \u001b[0;36m<module>\u001b[0;34m\u001b[0m\n\u001b[1;32m      1\u001b[0m \u001b[0mprint\u001b[0m\u001b[0;34m(\u001b[0m\u001b[0mnp\u001b[0m\u001b[0;34m.\u001b[0m\u001b[0marray\u001b[0m\u001b[0;34m(\u001b[0m\u001b[0;34m[\u001b[0m\u001b[0;36m0\u001b[0m\u001b[0;34m,\u001b[0m\u001b[0;36m0\u001b[0m\u001b[0;34m]\u001b[0m\u001b[0;34m)\u001b[0m\u001b[0;34m.\u001b[0m\u001b[0mreshape\u001b[0m\u001b[0;34m(\u001b[0m\u001b[0;36m2\u001b[0m\u001b[0;34m,\u001b[0m\u001b[0;36m1\u001b[0m\u001b[0;34m)\u001b[0m\u001b[0;34m.\u001b[0m\u001b[0mshape\u001b[0m\u001b[0;34m)\u001b[0m\u001b[0;34m\u001b[0m\u001b[0;34m\u001b[0m\u001b[0m\n\u001b[1;32m      2\u001b[0m \u001b[0mvalues\u001b[0m \u001b[0;34m=\u001b[0m \u001b[0mnp\u001b[0m\u001b[0;34m.\u001b[0m\u001b[0marray\u001b[0m\u001b[0;34m(\u001b[0m\u001b[0;34m[\u001b[0m\u001b[0;36m0\u001b[0m\u001b[0;34m,\u001b[0m\u001b[0;36m0\u001b[0m\u001b[0;34m]\u001b[0m\u001b[0;34m)\u001b[0m\u001b[0;34m.\u001b[0m\u001b[0mreshape\u001b[0m\u001b[0;34m(\u001b[0m\u001b[0;36m2\u001b[0m\u001b[0;34m,\u001b[0m\u001b[0;36m1\u001b[0m\u001b[0;34m)\u001b[0m\u001b[0;34m\u001b[0m\u001b[0;34m\u001b[0m\u001b[0m\n\u001b[0;32m----> 3\u001b[0;31m \u001b[0mu_\u001b[0m\u001b[0;34m.\u001b[0m\u001b[0meval\u001b[0m\u001b[0;34m(\u001b[0m\u001b[0mvalues\u001b[0m\u001b[0;34m,\u001b[0m\u001b[0mnp\u001b[0m\u001b[0;34m.\u001b[0m\u001b[0marray\u001b[0m\u001b[0;34m(\u001b[0m\u001b[0;34m[\u001b[0m\u001b[0;36m0\u001b[0m\u001b[0;34m,\u001b[0m\u001b[0;36m0\u001b[0m\u001b[0;34m]\u001b[0m\u001b[0;34m)\u001b[0m\u001b[0;34m.\u001b[0m\u001b[0mreshape\u001b[0m\u001b[0;34m(\u001b[0m\u001b[0;36m2\u001b[0m\u001b[0;34m,\u001b[0m\u001b[0;36m1\u001b[0m\u001b[0;34m)\u001b[0m\u001b[0;34m)\u001b[0m\u001b[0;34m\u001b[0m\u001b[0;34m\u001b[0m\u001b[0m\n\u001b[0m",
      "\u001b[0;32m/anaconda3/lib/python3.6/site-packages/dolfin/function/function.py\u001b[0m in \u001b[0;36meval\u001b[0;34m(self, u, x)\u001b[0m\n\u001b[1;32m    351\u001b[0m \u001b[0;34m\u001b[0m\u001b[0m\n\u001b[1;32m    352\u001b[0m     \u001b[0;32mdef\u001b[0m \u001b[0meval\u001b[0m\u001b[0;34m(\u001b[0m\u001b[0mself\u001b[0m\u001b[0;34m,\u001b[0m \u001b[0mu\u001b[0m\u001b[0;34m,\u001b[0m \u001b[0mx\u001b[0m\u001b[0;34m)\u001b[0m\u001b[0;34m:\u001b[0m\u001b[0;34m\u001b[0m\u001b[0;34m\u001b[0m\u001b[0m\n\u001b[0;32m--> 353\u001b[0;31m         \u001b[0;32mreturn\u001b[0m \u001b[0mself\u001b[0m\u001b[0;34m.\u001b[0m\u001b[0m_cpp_object\u001b[0m\u001b[0;34m.\u001b[0m\u001b[0meval\u001b[0m\u001b[0;34m(\u001b[0m\u001b[0mu\u001b[0m\u001b[0;34m,\u001b[0m \u001b[0mx\u001b[0m\u001b[0;34m)\u001b[0m\u001b[0;34m\u001b[0m\u001b[0;34m\u001b[0m\u001b[0m\n\u001b[0m\u001b[1;32m    354\u001b[0m \u001b[0;34m\u001b[0m\u001b[0m\n\u001b[1;32m    355\u001b[0m     \u001b[0;32mdef\u001b[0m \u001b[0mextrapolate\u001b[0m\u001b[0;34m(\u001b[0m\u001b[0mself\u001b[0m\u001b[0;34m,\u001b[0m \u001b[0mu\u001b[0m\u001b[0;34m)\u001b[0m\u001b[0;34m:\u001b[0m\u001b[0;34m\u001b[0m\u001b[0;34m\u001b[0m\u001b[0m\n",
      "\u001b[0;31mTypeError\u001b[0m: eval(): incompatible function arguments. The following argument types are supported:\n    1. (self: dolfin.cpp.function.GenericFunction, arg0: numpy.ndarray[float64[m, 1], flags.writeable], arg1: numpy.ndarray[float64[m, 1]], arg2: dolfin::Cell) -> None\n    2. (self: dolfin.cpp.function.GenericFunction, arg0: numpy.ndarray[float64[m, 1], flags.writeable], arg1: numpy.ndarray[float64[m, 1]], arg2: dolfin.cpp.function.ufc_cell) -> None\n    3. (self: dolfin.cpp.function.GenericFunction, values: numpy.ndarray[float64[m, 1], flags.writeable], x: numpy.ndarray[float64[m, 1]]) -> None\n\nInvoked with: <dolfin.cpp.function.Function object at 0x123041618>, array([[0],\n       [0]]), array([[0],\n       [0]])"
     ]
    }
   ],
   "source": [
    "print(np.array([0,0]).reshape(2,1).shape)\n",
    "values = np.array([0,0]).reshape(2,1)\n",
    "u_.eval(values,np.array([0,0]).reshape(2,1))"
   ]
  },
  {
   "cell_type": "code",
   "execution_count": 23,
   "metadata": {},
   "outputs": [
    {
     "data": {
      "text/plain": [
       "-0.0028851738674932834"
      ]
     },
     "execution_count": 23,
     "metadata": {},
     "output_type": "execute_result"
    }
   ],
   "source": [
    "nn=10\n",
    "xx1=np.linspace(1.9,2.1,nn)\n",
    "yy=np.linspace(-2.1,-1.9,nn)\n",
    "xy=zip(xx1,yy)\n",
    "u_at_bd_1 = [i for i in map(u_,[np.array(i) for i in xy])]\n",
    "u_normal_1 = map(lambda x:(x[0]-x[1])/np.sqrt(2),u_at_bd_1)\n",
    "u_avg_1 = sum(u_normal_1)*0.2*2**0.5/nn\n",
    "\n",
    "xx2=np.linspace(1.9,2.1,nn)\n",
    "# yy=np.linspace(2.1,1.9,nn)\n",
    "xy=zip(xx2,yy)\n",
    "u_at_bd_2 = [i for i in map(u_,[np.array(i) for i in xy])]\n",
    "u_normal_2 = map(lambda x:(x[0]+x[1])/np.sqrt(2),u_at_bd_2)\n",
    "u_avg_2 = sum(u_normal_2)*0.2*2**0.5/nn\n",
    "u_avg_2"
   ]
  },
  {
   "cell_type": "code",
   "execution_count": 172,
   "metadata": {},
   "outputs": [
    {
     "ename": "TypeError",
     "evalue": "'<' not supported between instances of 'Mesh' and 'Mesh'",
     "output_type": "error",
     "traceback": [
      "\u001b[0;31m---------------------------------------------------------------------------\u001b[0m",
      "\u001b[0;31mTypeError\u001b[0m                                 Traceback (most recent call last)",
      "\u001b[0;32m<ipython-input-172-4c2daef5e4b8>\u001b[0m in \u001b[0;36m<module>\u001b[0;34m\u001b[0m\n\u001b[1;32m      1\u001b[0m \u001b[0mn\u001b[0m \u001b[0;34m=\u001b[0m \u001b[0mFacetNormal\u001b[0m\u001b[0;34m(\u001b[0m\u001b[0mmesh\u001b[0m\u001b[0;34m)\u001b[0m\u001b[0;34m\u001b[0m\u001b[0;34m\u001b[0m\u001b[0m\n\u001b[0;32m----> 2\u001b[0;31m \u001b[0mflux\u001b[0m \u001b[0;34m=\u001b[0m \u001b[0;34m-\u001b[0m\u001b[0mk\u001b[0m\u001b[0;34m*\u001b[0m\u001b[0mdot\u001b[0m\u001b[0;34m(\u001b[0m\u001b[0mu_\u001b[0m\u001b[0;34m,\u001b[0m \u001b[0mn\u001b[0m\u001b[0;34m)\u001b[0m\u001b[0;34m*\u001b[0m\u001b[0mds\u001b[0m\u001b[0;34m\u001b[0m\u001b[0;34m\u001b[0m\u001b[0m\n\u001b[0m\u001b[1;32m      3\u001b[0m \u001b[0;31m# total_flux = assemble(flux)\u001b[0m\u001b[0;34m\u001b[0m\u001b[0;34m\u001b[0m\u001b[0;34m\u001b[0m\u001b[0m\n",
      "\u001b[0;32m/anaconda3/lib/python3.6/site-packages/ufl/measure.py\u001b[0m in \u001b[0;36m__rmul__\u001b[0;34m(self, integrand)\u001b[0m\n\u001b[1;32m    435\u001b[0m         \u001b[0mdomain\u001b[0m \u001b[0;34m=\u001b[0m \u001b[0mself\u001b[0m\u001b[0;34m.\u001b[0m\u001b[0mufl_domain\u001b[0m\u001b[0;34m(\u001b[0m\u001b[0;34m)\u001b[0m\u001b[0;34m\u001b[0m\u001b[0;34m\u001b[0m\u001b[0m\n\u001b[1;32m    436\u001b[0m         \u001b[0;32mif\u001b[0m \u001b[0mdomain\u001b[0m \u001b[0;32mis\u001b[0m \u001b[0;32mNone\u001b[0m\u001b[0;34m:\u001b[0m\u001b[0;34m\u001b[0m\u001b[0;34m\u001b[0m\u001b[0m\n\u001b[0;32m--> 437\u001b[0;31m             \u001b[0mdomains\u001b[0m \u001b[0;34m=\u001b[0m \u001b[0mextract_domains\u001b[0m\u001b[0;34m(\u001b[0m\u001b[0mintegrand\u001b[0m\u001b[0;34m)\u001b[0m\u001b[0;34m\u001b[0m\u001b[0;34m\u001b[0m\u001b[0m\n\u001b[0m\u001b[1;32m    438\u001b[0m             \u001b[0;32mif\u001b[0m \u001b[0mlen\u001b[0m\u001b[0;34m(\u001b[0m\u001b[0mdomains\u001b[0m\u001b[0;34m)\u001b[0m \u001b[0;34m==\u001b[0m \u001b[0;36m1\u001b[0m\u001b[0;34m:\u001b[0m\u001b[0;34m\u001b[0m\u001b[0;34m\u001b[0m\u001b[0m\n\u001b[1;32m    439\u001b[0m                 \u001b[0mdomain\u001b[0m\u001b[0;34m,\u001b[0m \u001b[0;34m=\u001b[0m \u001b[0mdomains\u001b[0m\u001b[0;34m\u001b[0m\u001b[0;34m\u001b[0m\u001b[0m\n",
      "\u001b[0;32m/anaconda3/lib/python3.6/site-packages/ufl/domain.py\u001b[0m in \u001b[0;36mextract_domains\u001b[0;34m(expr)\u001b[0m\n\u001b[1;32m    349\u001b[0m     \u001b[0;32mfor\u001b[0m \u001b[0mt\u001b[0m \u001b[0;32min\u001b[0m \u001b[0mtraverse_unique_terminals\u001b[0m\u001b[0;34m(\u001b[0m\u001b[0mexpr\u001b[0m\u001b[0;34m)\u001b[0m\u001b[0;34m:\u001b[0m\u001b[0;34m\u001b[0m\u001b[0;34m\u001b[0m\u001b[0m\n\u001b[1;32m    350\u001b[0m         \u001b[0mdomainlist\u001b[0m\u001b[0;34m.\u001b[0m\u001b[0mextend\u001b[0m\u001b[0;34m(\u001b[0m\u001b[0mt\u001b[0m\u001b[0;34m.\u001b[0m\u001b[0mufl_domains\u001b[0m\u001b[0;34m(\u001b[0m\u001b[0;34m)\u001b[0m\u001b[0;34m)\u001b[0m\u001b[0;34m\u001b[0m\u001b[0;34m\u001b[0m\u001b[0m\n\u001b[0;32m--> 351\u001b[0;31m     \u001b[0;32mreturn\u001b[0m \u001b[0msorted\u001b[0m\u001b[0;34m(\u001b[0m\u001b[0mjoin_domains\u001b[0m\u001b[0;34m(\u001b[0m\u001b[0mdomainlist\u001b[0m\u001b[0;34m)\u001b[0m\u001b[0;34m)\u001b[0m\u001b[0;34m\u001b[0m\u001b[0;34m\u001b[0m\u001b[0m\n\u001b[0m\u001b[1;32m    352\u001b[0m \u001b[0;34m\u001b[0m\u001b[0m\n\u001b[1;32m    353\u001b[0m \u001b[0;34m\u001b[0m\u001b[0m\n",
      "\u001b[0;31mTypeError\u001b[0m: '<' not supported between instances of 'Mesh' and 'Mesh'"
     ]
    }
   ],
   "source": [
    "n = FacetNormal(mesh)\n",
    "flux = -k*dot(u_, n)*ds\n",
    "# total_flux = assemble(flux)"
   ]
  },
  {
   "cell_type": "code",
   "execution_count": 29,
   "metadata": {},
   "outputs": [],
   "source": [
    "\n",
    "class INFLOW(UserExpression):\n",
    "    # def set_k_values(self,a):\n",
    "    #     self.a = a\n",
    "    def eval(self, value, x):\n",
    "        \"Set value[0] to value at point x\"\n",
    "        tol = 1E-14\n",
    "        value[0] = 4.0*1.5*(x[1] + 0.2)*(0.2 - x[1]) / pow(0.4, 2)\n",
    "        value[1] = 0\n",
    "\n",
    "    def value_shape(self):\n",
    "        return (2,)\n",
    "    \n",
    "Vtest = VectorFunctionSpace(mesh, 'CG', 1)\n",
    "Vvec = VectorFunctionSpace(mesh, 'P', 2)\n",
    "f = INFLOW()\n",
    "\n",
    "cylinder = 'on_boundary && x[0]>0.91 && x[0]<1.09 && x[1]>-1.09 && x[1]<-0.91'\n",
    "bcu_cylinder = DirichletBC(Vvec, f, cylinder)\n",
    "\n",
    "\n",
    "# interpolate(f,Vvec)"
   ]
  },
  {
   "cell_type": "code",
   "execution_count": 56,
   "metadata": {},
   "outputs": [
    {
     "name": "stderr",
     "output_type": "stream",
     "text": [
      "/anaconda3/lib/python3.6/site-packages/ipykernel_launcher.py:2: RuntimeWarning: divide by zero encountered in true_divide\n",
      "  \n",
      "/anaconda3/lib/python3.6/site-packages/ipykernel_launcher.py:2: RuntimeWarning: divide by zero encountered in log\n",
      "  \n",
      "/anaconda3/lib/python3.6/site-packages/ipykernel_launcher.py:2: RuntimeWarning: invalid value encountered in multiply\n",
      "  \n"
     ]
    },
    {
     "data": {
      "text/plain": [
       "[<matplotlib.lines.Line2D at 0x1140b2358>]"
      ]
     },
     "execution_count": 56,
     "metadata": {},
     "output_type": "execute_result"
    },
    {
     "data": {
      "image/png": "[encoded data removed]",
      "text/plain": [
       "<Figure size 432x288 with 1 Axes>"
      ]
     },
     "metadata": {
      "needs_background": "light"
     },
     "output_type": "display_data"
    }
   ],
   "source": [
    "xxx=np.linspace(-.2,.2,100)\n",
    "yyy=1/(xxx + 0.2)/(0.2 - xxx) * pow(0.4, 2) * np.exp(-0.5*(np.log((0.2+xxx)/(0.2-xxx))-0.1)**2)\n",
    "plt.plot(xxx,yyy)"
   ]
  },
  {
   "cell_type": "code",
   "execution_count": 50,
   "metadata": {},
   "outputs": [
    {
     "data": {
      "text/plain": [
       "1.7422649039658593"
      ]
     },
     "execution_count": 50,
     "metadata": {},
     "output_type": "execute_result"
    }
   ],
   "source": [
    "u_.vector().vec().max()[1]"
   ]
  },
  {
   "cell_type": "code",
   "execution_count": 78,
   "metadata": {},
   "outputs": [
    {
     "data": {
      "text/plain": [
       "[<matplotlib.lines.Line2D at 0x114a14ac8>]"
      ]
     },
     "execution_count": 78,
     "metadata": {},
     "output_type": "execute_result"
    },
    {
     "data": {
      "image/png": "[encoded data removed]",
      "text/plain": [
       "<Figure size 432x288 with 1 Axes>"
      ]
     },
     "metadata": {
      "needs_background": "light"
     },
     "output_type": "display_data"
    }
   ],
   "source": [
    "from scipy.interpolate import interp1d\n",
    "\n",
    "xp=np.array([0,0.025,0.17,0.3,0.38,0.45,0.55,0.65,0.75,0.9,1])\n",
    "yp=np.array([0.17,0.1,1,0.23,0.27,0.0,0.35,0.22,0.22,0.17,0.17])\n",
    "xxx=np.linspace(0,1,100)\n",
    "f = interp1d(xp, yp,kind='cubic')\n",
    "plt.plot(xxx,f(xxx))"
   ]
  },
  {
   "cell_type": "code",
   "execution_count": 82,
   "metadata": {},
   "outputs": [
    {
     "data": {
      "text/plain": [
       "0.17"
      ]
     },
     "execution_count": 82,
     "metadata": {},
     "output_type": "execute_result"
    }
   ],
   "source": [
    "np.float64(f(1))"
   ]
  },
  {
   "cell_type": "code",
   "execution_count": null,
   "metadata": {},
   "outputs": [],
   "source": []
  }
 ],
 "metadata": {
  "kernelspec": {
   "display_name": "Python 3",
   "language": "python",
   "name": "python3"
  },
  "language_info": {
   "codemirror_mode": {
    "name": "ipython",
    "version": 3
   },
   "file_extension": ".py",
   "mimetype": "text/x-python",
   "name": "python",
   "nbconvert_exporter": "python",
   "pygments_lexer": "ipython3",
   "version": "3.6.8"
  }
 },
 "nbformat": 4,
 "nbformat_minor": 2
}
