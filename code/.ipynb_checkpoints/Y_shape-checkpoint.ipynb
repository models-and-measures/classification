{
 "cells": [
  {
   "cell_type": "code",
   "execution_count": 1,
   "metadata": {},
   "outputs": [],
   "source": [
    "%matplotlib inline\n",
    "from fenics import *\n",
    "from mshr import *\n",
    "import numpy as np\n",
    "import matplotlib.pyplot as plt\n",
    "# import mshr\n",
    "import sys\n",
    "# import os\n",
    "# os.environ[\"CC\"]=\"/usr/bin/gcc\"\n",
    "# os.environ[\"CXX\"]=\"/usr/bin/g++\"\n",
    "# os.environ[\"CLANG\"]=\"/usr/bin/clang\"\n",
    "# os.environ[\"CLANGXX\"]=\"/usr/bin/clang++\";\n",
    "# # os.environ[\"PYTHON\"] = \"/anaconda3/bin/python\""
   ]
  },
  {
   "cell_type": "markdown",
   "metadata": {},
   "source": [
    "$$\n",
    "u' + u \\cdot \\nabla(u) - div(\\sigma(u, p)) = f\\\\\n",
    "                                 div(u) = 0\n",
    "$$"
   ]
  },
  {
   "cell_type": "code",
   "execution_count": 2,
   "metadata": {},
   "outputs": [
    {
     "data": {
      "text/plain": [
       "[<matplotlib.lines.Line2D at 0x11bcc8278>,\n",
       " <matplotlib.lines.Line2D at 0x11bcc83c8>]"
      ]
     },
     "execution_count": 2,
     "metadata": {},
     "output_type": "execute_result"
    },
    {
     "data": {
      "image/png": "[encoded data removed]",
      "text/plain": [
       "<Figure size 432x288 with 1 Axes>"
      ]
     },
     "metadata": {
      "needs_background": "light"
     },
     "output_type": "display_data"
    }
   ],
   "source": [
    "# # Create mesh\n",
    "# Gx = 2.2\n",
    "# Gy1 = 0.21\n",
    "# Gy2 = 0.2\n",
    "# Gd = 0.15\n",
    "# Gh1 = sqrt(Gy1**2+Gd**2)\n",
    "# Gh2 = sqrt(Gy2**2+Gd**2)\n",
    "# Gs1 = 1.0\n",
    "# Gs2 = 1.0\n",
    "# Gt1 = np.arctan(Gd/Gy1)\n",
    "# Gt2 = np.arctan(Gd/Gy2)\n",
    "# Gcx = 0.45*Gh2\n",
    "# Gcy = 0.45*Gh2\n",
    "# Gr = 0.03\n",
    "# channel0 = Rectangle(Point(-Gx, -Gy2), Point(0.0, Gy1))\n",
    "# channel1 = Rectangle(Point(0.0, Gy1-Gh1), Point(Gs1, Gy1))\n",
    "# channel1 = MeshTransformation.rotate(generate_mesh(channel1,64),Gt1,2,Point(0.0, Gy1, 0.0))\n",
    "# channel2 = Rectangle(Point(-Gx, -Gy2), Point(0.0, Gy1))\n",
    "# channel2 = MeshTransformation.rotate(generate_mesh(channel2,64),-Gt2,2,Point(0.0, -Gy2, 0.0))\n",
    "# triangle = Rectangle(Point(-Gx, -Gy2), Point(0.0, Gy1))\n",
    "# cylinder = Circle(Point(Gc1, Gc2), Gr)\n",
    "# domain = channel1 - cylinder\n",
    "# mesh = generate_mesh(domain, 64)\n",
    "# plot(mesh)\n",
    "# from mshr import *\n",
    "from dolfin import *\n",
    "from mshr import *\n",
    "a=.5\n",
    "b=.2\n",
    "domain_vertices = [Point(-2.0, -0.2),\n",
    "                   Point(0.0, -0.2),\n",
    "                   Point(1.9,-2.1),\n",
    "                   Point(2.1,-1.9),\n",
    "                   Point(0.2,0),\n",
    "                   Point(2.1,1.9),\n",
    "                   Point(1.9,2.1),\n",
    "                   Point(0.0,0.2),\n",
    "                   Point(-2.0,0.2)]\n",
    "polygon = Polygon(domain_vertices)\n",
    "k=1.0\n",
    "EPS = 0.001 # to destroy symmetry and create turbulance\n",
    "cylinder = Circle(Point(k+EPS,-k+EPS), 0.08)\n",
    "domain = polygon - cylinder\n",
    "#     mesh = generate_mesh(domain, 10)\n",
    "# plot(mesh, interactive=True)\n",
    "mesh = generate_mesh(domain, 64)\n",
    "plot(mesh)"
   ]
  },
  {
   "cell_type": "code",
   "execution_count": 3,
   "metadata": {},
   "outputs": [
    {
     "data": {
      "text/plain": [
       "[None]"
      ]
     },
     "execution_count": 3,
     "metadata": {},
     "output_type": "execute_result"
    }
   ],
   "source": [
    "T = 1              # final time\n",
    "num_steps = 1000   # number of time steps # must satisfy CFL condition\n",
    "dt = T / num_steps # time step size\n",
    "mu = 0.001         # dynamic viscosity\n",
    "rho = 1            # density\n",
    "\n",
    "# Define function spaces\n",
    "V = VectorFunctionSpace(mesh, 'P', 2)\n",
    "Q = FunctionSpace(mesh, 'P', 1)\n",
    "\n",
    "# Define boundaries\n",
    "inflow   = 'near(x[0], -2.0)'\n",
    "outflow  = 'near(x[0]-x[1], 4) || near(x[0]+x[1], 4)'\n",
    "walls    = '((near(x[1], -0.2) || near(x[1], 0.2)) && x[0]<=0)' \\\n",
    "            +' || ((near(x[1] - x[0], 0.2) || near(x[1] + x[0], -0.2)) && x[0]>0 )' \\\n",
    "            +' || ((near(x[1] - x[0], -0.2) || near(x[1] + x[0], 0.2)) && x[0]>0.2 ) '\n",
    "cylinder = 'on_boundary && x[0]>0.91 && x[0]<1.09 && x[1]>-1.09 && x[1]<-0.91'\n",
    "\n",
    "# Define inflow profile\n",
    "inflow_profile = ('4.0*1.5*(x[1] + 0.2)*(0.2 - x[1]) / pow(0.4, 2)', '0')\n",
    "\n",
    "# Define boundary conditions\n",
    "bcu_inflow = DirichletBC(V, Expression(inflow_profile, degree=2), inflow)\n",
    "bcu_walls = DirichletBC(V, Constant((0, 0)), walls)\n",
    "bcu_cylinder = DirichletBC(V, Constant((0, 0)), cylinder)\n",
    "bcp_outflow = DirichletBC(Q, Constant(0), outflow)\n",
    "bcu = [bcu_inflow, bcu_walls, bcu_cylinder]\n",
    "bcp = [bcp_outflow]\n",
    "\n",
    "# Define trial and test functions\n",
    "u = TrialFunction(V)\n",
    "v = TestFunction(V)\n",
    "p = TrialFunction(Q)\n",
    "q = TestFunction(Q)\n",
    "\n",
    "# Define functions for solutions at previous and current time steps\n",
    "u_n = Function(V)\n",
    "u_  = Function(V)\n",
    "p_n = Function(Q)\n",
    "p_  = Function(Q)\n",
    "\n",
    "# Define expressions used in variational forms\n",
    "U  = 0.5*(u_n + u)\n",
    "n  = FacetNormal(mesh)\n",
    "f  = Constant((0, 0))\n",
    "k  = Constant(dt)\n",
    "mu = Constant(mu)\n",
    "rho = Constant(rho)\n",
    "\n",
    "# Define symmetric gradient\n",
    "def epsilon(u):\n",
    "    return sym(nabla_grad(u))\n",
    "\n",
    "# Define stress tensor\n",
    "def sigma(u, p):\n",
    "    return 2*mu*epsilon(u) - p*Identity(len(u))\n",
    "\n",
    "# Define variational problem for step 1\n",
    "F1 = rho*dot((u - u_n) / k, v)*dx \\\n",
    "   + rho*dot(dot(u_n, nabla_grad(u_n)), v)*dx \\\n",
    "   + inner(sigma(U, p_n), epsilon(v))*dx \\\n",
    "   + dot(p_n*n, v)*ds - dot(mu*nabla_grad(U)*n, v)*ds \\\n",
    "   - dot(f, v)*dx\n",
    "a1 = lhs(F1)\n",
    "L1 = rhs(F1)\n",
    "\n",
    "# Define variational problem for step 2\n",
    "a2 = dot(nabla_grad(p), nabla_grad(q))*dx\n",
    "L2 = dot(nabla_grad(p_n), nabla_grad(q))*dx - (1/k)*div(u_)*q*dx\n",
    "\n",
    "# Define variational problem for step 3\n",
    "a3 = dot(u, v)*dx\n",
    "L3 = dot(u_, v)*dx - k*dot(nabla_grad(p_ - p_n), v)*dx\n",
    "\n",
    "# Assemble matrices\n",
    "A1 = assemble(a1)\n",
    "A2 = assemble(a2)\n",
    "A3 = assemble(a3)\n",
    "\n",
    "# Apply boundary conditions to matrices\n",
    "[bc.apply(A1) for bc in bcu]\n",
    "[bc.apply(A2) for bc in bcp]"
   ]
  },
  {
   "cell_type": "code",
   "execution_count": 4,
   "metadata": {},
   "outputs": [
    {
     "name": "stdout",
     "output_type": "stream",
     "text": [
      ">>>>>>>>>>>>>>>>>>"
     ]
    },
    {
     "ename": "RuntimeError",
     "evalue": "\n\n*** -------------------------------------------------------------------------\n*** DOLFIN encountered an error. If you are not able to resolve this issue\n*** using the information listed below, you can ask for help at\n***\n***     fenics-support@googlegroups.com\n***\n*** Remember to include the error message listed below and, if possible,\n*** include a *minimal* running example to reproduce the error.\n***\n*** -------------------------------------------------------------------------\n*** Error:   Unable to solve linear system using PETSc Krylov solver.\n*** Reason:  Solution failed to converge in 0 iterations (PETSc reason DIVERGED_NANORINF, residual norm ||r|| = inf).\n*** Where:   This error was encountered inside PETScKrylovSolver.cpp.\n*** Process: 0\n*** \n*** DOLFIN version: 2018.1.0\n*** Git changeset:  \n*** -------------------------------------------------------------------------\n",
     "output_type": "error",
     "traceback": [
      "\u001b[0;31m---------------------------------------------------------------------------\u001b[0m",
      "\u001b[0;31mRuntimeError\u001b[0m                              Traceback (most recent call last)",
      "\u001b[0;32m<ipython-input-4-7c2c8616f223>\u001b[0m in \u001b[0;36m<module>\u001b[0;34m\u001b[0m\n\u001b[1;32m     24\u001b[0m     \u001b[0mb1\u001b[0m \u001b[0;34m=\u001b[0m \u001b[0massemble\u001b[0m\u001b[0;34m(\u001b[0m\u001b[0mL1\u001b[0m\u001b[0;34m)\u001b[0m\u001b[0;34m\u001b[0m\u001b[0;34m\u001b[0m\u001b[0m\n\u001b[1;32m     25\u001b[0m     \u001b[0;34m[\u001b[0m\u001b[0mbc\u001b[0m\u001b[0;34m.\u001b[0m\u001b[0mapply\u001b[0m\u001b[0;34m(\u001b[0m\u001b[0mb1\u001b[0m\u001b[0;34m)\u001b[0m \u001b[0;32mfor\u001b[0m \u001b[0mbc\u001b[0m \u001b[0;32min\u001b[0m \u001b[0mbcu\u001b[0m\u001b[0;34m]\u001b[0m\u001b[0;34m\u001b[0m\u001b[0;34m\u001b[0m\u001b[0m\n\u001b[0;32m---> 26\u001b[0;31m     \u001b[0msolve\u001b[0m\u001b[0;34m(\u001b[0m\u001b[0mA1\u001b[0m\u001b[0;34m,\u001b[0m \u001b[0mu_\u001b[0m\u001b[0;34m.\u001b[0m\u001b[0mvector\u001b[0m\u001b[0;34m(\u001b[0m\u001b[0;34m)\u001b[0m\u001b[0;34m,\u001b[0m \u001b[0mb1\u001b[0m\u001b[0;34m,\u001b[0m \u001b[0;34m'bicgstab'\u001b[0m\u001b[0;34m,\u001b[0m \u001b[0;34m'hypre_amg'\u001b[0m\u001b[0;34m)\u001b[0m\u001b[0;34m\u001b[0m\u001b[0;34m\u001b[0m\u001b[0m\n\u001b[0m\u001b[1;32m     27\u001b[0m \u001b[0;34m\u001b[0m\u001b[0m\n\u001b[1;32m     28\u001b[0m     \u001b[0;31m# Step 2: Pressure correction step\u001b[0m\u001b[0;34m\u001b[0m\u001b[0;34m\u001b[0m\u001b[0;34m\u001b[0m\u001b[0m\n",
      "\u001b[0;32m/anaconda3/lib/python3.6/site-packages/dolfin/fem/solving.py\u001b[0m in \u001b[0;36msolve\u001b[0;34m(*args, **kwargs)\u001b[0m\n\u001b[1;32m    225\u001b[0m             \u001b[0;32mraise\u001b[0m \u001b[0mRuntimeError\u001b[0m\u001b[0;34m(\u001b[0m\u001b[0;34m\"Not expecting keyword arguments when solving linear algebra problem.\"\u001b[0m\u001b[0;34m)\u001b[0m\u001b[0;34m\u001b[0m\u001b[0;34m\u001b[0m\u001b[0m\n\u001b[1;32m    226\u001b[0m \u001b[0;34m\u001b[0m\u001b[0m\n\u001b[0;32m--> 227\u001b[0;31m         \u001b[0;32mreturn\u001b[0m \u001b[0mdolfin\u001b[0m\u001b[0;34m.\u001b[0m\u001b[0mla\u001b[0m\u001b[0;34m.\u001b[0m\u001b[0msolver\u001b[0m\u001b[0;34m.\u001b[0m\u001b[0msolve\u001b[0m\u001b[0;34m(\u001b[0m\u001b[0;34m*\u001b[0m\u001b[0margs\u001b[0m\u001b[0;34m)\u001b[0m\u001b[0;34m\u001b[0m\u001b[0;34m\u001b[0m\u001b[0m\n\u001b[0m\u001b[1;32m    228\u001b[0m \u001b[0;34m\u001b[0m\u001b[0m\n\u001b[1;32m    229\u001b[0m \u001b[0;34m\u001b[0m\u001b[0m\n",
      "\u001b[0;32m/anaconda3/lib/python3.6/site-packages/dolfin/la/solver.py\u001b[0m in \u001b[0;36msolve\u001b[0;34m(A, x, b, method, preconditioner)\u001b[0m\n\u001b[1;32m     70\u001b[0m     \"\"\"\n\u001b[1;32m     71\u001b[0m \u001b[0;34m\u001b[0m\u001b[0m\n\u001b[0;32m---> 72\u001b[0;31m     \u001b[0;32mreturn\u001b[0m \u001b[0mcpp\u001b[0m\u001b[0;34m.\u001b[0m\u001b[0mla\u001b[0m\u001b[0;34m.\u001b[0m\u001b[0msolve\u001b[0m\u001b[0;34m(\u001b[0m\u001b[0mA\u001b[0m\u001b[0;34m,\u001b[0m \u001b[0mx\u001b[0m\u001b[0;34m,\u001b[0m \u001b[0mb\u001b[0m\u001b[0;34m,\u001b[0m \u001b[0mmethod\u001b[0m\u001b[0;34m,\u001b[0m \u001b[0mpreconditioner\u001b[0m\u001b[0;34m)\u001b[0m\u001b[0;34m\u001b[0m\u001b[0;34m\u001b[0m\u001b[0m\n\u001b[0m",
      "\u001b[0;31mRuntimeError\u001b[0m: \n\n*** -------------------------------------------------------------------------\n*** DOLFIN encountered an error. If you are not able to resolve this issue\n*** using the information listed below, you can ask for help at\n***\n***     fenics-support@googlegroups.com\n***\n*** Remember to include the error message listed below and, if possible,\n*** include a *minimal* running example to reproduce the error.\n***\n*** -------------------------------------------------------------------------\n*** Error:   Unable to solve linear system using PETSc Krylov solver.\n*** Reason:  Solution failed to converge in 0 iterations (PETSc reason DIVERGED_NANORINF, residual norm ||r|| = inf).\n*** Where:   This error was encountered inside PETScKrylovSolver.cpp.\n*** Process: 0\n*** \n*** DOLFIN version: 2018.1.0\n*** Git changeset:  \n*** -------------------------------------------------------------------------\n"
     ]
    }
   ],
   "source": [
    "# Create XDMF files for visualization output\n",
    "xdmffile_u = XDMFFile('navier_stokes_cylinder/velocity.xdmf')\n",
    "xdmffile_p = XDMFFile('navier_stokes_cylinder/pressure.xdmf')\n",
    "\n",
    "# Create time series (for use in reaction_system.py)\n",
    "timeseries_u = TimeSeries('navier_stokes_cylinder/velocity_series')\n",
    "timeseries_p = TimeSeries('navier_stokes_cylinder/pressure_series')\n",
    "\n",
    "# Save mesh to file (for use in reaction_system.py)\n",
    "File('navier_stokes_cylinder/cylinder.xml.gz') << mesh\n",
    "\n",
    "# Create progress bar\n",
    "# progress = Progress('Time-stepping')\n",
    "# set_log_level(PROGRESS)\n",
    "\n",
    "# Time-stepping\n",
    "t = 0\n",
    "for n in range(num_steps):\n",
    "\n",
    "    # Update current time\n",
    "    t += dt\n",
    "\n",
    "    # Step 1: Tentative velocity step\n",
    "    b1 = assemble(L1)\n",
    "    [bc.apply(b1) for bc in bcu]\n",
    "    solve(A1, u_.vector(), b1, 'bicgstab', 'hypre_amg')\n",
    "\n",
    "    # Step 2: Pressure correction step\n",
    "    b2 = assemble(L2)\n",
    "    [bc.apply(b2) for bc in bcp]\n",
    "    solve(A2, p_.vector(), b2, 'bicgstab', 'hypre_amg')\n",
    "\n",
    "    # Step 3: Velocity correction step\n",
    "    b3 = assemble(L3)\n",
    "    solve(A3, u_.vector(), b3, 'cg', 'sor')\n",
    "\n",
    "    # Plot solution\n",
    "#     plot(u_, title='Velocity')\n",
    "#     plot(p_, title='Pressure')\n",
    "\n",
    "    # Save solution to file (XDMF/HDF5)\n",
    "    xdmffile_u.write(u_, t)\n",
    "    xdmffile_p.write(p_, t)\n",
    "\n",
    "    # Save nodal values to file\n",
    "    timeseries_u.store(u_.vector(), t)\n",
    "    timeseries_p.store(p_.vector(), t)\n",
    "\n",
    "    # Update previous solution\n",
    "    u_n.assign(u_)\n",
    "    p_n.assign(p_)\n",
    "\n",
    "    # Update progress bar\n",
    "#     progress.update(t / T)\n",
    "#     print('u max:', u_.vector().array().max())\n",
    "    sys.stdout.write('>')"
   ]
  },
  {
   "cell_type": "code",
   "execution_count": null,
   "metadata": {},
   "outputs": [],
   "source": [
    "plot(u_, title='Velocity')"
   ]
  },
  {
   "cell_type": "code",
   "execution_count": null,
   "metadata": {},
   "outputs": [],
   "source": [
    "plot(p_, title='Pressure')"
   ]
  },
  {
   "cell_type": "code",
   "execution_count": null,
   "metadata": {},
   "outputs": [],
   "source": [
    "import pylab as pl\n",
    "V = VectorFunctionSpace(mesh, \"CG\", 1)\n",
    "u = Function(V)\n",
    "\n",
    "####### set values from u_\n",
    "\n",
    "arr = p_.vector().vec()\n",
    "coor = mesh.coordinates()\n",
    "# vtd = V.dofmap().dof_to_vertex_map(mesh)#deprecated\n",
    "# vtd = dof_to_vertex_map(V)#useful only for \"CG1\" space # https://fenicsproject.org/qa/10767/dof_to_vertex_map-dolfin-1-3-0/\n",
    "# values = list()\n",
    "# n=mesh.num_vertices()\n",
    "# for i in range(n):\n",
    "# #     values.append([arr[vtd[2*i]],arr[vtd[2*i+1]]])\n",
    "#     values.append([arr[myx[i]],arr[myy[i]]])\n",
    "# values = np.array(values)\n",
    "\n",
    "myx = interpolate(Expression(\"x[0]\",degree=2), FunctionSpace(mesh,'CG',1)).vector()\n",
    "myy = interpolate(Expression(\"x[1]\",degree=2), FunctionSpace(mesh,'CG',1)).vector()\n",
    "# myz = interpolate(Expression(\"x[2]\"), FunctionSpace(mesh,'CG',2)).vector()\n",
    "myx=myx.vec()[:]\n",
    "myy=myy.vec()[:]\n",
    "values=np.array([myx,myy])\n",
    "\n",
    "\n",
    "####### set values to u\n",
    "vertex_vector_values = np.zeros(mesh.num_vertices()*2)\n",
    "vertex_vector_values[::2] = values[0,:]\n",
    "vertex_vector_values[1::2] = values[1,:]\n",
    "# vertex_to_dof_map = V.dofmap().vertex_to_dof_map(mesh)\n",
    "dof_to_vertex_map_values = dof_to_vertex_map(V)\n",
    "\n",
    "u.vector().set_local(vertex_vector_values[dof_to_vertex_map_values])"
   ]
  },
  {
   "cell_type": "code",
   "execution_count": null,
   "metadata": {},
   "outputs": [],
   "source": [
    "myx.shape"
   ]
  },
  {
   "cell_type": "code",
   "execution_count": null,
   "metadata": {},
   "outputs": [],
   "source": [
    "x = list()\n",
    "y = list()\n",
    "vx = list()\n",
    "vy = list()\n",
    "for i, dum in enumerate(coor):\n",
    "#     print '(%f,%f) -> (%f,%f)' %(coor[i][0], coor[i][1], values[i][0], values[i][1])\n",
    "    x.append(coor[i][0])\n",
    "    y.append(coor[i][1])\n",
    "#     vx.append(values[i][0])\n",
    "#     vy.append(values[i][1])\n",
    "    vx.append(values[0,i])\n",
    "    vy.append(values[1,i])\n",
    "\n",
    "pl.quiver(x,y,vx,vy)\n",
    "# pl.axis([0, 1.3, 0, 1.3])\n",
    "pl.show()\n",
    "plot(u)"
   ]
  },
  {
   "cell_type": "code",
   "execution_count": null,
   "metadata": {},
   "outputs": [],
   "source": [
    "import h5py\n",
    "filename = 'navier_stokes_cylinder/velocity.h5'\n",
    "f = h5py.File(filename, 'r')\n",
    "\n",
    "# List all groups\n",
    "print(\"Keys: %s\" % f.keys())\n",
    "a_group_key = list(f.keys())[0]\n",
    "\n",
    "# # Get the data\n",
    "# data = list(f[a_group_key]\n",
    "f[\"Mesh\"].values()"
   ]
  },
  {
   "cell_type": "code",
   "execution_count": null,
   "metadata": {},
   "outputs": [],
   "source": [
    "values.shape"
   ]
  },
  {
   "cell_type": "markdown",
   "metadata": {},
   "source": [
    "#### this doesn't work"
   ]
  },
  {
   "cell_type": "markdown",
   "metadata": {},
   "source": [
    "# Get Raw Value of Solution (tutorials)"
   ]
  },
  {
   "cell_type": "code",
   "execution_count": 6,
   "metadata": {},
   "outputs": [
    {
     "data": {
      "image/png": "[encoded data removed]",
      "text/plain": [
       "<Figure size 432x288 with 1 Axes>"
      ]
     },
     "metadata": {
      "needs_background": "light"
     },
     "output_type": "display_data"
    },
    {
     "data": {
      "text/plain": [
       "<matplotlib.quiver.Quiver at 0x1178c21d0>"
      ]
     },
     "execution_count": 6,
     "metadata": {},
     "output_type": "execute_result"
    },
    {
     "data": {
      "image/png": "[encoded data removed]",
      "text/plain": [
       "<Figure size 432x288 with 1 Axes>"
      ]
     },
     "metadata": {
      "needs_background": "light"
     },
     "output_type": "display_data"
    }
   ],
   "source": [
    "# tutorial from forum https://fenicsproject.org/qa/1460/numpy-arrays-from-fenics-data/\n",
    "from dolfin import *\n",
    "import numpy as np\n",
    "import pylab as pl\n",
    "\n",
    "mesh = UnitSquareMesh(3,5)\n",
    "V = VectorFunctionSpace(mesh, \"CG\", 1)\n",
    "u = Function(V)\n",
    "\n",
    "# Vertex based data\n",
    "vertex_vector_values = np.zeros(mesh.num_vertices()*2)\n",
    "vertex_vector_values[::2] = mesh.coordinates().sum(1)\n",
    "vertex_vector_values[1::2] = 2-mesh.coordinates().sum(1)\n",
    "# vertex_to_dof_map = V.dofmap().vertex_to_dof_map(mesh)\n",
    "dof_to_vertex_map_values = dof_to_vertex_map(V)\n",
    "\n",
    "u.vector().set_local(vertex_vector_values[dof_to_vertex_map_values])\n",
    "\n",
    "####### NOW GO THE OTHER WAY #####\n",
    "\n",
    "arr = u.vector().vec()\n",
    "coor = mesh.coordinates()\n",
    "# vtd = V.dofmap().dof_to_vertex_map(mesh)\n",
    "vtd = dof_to_vertex_map(V)\n",
    "\n",
    "values = list()\n",
    "for i, dum in enumerate(coor):\n",
    "    values.append([arr[vtd[2*i]],arr[vtd[2*i+1]]])\n",
    "values = np.array(values)\n",
    "\n",
    "\n",
    "#################\n",
    "x = list()\n",
    "y = list()\n",
    "vx = list()\n",
    "vy = list()\n",
    "for i, dum in enumerate(coor):\n",
    "#     print '(%f,%f) -> (%f,%f)' %(coor[i][0], coor[i][1], values[i][0], values[i][1])\n",
    "    x.append(coor[i][0])\n",
    "    y.append(coor[i][1])\n",
    "    vx.append(values[i][0])\n",
    "    vy.append(values[i][1])\n",
    "\n",
    "pl.quiver(x,y,vx,vy)\n",
    "pl.axis([0, 1.3, 0, 1.3])\n",
    "pl.show()\n",
    "plot(u)"
   ]
  },
  {
   "cell_type": "code",
   "execution_count": 7,
   "metadata": {},
   "outputs": [
    {
     "data": {
      "text/plain": [
       "array([[0.33333333, 1.66666667],\n",
       "       [1.2       , 0.8       ],\n",
       "       [0.53333333, 1.46666667],\n",
       "       [0.66666667, 1.33333333],\n",
       "       [0.        , 2.        ],\n",
       "       [0.73333333, 1.26666667],\n",
       "       [1.        , 1.        ],\n",
       "       [1.4       , 0.6       ],\n",
       "       [0.2       , 1.8       ],\n",
       "       [0.93333333, 1.06666667],\n",
       "       [0.86666667, 1.13333333],\n",
       "       [1.6       , 0.4       ],\n",
       "       [0.4       , 1.6       ],\n",
       "       [1.13333333, 0.86666667],\n",
       "       [1.06666667, 0.93333333],\n",
       "       [1.8       , 0.2       ],\n",
       "       [0.6       , 1.4       ],\n",
       "       [1.        , 1.        ],\n",
       "       [1.26666667, 0.73333333],\n",
       "       [2.        , 0.        ],\n",
       "       [1.33333333, 0.66666667],\n",
       "       [1.46666667, 0.53333333],\n",
       "       [0.8       , 1.2       ],\n",
       "       [1.66666667, 0.33333333]])"
      ]
     },
     "execution_count": 7,
     "metadata": {},
     "output_type": "execute_result"
    }
   ],
   "source": [
    "values"
   ]
  },
  {
   "cell_type": "code",
   "execution_count": 16,
   "metadata": {},
   "outputs": [
    {
     "name": "stdout",
     "output_type": "stream",
     "text": [
      "Global dofs associated with cell 0: \n",
      "[ 6 10  7]\n",
      "Global dofs associated with cell 1: \n",
      "[6 3 7]\n",
      "Global dofs associated with cell 2: \n",
      "[10 13 11]\n",
      "Global dofs associated with cell 3: \n",
      "[10  7 11]\n",
      "Global dofs associated with cell 4: \n",
      "[13 15 14]\n",
      "Global dofs associated with cell 5: \n",
      "[13 11 14]\n",
      "Global dofs associated with cell 6: \n",
      "[3 7 4]\n",
      "Global dofs associated with cell 7: \n",
      "[3 1 4]\n",
      "Global dofs associated with cell 8: \n",
      "[ 7 11  8]\n",
      "Global dofs associated with cell 9: \n",
      "[7 4 8]\n",
      "Global dofs associated with cell 10: \n",
      "[11 14 12]\n",
      "Global dofs associated with cell 11: \n",
      "[11  8 12]\n",
      "Global dofs associated with cell 12: \n",
      "[1 4 2]\n",
      "Global dofs associated with cell 13: \n",
      "[1 0 2]\n",
      "Global dofs associated with cell 14: \n",
      "[4 8 5]\n",
      "Global dofs associated with cell 15: \n",
      "[4 2 5]\n",
      "Global dofs associated with cell 16: \n",
      "[ 8 12  9]\n",
      "Global dofs associated with cell 17: \n",
      "[8 5 9]\n"
     ]
    }
   ],
   "source": [
    "# another tutorial\n",
    "from dolfin import *\n",
    "mesh = UnitSquareMesh(3,3)\n",
    "V = FunctionSpace(mesh, \"Lagrange\", 1)\n",
    "\n",
    "for (i, cell) in enumerate(cells(V.mesh())):\n",
    "        print(\"Global dofs associated with cell %d: \" % i)\n",
    "        print(V.dofmap().cell_dofs(i))\n",
    "#         print(\"The Dof coordinates:\")\n",
    "#         print(V.dofmap().tabulate_coordinates(cell))"
   ]
  },
  {
   "cell_type": "code",
   "execution_count": 13,
   "metadata": {},
   "outputs": [
    {
     "name": "stderr",
     "output_type": "stream",
     "text": [
      "u max:(618, 1.4999684582915893): : 0.10000000000000007it [00:07, 144.66s/it]                       \n"
     ]
    },
    {
     "data": {
      "image/png": "[encoded data removed]",
      "text/plain": [
       "<Figure size 432x288 with 1 Axes>"
      ]
     },
     "metadata": {
      "needs_background": "light"
     },
     "output_type": "display_data"
    }
   ],
   "source": [
    "import SolveParamNS"
   ]
  },
  {
   "cell_type": "code",
   "execution_count": null,
   "metadata": {},
   "outputs": [],
   "source": [
    ", vmin=-4, vmax=4"
   ]
  },
  {
   "cell_type": "code",
   "execution_count": null,
   "metadata": {},
   "outputs": [],
   "source": []
  },
  {
   "cell_type": "code",
   "execution_count": null,
   "metadata": {},
   "outputs": [],
   "source": []
  }
 ],
 "metadata": {
  "kernelspec": {
   "display_name": "Python 3",
   "language": "python",
   "name": "python3"
  },
  "language_info": {
   "codemirror_mode": {
    "name": "ipython",
    "version": 3
   },
   "file_extension": ".py",
   "mimetype": "text/x-python",
   "name": "python",
   "nbconvert_exporter": "python",
   "pygments_lexer": "ipython3",
   "version": "3.6.8"
  }
 },
 "nbformat": 4,
 "nbformat_minor": 2
}
